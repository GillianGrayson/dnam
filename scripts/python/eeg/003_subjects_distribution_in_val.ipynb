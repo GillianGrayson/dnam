{
 "cells": [
  {
   "cell_type": "code",
   "execution_count": null,
   "outputs": [],
   "source": [
    "import pandas as pd\n",
    "import numpy as np\n",
    "import scipy\n",
    "from sklearn.linear_model import ElasticNet, ElasticNetCV\n",
    "from sklearn.model_selection import RepeatedKFold, GridSearchCV\n",
    "from sklearn.metrics import mean_squared_error, mean_absolute_error, r2_score\n",
    "from scripts.python.routines.betas import betas_drop_na\n",
    "from plotly.subplots import make_subplots\n",
    "from numpy.ma import masked_array\n",
    "from scipy import stats\n",
    "from mpl_toolkits.axes_grid1 import make_axes_locatable\n",
    "import pickle\n",
    "import random\n",
    "import plotly.express as px\n",
    "import copy\n",
    "import statsmodels.formula.api as smf\n",
    "from sklearn.metrics import mean_squared_error, mean_absolute_error\n",
    "from scripts.python.pheno.datasets.filter import filter_pheno\n",
    "from scripts.python.pheno.datasets.features import get_column_name, get_status_dict, get_sex_dict\n",
    "from scripts.python.routines.plot.scatter import add_scatter_trace\n",
    "import plotly.graph_objects as go\n",
    "import matplotlib.pyplot as plt\n",
    "import pathlib\n",
    "from scripts.python.routines.manifest import get_manifest\n",
    "from scripts.python.routines.plot.save import save_figure\n",
    "from scripts.python.routines.plot.layout import add_layout, get_axis\n",
    "from scripts.python.routines.plot.p_value import add_p_value_annotation\n",
    "from statsmodels.stats.multitest import multipletests\n",
    "from sklearn.metrics import mean_absolute_error\n",
    "import plotly.io as pio\n",
    "pio.kaleido.scope.mathjax = None\n",
    "from plotly.offline import init_notebook_mode, iplot\n",
    "init_notebook_mode(connected=False)\n",
    "from pathlib import Path\n",
    "from functools import reduce\n",
    "from scipy.stats import chi2_contingency\n",
    "from scipy.stats import kruskal, mannwhitneyu\n",
    "from impyute.imputation.cs import fast_knn, mean, median, random, mice, mode, em\n",
    "from sklearn.manifold import LocallyLinearEmbedding\n",
    "from sklearn.decomposition import PCA\n",
    "from glob import glob\n",
    "import os\n",
    "import functools\n",
    "from tqdm.notebook import tqdm\n",
    "\n",
    "\n",
    "def conjunction(conditions):\n",
    "    return functools.reduce(np.logical_and, conditions)\n",
    "\n",
    "\n",
    "def disjunction(conditions):\n",
    "    return functools.reduce(np.logical_or, conditions)"
   ],
   "metadata": {
    "collapsed": false,
    "pycharm": {
     "name": "#%%\n"
    }
   }
  },
  {
   "cell_type": "markdown",
   "source": [
    "# Plot distribution"
   ],
   "metadata": {
    "collapsed": false,
    "pycharm": {
     "name": "#%% md\n"
    }
   }
  },
  {
   "cell_type": "code",
   "execution_count": null,
   "outputs": [],
   "source": [
    "path = \"E:/YandexDisk/EEG/experiments\"\n",
    "\n",
    "exp_type = '1st_day' # ['1st_day', '2nd_day_sham', '2nd_day_tms']\n",
    "\n",
    "exp_sub_type = 'im'\n",
    "\n",
    "metric_thld = 0.70\n",
    "\n",
    "path_load = f\"{path}/{exp_type}\"\n",
    "path_save = f\"{path}/special/003_subjects_distribution_in_val\"\n",
    "pathlib.Path(f\"{path_save}\").mkdir(parents=True, exist_ok=True)\n",
    "\n",
    "df_data = pd.read_excel(f\"{path_load}/data_new.xlsx\", index_col='index')\n",
    "subjects = sorted(df_data['subject'].unique(), key=lambda x: float(x[1::]))\n",
    "\n",
    "files = glob(f\"{path_load}/cv/{exp_type}_{exp_sub_type}_*/runs/*/cv_progress.xlsx\")\n",
    "dict_files = {}\n",
    "for f in files:\n",
    "    head, tail = os.path.split(f)\n",
    "    dict_files[f] = f\"{head}/cv_ids.xlsx\"\n",
    "\n",
    "metrics_dict = {\n",
    "    'train_f1_score_weighted':metric_thld,\n",
    "    'val_f1_score_weighted': metric_thld\n",
    "}\n",
    "\n",
    "dict_subjects = {s: 0 for s in subjects}\n",
    "for fn_prog, fn_ids in tqdm(dict_files.items()):\n",
    "    df_prog = pd.read_excel(f\"{fn_prog}\", index_col=\"fold\")\n",
    "    df_ids = pd.read_excel(f\"{fn_ids}\", index_col=\"index\")\n",
    "\n",
    "    conditions = [df_prog[metric] > threshold for metric, threshold in metrics_dict.items()]\n",
    "    df_prog = df_prog[conjunction(conditions)]\n",
    "\n",
    "    folds = df_prog.index.values\n",
    "\n",
    "    for fold in folds:\n",
    "        samples = df_ids.loc[df_ids[f\"fold_{fold:04d}\"]=='val', :].index.values\n",
    "        subjects_passed = set(df_data.loc[samples, 'subject'].values)\n",
    "        for subj in subjects_passed:\n",
    "            dict_subjects[subj] += 1\n",
    "\n",
    "fig = go.Figure()\n",
    "\n",
    "for subj in dict_subjects:\n",
    "    fig.add_trace(\n",
    "        go.Bar(\n",
    "            name=subj,\n",
    "            x=[subj],\n",
    "            y=[dict_subjects[subj]],\n",
    "            text=f'{dict_subjects[subj]:d}',\n",
    "            textposition='auto',\n",
    "            orientation='v',\n",
    "        )\n",
    "    )\n",
    "add_layout(fig, f\"\", \"Times in Validation dataset\", f\"\")\n",
    "fig.update_layout({'colorway': px.colors.qualitative.Light24})\n",
    "fig.update_layout(title_xref='paper')\n",
    "fig.update_layout(\n",
    "    autosize=False,\n",
    "    margin=go.layout.Margin(\n",
    "        l=100,\n",
    "        r=20,\n",
    "        b=50,\n",
    "        t=20,\n",
    "        pad=0\n",
    "    )\n",
    ")\n",
    "fig.update_xaxes(tickfont_size=15)\n",
    "fig.update_layout(showlegend=False)\n",
    "fig.update_xaxes(showticklabels=True)\n",
    "fig.update_traces(textposition='auto')\n",
    "save_figure(fig, f\"{path_save}/{exp_type}_{exp_sub_type}_{metric_thld}\")\n"
   ],
   "metadata": {
    "collapsed": false,
    "pycharm": {
     "name": "#%%\n"
    }
   }
  }
 ],
 "metadata": {
  "kernelspec": {
   "name": "pycharm-7948d80f",
   "language": "python",
   "display_name": "PyCharm (dnam)"
  },
  "language_info": {
   "codemirror_mode": {
    "name": "ipython",
    "version": 2
   },
   "file_extension": ".py",
   "mimetype": "text/x-python",
   "name": "python",
   "nbconvert_exporter": "python",
   "pygments_lexer": "ipython2",
   "version": "2.7.6"
  }
 },
 "nbformat": 4,
 "nbformat_minor": 0
}