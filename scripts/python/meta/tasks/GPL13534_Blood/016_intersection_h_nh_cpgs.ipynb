{
 "cells": [
  {
   "cell_type": "code",
   "execution_count": null,
   "outputs": [],
   "source": [
    "import numpy as np\n",
    "import pandas as pd\n",
    "from scripts.python.routines.manifest import get_manifest\n",
    "from scripts.python.preprocessing.serialization.routines.pheno_betas_checking import get_pheno_betas_with_common_subjects\n",
    "import pathlib\n",
    "from tqdm.notebook import tqdm\n",
    "from impyute.imputation.cs import fast_knn, mean, median, random, mice, mode, em\n",
    "from matplotlib_venn import venn2, venn2_circles, venn2_unweighted\n",
    "from matplotlib_venn import venn3, venn3_circles\n",
    "from plotly.subplots import make_subplots\n",
    "import matplotlib.pyplot as plt\n"
   ],
   "metadata": {
    "collapsed": false,
    "pycharm": {
     "name": "#%%\n"
    }
   }
  },
  {
   "cell_type": "code",
   "execution_count": null,
   "outputs": [],
   "source": [
    "\n",
    "path_data = f\"E:/YandexDisk/Work/pydnameth/datasets/meta/tasks/GPL13534_Blood/\"\n",
    "path_save = f\"E:/YandexDisk/Work/pydnameth/draft/03_somewhere/revision/R2_Major_C7\"\n",
    "pathlib.Path(f\"{path_save}\").mkdir(parents=True, exist_ok=True)\n",
    "\n",
    "manifest = get_manifest('GPL13534')\n",
    "\n",
    "cpgs_dict = {\n",
    "    'Parkinson': {\n",
    "        'harmonized': 50911,\n",
    "        'non_harmonized': 43019\n",
    "    },\n",
    "    'Schizophrenia': {\n",
    "        'harmonized': 110137,\n",
    "        'non_harmonized': 35145\n",
    "    }\n",
    "}\n",
    "\n",
    "for disease in cpgs_dict:\n",
    "    cpgs_disease = {}\n",
    "    for data_type in cpgs_dict[disease]:\n",
    "        cpgs_disease[data_type] = set(pd.read_excel(f\"{path_data}/{disease}/{data_type}/cpgs/{cpgs_dict[disease][data_type]}.xlsx\", index_col=\"features\").index.values)\n",
    "        print(f\"{disease} {data_type}: {len(cpgs_disease[data_type])}\")\n",
    "    intxn = list(set.intersection(*list(cpgs_disease.values())))\n",
    "    print(f\"intxn_size: {len(intxn)}\")\n",
    "    df_intxn = pd.DataFrame(index=intxn)\n",
    "    df_intxn.to_excel(f\"{path_save}/{disease}_intxn.xlsx\")\n",
    "\n",
    "    fig, ax = plt.subplots()\n",
    "    venn = venn2(\n",
    "        subsets=(cpgs_disease['harmonized'], cpgs_disease['non_harmonized']),\n",
    "        set_labels=(f\"Harmonized\\n({len(cpgs_disease['harmonized'])})\", f\"Non-harmonized\\n({len(cpgs_disease['non_harmonized'])})\"),\n",
    "        set_colors=('r', 'g'),\n",
    "        alpha=0.5)\n",
    "    venn2_circles(subsets=(cpgs_disease['harmonized'], cpgs_disease['non_harmonized']))\n",
    "    for text in venn.set_labels:\n",
    "        text.set_fontsize(16)\n",
    "    for text in venn.subset_labels:\n",
    "        text.set_fontsize(16)\n",
    "    plt.savefig(f\"{path_save}/{disease}_venn.png\", bbox_inches='tight', dpi=400)\n",
    "    plt.savefig(f\"{path_save}/{disease}_venn.pdf\", bbox_inches='tight', dpi=400)\n",
    "    plt.clf()"
   ],
   "metadata": {
    "collapsed": false,
    "pycharm": {
     "name": "#%%\n"
    }
   }
  }
 ],
 "metadata": {
  "kernelspec": {
   "name": "pycharm-7948d80f",
   "language": "python",
   "display_name": "PyCharm (dnam)"
  },
  "language_info": {
   "codemirror_mode": {
    "name": "ipython",
    "version": 2
   },
   "file_extension": ".py",
   "mimetype": "text/x-python",
   "name": "python",
   "nbconvert_exporter": "python",
   "pygments_lexer": "ipython2",
   "version": "2.7.6"
  }
 },
 "nbformat": 4,
 "nbformat_minor": 0
}