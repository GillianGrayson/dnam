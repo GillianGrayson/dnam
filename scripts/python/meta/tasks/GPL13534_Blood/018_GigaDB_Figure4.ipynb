{
 "cells": [
  {
   "cell_type": "code",
   "execution_count": 1,
   "outputs": [],
   "source": [
    "import pandas as pd\n",
    "import plotly.graph_objects as go\n",
    "from scripts.python.routines.plot.save import save_figure\n",
    "from scripts.python.routines.plot.layout import add_layout\n",
    "import plotly.io as pio\n",
    "pio.kaleido.scope.mathjax = None\n",
    "import pathlib"
   ],
   "metadata": {
    "collapsed": false,
    "pycharm": {
     "name": "#%%\n"
    }
   }
  },
  {
   "cell_type": "markdown",
   "source": [
    "# Plot and data"
   ],
   "metadata": {
    "collapsed": false,
    "pycharm": {
     "name": "#%% md\n"
    }
   }
  },
  {
   "cell_type": "code",
   "execution_count": 5,
   "outputs": [],
   "source": [
    "disease = \"Schizophrenia\"\n",
    "color = \"green\"\n",
    "path = f\"E:/YandexDisk/Work/pydnameth/draft/03_somewhere/initial_submission/Figure4/dim_red/{disease}\"\n",
    "path_save = f\"E:/YandexDisk/Work/pydnameth/draft/03_somewhere/GigaDB/Figure4/{disease}\"\n",
    "pathlib.Path(f\"{path_save}\").mkdir(parents=True, exist_ok=True)\n",
    "\n",
    "n_feat = 10\n",
    "\n",
    "df = pd.read_excel(f\"{path}/feature_importances.xlsx\")\n",
    "df['importance'] = df['importance'] / df['importance'].sum()\n",
    "\n",
    "df.head(n_feat).to_csv(f\"{path_save}/feature_importance.csv\", index=False)\n",
    "df.head(n_feat).to_excel(f\"{path_save}/feature_importance.xlsx\", index=False)\n",
    "\n",
    "ys = df.loc[range(n_feat), 'feature'].values[::-1]\n",
    "xs = df.loc[range(n_feat), 'importance'].values[::-1]\n",
    "\n",
    "fig = go.Figure()\n",
    "fig.add_trace(\n",
    "    go.Bar(\n",
    "        x=xs,\n",
    "        y=list(range(len(ys))),\n",
    "        orientation='h',\n",
    "        marker=dict(color=color, opacity=0.9)\n",
    "    )\n",
    ")\n",
    "add_layout(fig, \"Feature importance\", \"\", f\"\")\n",
    "fig.update_layout({'colorway': [color]})\n",
    "fig.update_layout(legend_font_size=20)\n",
    "fig.update_layout(showlegend=False)\n",
    "fig.update_layout(\n",
    "    yaxis = dict(\n",
    "        tickmode = 'array',\n",
    "        tickvals = list(range(len(xs))),\n",
    "        ticktext = ys\n",
    "    )\n",
    ")\n",
    "fig.update_yaxes(autorange=False)\n",
    "fig.update_layout(yaxis_range=[-0.5, len(xs)-0.5])\n",
    "fig.update_yaxes(tickfont_size=24)\n",
    "fig.update_xaxes(tickfont_size=24)\n",
    "fig.update_layout(\n",
    "    autosize=False,\n",
    "    width=800,\n",
    "    height=800,\n",
    "    margin=go.layout.Margin(\n",
    "        l=175,\n",
    "        r=20,\n",
    "        b=100,\n",
    "        t=40,\n",
    "        pad=0\n",
    "    )\n",
    ")\n",
    "save_figure(fig, f\"{path_save}/feature_importances\")"
   ],
   "metadata": {
    "collapsed": false,
    "pycharm": {
     "name": "#%%\n"
    }
   }
  }
 ],
 "metadata": {
  "kernelspec": {
   "name": "pycharm-7948d80f",
   "language": "python",
   "display_name": "PyCharm (dnam)"
  },
  "language_info": {
   "codemirror_mode": {
    "name": "ipython",
    "version": 2
   },
   "file_extension": ".py",
   "mimetype": "text/x-python",
   "name": "python",
   "nbconvert_exporter": "python",
   "pygments_lexer": "ipython2",
   "version": "2.7.6"
  }
 },
 "nbformat": 4,
 "nbformat_minor": 0
}