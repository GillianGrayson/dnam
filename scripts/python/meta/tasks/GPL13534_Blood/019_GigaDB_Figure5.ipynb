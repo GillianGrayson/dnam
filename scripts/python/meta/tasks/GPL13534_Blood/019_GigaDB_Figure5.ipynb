{
 "cells": [
  {
   "cell_type": "code",
   "execution_count": 1,
   "outputs": [],
   "source": [
    "import pandas as pd\n",
    "import plotly.graph_objects as go\n",
    "from scripts.python.routines.plot.save import save_figure\n",
    "from scripts.python.routines.plot.layout import add_layout\n",
    "import plotly.io as pio\n",
    "pio.kaleido.scope.mathjax = None\n",
    "import pathlib"
   ],
   "metadata": {
    "collapsed": false,
    "pycharm": {
     "name": "#%%\n"
    }
   }
  },
  {
   "cell_type": "markdown",
   "source": [
    "# Plot and data"
   ],
   "metadata": {
    "collapsed": false,
    "pycharm": {
     "name": "#%% md\n"
    }
   }
  },
  {
   "cell_type": "code",
   "execution_count": 5,
   "outputs": [],
   "source": [
    "global_path =\n",
    "\n",
    "disease = \"Schizophrenia\"\n",
    "dataset = \"GSE152027\"\n",
    "\n",
    "paths = {\n",
    "    \"GSE152027\": \"E:/YandexDisk/Work/pydnameth/datasets/meta/tasks/GPL13534_Blood/Schizophrenia/harmonized/models_paper/small/GSE152027/Schizophrenia_harmonized_trn_val_tst_catboost_GSE152027_670/multiruns/2022-04-01_07-44-04/1\",\n",
    "    \"GSE116379\": \"E:/YandexDisk/Work/pydnameth/datasets/meta/tasks/GPL13534_Blood/Schizophrenia/harmonized/models_paper/small/GSE116379/Schizophrenia_harmonized_trn_val_tst_catboost_GSE116379_670/multiruns/2022-04-01_23-11-47/2\"\n",
    "}\n",
    "\n",
    "model_types = {\n",
    "    \"GSE152027\": \"catboost\",\n",
    "    \"GSE116379\": \"catboost\"\n",
    "}\n"
   ],
   "metadata": {
    "collapsed": false,
    "pycharm": {
     "name": "#%%\n"
    }
   }
  }
 ],
 "metadata": {
  "kernelspec": {
   "name": "pycharm-7948d80f",
   "language": "python",
   "display_name": "PyCharm (dnam)"
  },
  "language_info": {
   "codemirror_mode": {
    "name": "ipython",
    "version": 2
   },
   "file_extension": ".py",
   "mimetype": "text/x-python",
   "name": "python",
   "nbconvert_exporter": "python",
   "pygments_lexer": "ipython2",
   "version": "2.7.6"
  }
 },
 "nbformat": 4,
 "nbformat_minor": 0
}