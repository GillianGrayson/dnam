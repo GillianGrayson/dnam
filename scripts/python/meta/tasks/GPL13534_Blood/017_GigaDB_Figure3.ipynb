{
 "cells": [
  {
   "cell_type": "code",
   "execution_count": 1,
   "outputs": [],
   "source": [
    "import pandas as pd\n",
    "from scripts.python.routines.manifest import get_manifest\n",
    "from scripts.python.preprocessing.serialization.routines.pheno_betas_checking import get_pheno_betas_with_common_subjects\n",
    "import pathlib\n",
    "from scripts.python.meta.tasks.GPL13534_Blood.routines import perform_test_for_controls\n",
    "from tqdm import tqdm\n",
    "import numpy as np\n",
    "from scripts.python.routines.plot.layout import add_layout, get_axis\n",
    "from scripts.python.routines.plot.save import save_figure\n",
    "import plotly.graph_objects as go\n",
    "import plotly.express as px"
   ],
   "metadata": {
    "collapsed": false,
    "pycharm": {
     "name": "#%%\n"
    }
   }
  },
  {
   "cell_type": "markdown",
   "source": [
    "# Setup"
   ],
   "metadata": {
    "collapsed": false,
    "pycharm": {
     "name": "#%% md\n"
    }
   }
  },
  {
   "cell_type": "code",
   "execution_count": 9,
   "outputs": [],
   "source": [
    "thld_above = 0.5\n",
    "thld_below = 0.05\n",
    "\n",
    "path = f\"E:/YandexDisk/Work/pydnameth/datasets\"\n",
    "datasets_info = pd.read_excel(f\"{path}/datasets.xlsx\", index_col='dataset')\n",
    "manifest = get_manifest('GPL13534')\n",
    "\n",
    "disease = \"Schizophrenia\"\n",
    "if disease == \"Schizophrenia\":\n",
    "    dataset_statuses = {\n",
    "        'GSE84727': ['Control', 'Schizophrenia'],\n",
    "        'GSE80417': ['Control', 'Schizophrenia'],\n",
    "        'GSE152027': ['Control', 'Schizophrenia'],\n",
    "        'GSE116379': ['Control', 'Schizophrenia'],\n",
    "    }\n",
    "    datasets_trn_val = ['GSE84727', 'GSE80417']\n",
    "    datasets_tst = ['GSE152027', 'GSE116379']\n",
    "    target_cps = ['cg04210544', 'cg04863850']\n",
    "\n",
    "else:\n",
    "    dataset_statuses = {\n",
    "        'GSE145361': ['Control', 'Parkinson'],\n",
    "        'GSE111629': ['Control', 'Parkinson'],\n",
    "        'GSE72774': ['Control', 'Parkinson'],\n",
    "    }\n",
    "    datasets_trn_val = ['GSE145361', 'GSE111629']\n",
    "    datasets_tst = ['GSE72774']\n",
    "    target_cps = ['cg23835377', 'cg00488734']\n",
    "\n",
    "task_name = f\"GPL13534_Blood/{disease}\"\n",
    "path_wd = f\"{path}/meta/tasks/{task_name}\"\n",
    "path_save = \"E:/YandexDisk/Work/pydnameth/draft/03_somewhere/GigaDB/Figure3\"\n",
    "pathlib.Path(f\"{path_save}/{disease}\").mkdir(parents=True, exist_ok=True)"
   ],
   "metadata": {
    "collapsed": false,
    "pycharm": {
     "name": "#%%\n"
    }
   }
  },
  {
   "cell_type": "markdown",
   "source": [
    "# Load data"
   ],
   "metadata": {
    "collapsed": false,
    "pycharm": {
     "name": "#%% md\n"
    }
   }
  },
  {
   "cell_type": "code",
   "execution_count": 11,
   "outputs": [
    {
     "name": "stderr",
     "output_type": "stream",
     "text": [
      "C:\\Users\\user\\AppData\\Local\\Temp\\ipykernel_22780\\227894686.py:10: FutureWarning:\n",
      "\n",
      "The frame.append method is deprecated and will be removed from pandas in a future version. Use pandas.concat instead.\n",
      "\n",
      "C:\\Users\\user\\AppData\\Local\\Temp\\ipykernel_22780\\227894686.py:10: FutureWarning:\n",
      "\n",
      "The frame.append method is deprecated and will be removed from pandas in a future version. Use pandas.concat instead.\n",
      "\n"
     ]
    }
   ],
   "source": [
    "pheno_trn_val = pd.DataFrame()\n",
    "pheno_trn_val.index.name = 'subject_id'\n",
    "mvals_trn_val = pd.DataFrame()\n",
    "origin_df = pd.DataFrame()\n",
    "for d_id, dataset in enumerate(datasets_trn_val):\n",
    "    pheno_origin = pd.read_pickle(f\"{path_wd}/origin/pheno_trn_val_{dataset}.pkl\")\n",
    "    mvals_origin = pd.read_pickle(f\"{path_wd}/origin/mvalsT_trn_val_{dataset}.pkl\")\n",
    "    mvals_origin = mvals_origin.T\n",
    "    origin_df_i = pd.merge(pheno_origin, mvals_origin, left_index=True, right_index=True)\n",
    "    origin_df = origin_df.append(origin_df_i, verify_integrity=True)\n",
    "df_trn_val = pd.read_pickle(f\"{path_wd}/harmonized/data_trn_val.pkl\")"
   ],
   "metadata": {
    "collapsed": false,
    "pycharm": {
     "name": "#%%\n"
    }
   }
  },
  {
   "cell_type": "markdown",
   "source": [
    "# Plots and data"
   ],
   "metadata": {
    "collapsed": false,
    "pycharm": {
     "name": "#%% md\n"
    }
   }
  },
  {
   "cell_type": "code",
   "execution_count": 12,
   "outputs": [],
   "source": [
    "data_cols = ['GSM'] + [f\"{x}_{y}_before\" for x in target_cps for y in datasets_trn_val] + [f\"{x}_{y}_after\" for x in target_cps for y in datasets_trn_val]\n",
    "for cpg in target_cps:\n",
    "    dist_num_bins = 25\n",
    "    gene = manifest.at[cpg, 'Gene']\n",
    "    fig = go.Figure()\n",
    "    for dataset in datasets_trn_val:\n",
    "        gsms_i = origin_df.loc[(origin_df['Status'] == 'Control') & (origin_df['Dataset'] == dataset), cpg].index.values\n",
    "        vals_i = origin_df.loc[(origin_df['Status'] == 'Control') & (origin_df['Dataset'] == dataset), cpg].values\n",
    "\n",
    "        data_df = pd.DataFrame(columns=['GSM', f\"{cpg}_{dataset}_before\"])\n",
    "        data_df['GSM'] = gsms_i\n",
    "        data_df[f\"{cpg}_{dataset}_before\"] = vals_i\n",
    "        data_df.to_csv(f\"{path_save}/{disease}/{cpg}_{dataset}_before.csv\", index=False)\n",
    "\n",
    "        fig.add_trace(\n",
    "            go.Violin(\n",
    "                y=vals_i,\n",
    "                name=dataset,\n",
    "                box_visible=True,\n",
    "                meanline_visible=True,\n",
    "                showlegend=False,\n",
    "                marker=dict(line=dict(width=0.3), opacity=0.8),\n",
    "                points='all',\n",
    "                bandwidth=np.ptp(vals_i) / dist_num_bins,\n",
    "                opacity=0.8\n",
    "            )\n",
    "        )\n",
    "    add_layout(fig, \"\", \"M value\", f\"{cpg} ({gene})\")\n",
    "    fig.update_layout(title_xref='paper')\n",
    "    fig.update_layout(legend_font_size=20)\n",
    "    fig.update_xaxes(tickfont_size=15)\n",
    "    fig.update_layout({'colorway': px.colors.qualitative.Set1})\n",
    "    fig.update_layout(\n",
    "        margin=go.layout.Margin(\n",
    "            l=110,\n",
    "            r=20,\n",
    "            b=50,\n",
    "            t=80,\n",
    "            pad=0\n",
    "        )\n",
    "    )\n",
    "    fig.update_layout(\n",
    "        legend=dict(\n",
    "            orientation=\"h\",\n",
    "            yanchor=\"bottom\",\n",
    "            y=1.25,\n",
    "            xanchor=\"center\",\n",
    "            x=0.5\n",
    "        )\n",
    "    )\n",
    "    save_figure(fig, f\"{path_save}/{disease}/{cpg}_before\")\n",
    "\n",
    "    gene = manifest.at[cpg, 'Gene']\n",
    "    fig = go.Figure()\n",
    "    for dataset in datasets_trn_val:\n",
    "        gsms_i = df_trn_val.loc[(origin_df['Status'] == 'Control') & (origin_df['Dataset'] == dataset), cpg].index.values\n",
    "        vals_i = df_trn_val.loc[(df_trn_val['Status'] == 'Control') & (df_trn_val['Dataset'] == dataset), cpg].values\n",
    "\n",
    "        data_df = pd.DataFrame(columns=['GSM', f\"{cpg}_{dataset}_before\"])\n",
    "        data_df['GSM'] = gsms_i\n",
    "        data_df[f\"{cpg}_{dataset}_before\"] = vals_i\n",
    "        data_df.to_csv(f\"{path_save}/{disease}/{cpg}_{dataset}_after.csv\", index=False)\n",
    "\n",
    "        fig.add_trace(\n",
    "            go.Violin(\n",
    "                y=vals_i,\n",
    "                name=dataset,\n",
    "                box_visible=True,\n",
    "                meanline_visible=True,\n",
    "                showlegend=False,\n",
    "                marker=dict(line=dict(width=0.3), opacity=0.8),\n",
    "                points='all',\n",
    "                bandwidth=np.ptp(vals_i) / dist_num_bins,\n",
    "                opacity=0.8\n",
    "            )\n",
    "        )\n",
    "    add_layout(fig, \"\", \"M value\", f\"{cpg} ({gene})\")\n",
    "    fig.update_layout(title_xref='paper')\n",
    "    fig.update_layout(legend_font_size=20)\n",
    "    fig.update_xaxes(tickfont_size=15)\n",
    "    fig.update_layout({'colorway': px.colors.qualitative.Set1})\n",
    "    fig.update_layout(\n",
    "        margin=go.layout.Margin(\n",
    "            l=110,\n",
    "            r=20,\n",
    "            b=50,\n",
    "            t=80,\n",
    "            pad=0\n",
    "        )\n",
    "    )\n",
    "    fig.update_layout(\n",
    "        legend=dict(\n",
    "            orientation=\"h\",\n",
    "            yanchor=\"bottom\",\n",
    "            y=1.25,\n",
    "            xanchor=\"center\",\n",
    "            x=0.5\n",
    "        )\n",
    "    )\n",
    "    save_figure(fig, f\"{path_save}/{disease}/{cpg}_after\")"
   ],
   "metadata": {
    "collapsed": false,
    "pycharm": {
     "name": "#%%\n"
    }
   }
  }
 ],
 "metadata": {
  "kernelspec": {
   "name": "pycharm-7948d80f",
   "language": "python",
   "display_name": "PyCharm (dnam)"
  },
  "language_info": {
   "codemirror_mode": {
    "name": "ipython",
    "version": 2
   },
   "file_extension": ".py",
   "mimetype": "text/x-python",
   "name": "python",
   "nbconvert_exporter": "python",
   "pygments_lexer": "ipython2",
   "version": "2.7.6"
  }
 },
 "nbformat": 4,
 "nbformat_minor": 0
}