{
 "cells": [
  {
   "cell_type": "code",
   "execution_count": null,
   "outputs": [],
   "source": [
    "import numpy as np\n",
    "import pandas as pd\n",
    "from scripts.python.routines.manifest import get_manifest\n",
    "from scripts.python.preprocessing.serialization.routines.pheno_betas_checking import get_pheno_betas_with_common_subjects\n",
    "import pathlib\n",
    "from tqdm.notebook import tqdm\n",
    "from impyute.imputation.cs import fast_knn, mean, median, random, mice, mode, em\n",
    "\n",
    "\n",
    "path = f\"E:/YandexDisk/Work/pydnameth/datasets/meta/tasks/GPL13534_Blood/\"\n",
    "manifest = get_manifest('GPL13534')\n",
    "\n",
    "disease = \"Parkinson\" # \"Parkinson\" \"Schizophrenia\"\n",
    "data_type = \"non_harmonized\"\n",
    "\n",
    "datasets = [\"data_trn_val\", \"data_tst_GSE72774\"]\n",
    "\n",
    "path_load = f\"{path}/{disease}/{data_type}\"\n",
    "\n",
    "df_trn_val = pd.read_pickle(f\"{path_load}/data_trn_val.pkl\")\n",
    "df_tst = pd.read_pickle(f\"{path_load}/data_tst_GSE72774.pkl\")"
   ],
   "metadata": {
    "collapsed": false,
    "pycharm": {
     "name": "#%%\n"
    }
   }
  },
  {
   "cell_type": "code",
   "execution_count": null,
   "outputs": [],
   "source": [
    "cpgs_trn_val_only = list(set(df_trn_val.columns.values) - set(df_tst.columns.values))\n",
    "cpgs_tst_only = list(set(df_tst.columns.values) - set(df_trn_val.columns.values))\n",
    "\n",
    "for f_id, f in enumerate(tqdm(cpgs_trn_val_only, desc=f\"Imputation trn_val\")):\n",
    "    df_tst.loc[:, f] = df_trn_val[f].median()\n",
    "\n",
    "for f_id, f in enumerate(tqdm(cpgs_tst_only, desc=f\"Imputation tst\")):\n",
    "    df_trn_val.loc[:, f] = df_tst[f].median()\n"
   ],
   "metadata": {
    "collapsed": false,
    "pycharm": {
     "name": "#%%\n"
    }
   }
  },
  {
   "cell_type": "code",
   "execution_count": null,
   "outputs": [],
   "source": [
    "df_all = pd.concat([df_trn_val, df_tst])"
   ],
   "metadata": {
    "collapsed": false,
    "pycharm": {
     "name": "#%%\n"
    }
   }
  },
  {
   "cell_type": "code",
   "execution_count": null,
   "outputs": [],
   "source": [
    "cpgs_all = list(set(manifest.index.values).intersection(set(df_all.columns.values)))\n",
    "is_nans = df_all.isnull().values.any()"
   ],
   "metadata": {
    "collapsed": false,
    "pycharm": {
     "name": "#%%\n"
    }
   }
  },
  {
   "cell_type": "code",
   "execution_count": null,
   "outputs": [],
   "source": [
    "df_cpgs_selected = pd.read_excel(f\"{path_load}/cpgs/43019.xlsx\", index_col='features')\n",
    "df_cpgs_selected = df_cpgs_selected.loc[df_cpgs_selected.index.isin(cpgs_all), :]\n",
    "df_cpgs_selected.to_excel(f\"{path_load}/cpgs/{df_cpgs_selected.shape[0]}_trn_val_tst_GSE72774.xlsx\", index=True, index_label=\"features\")"
   ],
   "metadata": {
    "collapsed": false,
    "pycharm": {
     "name": "#%%\n"
    }
   }
  }
 ],
 "metadata": {
  "kernelspec": {
   "name": "pycharm-7948d80f",
   "language": "python",
   "display_name": "PyCharm (dnam)"
  },
  "language_info": {
   "codemirror_mode": {
    "name": "ipython",
    "version": 2
   },
   "file_extension": ".py",
   "mimetype": "text/x-python",
   "name": "python",
   "nbconvert_exporter": "python",
   "pygments_lexer": "ipython2",
   "version": "2.7.6"
  }
 },
 "nbformat": 4,
 "nbformat_minor": 0
}