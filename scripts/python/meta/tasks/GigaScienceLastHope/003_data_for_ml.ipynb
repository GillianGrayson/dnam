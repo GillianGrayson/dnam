{
 "cells": [
  {
   "cell_type": "code",
   "execution_count": 1,
   "metadata": {
    "collapsed": true,
    "pycharm": {
     "name": "#%%\n"
    }
   },
   "outputs": [],
   "source": [
    "import pandas as pd\n",
    "from scripts.python.routines.manifest import get_manifest\n",
    "from scripts.python.preprocessing.serialization.routines.pheno_betas_checking import get_pheno_betas_with_common_subjects\n",
    "import pathlib\n",
    "from scripts.python.meta.tasks.GPL13534_Blood.routines import perform_test_for_controls\n",
    "from tqdm import tqdm\n",
    "import numpy as np\n",
    "from scripts.python.routines.plot.layout import add_layout, get_axis\n",
    "from scripts.python.routines.plot.save import save_figure\n",
    "import plotly.graph_objects as go\n",
    "import plotly.express as px"
   ]
  },
  {
   "cell_type": "code",
   "execution_count": 2,
   "outputs": [],
   "source": [
    "thld_above = 0.5\n",
    "thld_below = 0.05\n",
    "\n",
    "path = f\"E:/YandexDisk/Work/pydnameth/datasets\"\n",
    "datasets_info = pd.read_excel(f\"{path}/datasets.xlsx\", index_col='dataset')\n",
    "manifest = get_manifest('GPL13534')\n",
    "\n",
    "# disease = \"Schizophrenia\"\n",
    "# dataset_statuses = {\n",
    "#     'GSE84727': ['Control', 'Schizophrenia'],\n",
    "#     'GSE80417': ['Control', 'Schizophrenia'],\n",
    "#     'GSE152027': ['Control', 'Schizophrenia'],\n",
    "#     'GSE116379': ['Control', 'Schizophrenia'],\n",
    "#     'GSE41169': ['Control', 'Schizophrenia'],\n",
    "#     'GSE116378': ['Control', 'Schizophrenia'],\n",
    "#     'GSE87571': ['Control'],\n",
    "# }\n",
    "# datasets_trn_val = ['GSE84727', 'GSE80417']\n",
    "# datasets_tst = ['GSE152027', 'GSE116379', 'GSE41169', 'GSE116378', 'GSE87571']\n",
    "\n",
    "disease = \"Parkinson\"\n",
    "dataset_statuses = {\n",
    "    'GSE145361': ['Control', 'Parkinson'],\n",
    "    'GSE111629': ['Control', 'Parkinson'],\n",
    "}\n",
    "datasets_trn_val = ['GSE145361']\n",
    "datasets_tst = ['GSE111629']\n",
    "\n",
    "task_name = f\"GigaScienceLastHope/{disease}\"\n",
    "path_wd = f\"{path}/meta/tasks/{task_name}\"\n",
    "pathlib.Path(f\"{path_wd}/harmonized/cpgs/figs\").mkdir(parents=True, exist_ok=True)\n",
    "pathlib.Path(f\"{path_wd}/harmonized/cpgs/diffs\").mkdir(parents=True, exist_ok=True)\n",
    "pathlib.Path(f\"{path_wd}/non_harmonized/cpgs/figs\").mkdir(parents=True, exist_ok=True)"
   ],
   "metadata": {
    "collapsed": false,
    "pycharm": {
     "name": "#%%\n"
    }
   }
  },
  {
   "cell_type": "code",
   "execution_count": 3,
   "outputs": [
    {
     "name": "stdout",
     "output_type": "stream",
     "text": [
      "GSE145361\n"
     ]
    },
    {
     "name": "stderr",
     "output_type": "stream",
     "text": [
      "C:\\Users\\user\\AppData\\Local\\Temp\\ipykernel_25640\\1770719543.py:20: FutureWarning:\n",
      "\n",
      "The frame.append method is deprecated and will be removed from pandas in a future version. Use pandas.concat instead.\n",
      "\n",
      "C:\\Users\\user\\AppData\\Local\\Temp\\ipykernel_25640\\1770719543.py:34: FutureWarning:\n",
      "\n",
      "The frame.append method is deprecated and will be removed from pandas in a future version. Use pandas.concat instead.\n",
      "\n"
     ]
    },
    {
     "name": "stdout",
     "output_type": "stream",
     "text": [
      "GSE111629\n"
     ]
    },
    {
     "name": "stderr",
     "output_type": "stream",
     "text": [
      "C:\\Users\\user\\AppData\\Local\\Temp\\ipykernel_25640\\1770719543.py:20: FutureWarning:\n",
      "\n",
      "The frame.append method is deprecated and will be removed from pandas in a future version. Use pandas.concat instead.\n",
      "\n",
      "C:\\Users\\user\\AppData\\Local\\Temp\\ipykernel_25640\\1770719543.py:34: FutureWarning:\n",
      "\n",
      "The frame.append method is deprecated and will be removed from pandas in a future version. Use pandas.concat instead.\n",
      "\n"
     ]
    },
    {
     "name": "stdout",
     "output_type": "stream",
     "text": [
      "Number of total subjects in mvals_all_nh: 2460\n",
      "Number of total CpGs in mvals_all_nh: 411867\n",
      "In pheno and betas subjects are the same\n",
      "In pheno and betas subjects have the same order\n",
      "Number of total subjects in mvals_all_h: 2460\n",
      "Number of total CpGs in mvals_all_h: 411867\n",
      "In pheno and betas subjects are the same\n",
      "In pheno and betas subjects have the same order\n"
     ]
    }
   ],
   "source": [
    "# reading harmonized and non-harmonized data\n",
    "pheno_all_nh = pd.DataFrame()\n",
    "pheno_all_nh.index.name = 'subject_id'\n",
    "mvals_all_nh = pd.DataFrame()\n",
    "pheno_all_h = pd.DataFrame()\n",
    "pheno_all_h.index.name = 'subject_id'\n",
    "mvals_all_h = pd.DataFrame()\n",
    "for d_id, dataset in enumerate(dataset_statuses):\n",
    "    print(dataset)\n",
    "    pheno = pd.read_pickle(f\"{path_wd}/origin/pheno_{dataset}.pkl\")\n",
    "    pheno_cols = pheno.columns.values\n",
    "\n",
    "    # non-harmonized\n",
    "    mvals_nh = pd.read_pickle(f\"{path_wd}/origin/mvalsT_{dataset}.pkl\")\n",
    "    mvals_nh = mvals_nh.T\n",
    "    mvals_nh_cols = mvals_nh.columns.values\n",
    "    df_nh = pd.merge(pheno, mvals_nh, left_index=True, right_index=True)\n",
    "    pheno_nh = df_nh.loc[:, pheno_cols]\n",
    "    mvals_nh = df_nh.loc[:, mvals_nh_cols]\n",
    "    pheno_all_nh = pheno_all_nh.append(pheno_nh, verify_integrity=True)\n",
    "    mvals_nh = mvals_nh.T\n",
    "    if d_id == 0:\n",
    "        mvals_all_nh = mvals_nh\n",
    "    else:\n",
    "        mvals_all_nh = mvals_all_nh.merge(mvals_nh, how='inner', left_index=True, right_index=True)\n",
    "\n",
    "    # harmonized\n",
    "    mvals_h = pd.read_csv(f\"{path_wd}/harmonized/r/mvalsT_{dataset}_regRCPqn.txt\", delimiter=\"\\t\", index_col='ID_REF')\n",
    "    mvals_h = mvals_h.T\n",
    "    mvals_h_cols = mvals_h.columns.values\n",
    "    df_h = pd.merge(pheno, mvals_h, left_index=True, right_index=True)\n",
    "    pheno_h = df_h.loc[:, pheno_cols]\n",
    "    mvals_h = df_h.loc[:, mvals_h_cols]\n",
    "    pheno_all_h = pheno_all_h.append(pheno_h, verify_integrity=True)\n",
    "    mvals_h = mvals_h.T\n",
    "    if d_id == 0:\n",
    "        mvals_all_h = mvals_h\n",
    "    else:\n",
    "        mvals_all_h = mvals_all_h.merge(mvals_h, how='inner', left_index=True, right_index=True)\n",
    "\n",
    "mvals_all_nh = mvals_all_nh.T\n",
    "mvals_all_nh.index.name = \"subject_id\"\n",
    "mvals_all_nh = mvals_all_nh.astype('float32')\n",
    "print(f\"Number of total subjects in mvals_all_nh: {mvals_all_nh.shape[0]}\")\n",
    "print(f\"Number of total CpGs in mvals_all_nh: {mvals_all_nh.shape[1]}\")\n",
    "pheno_all_nh, mvals_all_nh = get_pheno_betas_with_common_subjects(pheno_all_nh, mvals_all_nh)\n",
    "feats_nh = pheno_all_nh.columns.values\n",
    "cpgs_nh = mvals_all_nh.columns.values\n",
    "df_all_nh = pd.merge(pheno_all_nh, mvals_all_nh, left_index=True, right_index=True)\n",
    "\n",
    "mvals_all_h = mvals_all_h.T\n",
    "mvals_all_h.index.name = \"subject_id\"\n",
    "mvals_all_h = mvals_all_h.astype('float32')\n",
    "print(f\"Number of total subjects in mvals_all_h: {mvals_all_h.shape[0]}\")\n",
    "print(f\"Number of total CpGs in mvals_all_h: {mvals_all_h.shape[1]}\")\n",
    "pheno_all_h, mvals_all_h = get_pheno_betas_with_common_subjects(pheno_all_h, mvals_all_h)\n",
    "feats_h = pheno_all_h.columns.values\n",
    "cpgs_h = mvals_all_h.columns.values\n",
    "df_all_h = pd.merge(pheno_all_h, mvals_all_h, left_index=True, right_index=True)\n",
    "\n",
    "# Check indexes\n",
    "if df_all_nh.shape != df_all_h.shape:\n",
    "    raise ValueError(f\"Wrong shape\")\n",
    "if list(df_all_nh.index.values) != list(df_all_h.index.values):\n",
    "    raise ValueError(f\"Wrong indexes\")"
   ],
   "metadata": {
    "collapsed": false,
    "pycharm": {
     "name": "#%%\n"
    }
   }
  },
  {
   "cell_type": "code",
   "execution_count": 4,
   "outputs": [
    {
     "name": "stdout",
     "output_type": "stream",
     "text": [
      "df_trn_val_nh shape: (1889, 411869)\n",
      "df_tst_nh shape: (571, 411869)\n",
      "df_trn_val_h shape: (1889, 411869)\n",
      "df_tst_h shape: (571, 411869)\n"
     ]
    }
   ],
   "source": [
    "# Save dfs\n",
    "df_trn_val_nh = df_all_nh.loc[df_all_nh['Dataset'].isin(datasets_trn_val), :]\n",
    "print(f\"df_trn_val_nh shape: {df_trn_val_nh.shape}\")\n",
    "df_trn_val_nh.to_pickle(f\"{path_wd}/non_harmonized/data_trn_val.pkl\")\n",
    "df_tst_nh = df_all_nh.loc[df_all_nh['Dataset'].isin(datasets_tst), :]\n",
    "print(f\"df_tst_nh shape: {df_tst_nh.shape}\")\n",
    "df_tst_nh.to_pickle(f\"{path_wd}/non_harmonized/data_tst.pkl\")\n",
    "\n",
    "df_trn_val_h = df_all_h.loc[df_all_h['Dataset'].isin(datasets_trn_val), :]\n",
    "print(f\"df_trn_val_h shape: {df_trn_val_h.shape}\")\n",
    "df_trn_val_h.to_pickle(f\"{path_wd}/harmonized/data_trn_val.pkl\")\n",
    "df_tst_h = df_all_h.loc[df_all_h['Dataset'].isin(datasets_tst), :]\n",
    "print(f\"df_tst_h shape: {df_tst_h.shape}\")\n",
    "df_tst_h.to_pickle(f\"{path_wd}/harmonized/data_tst.pkl\")"
   ],
   "metadata": {
    "collapsed": false,
    "pycharm": {
     "name": "#%%\n"
    }
   }
  },
  {
   "cell_type": "code",
   "execution_count": 5,
   "outputs": [
    {
     "name": "stderr",
     "output_type": "stream",
     "text": [
      "100%|██████████| 411867/411867 [16:49<00:00, 407.86it/s]\n",
      "100%|██████████| 411867/411867 [02:46<00:00, 2473.78it/s]\n",
      "C:\\Users\\user\\AppData\\Local\\Temp\\ipykernel_25640\\1685776073.py:12: SettingWithCopyWarning:\n",
      "\n",
      "\n",
      "A value is trying to be set on a copy of a slice from a DataFrame\n",
      "\n",
      "See the caveats in the documentation: https://pandas.pydata.org/pandas-docs/stable/user_guide/indexing.html#returning-a-view-versus-a-copy\n",
      "\n"
     ]
    }
   ],
   "source": [
    "# Calc statistics\n",
    "cpgs_metrics_harmonized_df = perform_test_for_controls(list(dataset_statuses.keys()), manifest, df_all_h, cpgs_h, f\"{path_wd}/harmonized/cpgs/figs\", \"M value\")\n",
    "for cpg_id, cpg in enumerate(tqdm(cpgs_h)):\n",
    "    cpgs_metrics_harmonized_df.loc[cpg, \"mean\"] = df_all_h[cpg].mean()\n",
    "    cpgs_metrics_harmonized_df.loc[cpg, \"median\"] = df_all_h[cpg].median()\n",
    "cpgs_metrics_harmonized_df.to_excel(f\"{path_wd}/harmonized/cpgs/{cpgs_metrics_harmonized_df.shape[0]}.xlsx\", index=True)\n",
    "\n",
    "cpgs_metrics_origin_df = pd.read_excel(f\"{path_wd}/origin/cpgs/{cpgs_metrics_harmonized_df.shape[0]}.xlsx\", index_col=\"features\")\n",
    "cpgs_info = cpgs_metrics_origin_df.merge(cpgs_metrics_harmonized_df, left_index=True, right_index=True, suffixes=('_origin', '_harmonized'))\n",
    "cpgs_info['log_diff_harmonized'] = np.log10(cpgs_info.loc[:, 'pval_fdr_bh_harmonized'].values) - np.log10(cpgs_info.loc[:, 'pval_fdr_bh_origin'].values)\n",
    "cpgs_changed = cpgs_info.loc[(cpgs_info['pval_fdr_bh_harmonized'] > thld_above) & (cpgs_info['pval_fdr_bh_origin'] < thld_below), :]\n",
    "cpgs_changed.sort_values(['log_diff_harmonized'], ascending=[False], inplace=True)\n",
    "cpgs_changed.to_excel(f\"{path_wd}/harmonized/cpgs/cpgs_changed_{thld_above}_{thld_below}.xlsx\", index=True)"
   ],
   "metadata": {
    "collapsed": false,
    "pycharm": {
     "name": "#%%\n"
    }
   }
  },
  {
   "cell_type": "code",
   "execution_count": 8,
   "outputs": [],
   "source": [
    "# plotting\n",
    "cpgs_to_plot_df = cpgs_changed.head(20)\n",
    "for cpg_id, (cpg, row) in enumerate(cpgs_to_plot_df.iterrows()):\n",
    "    dist_num_bins = 25\n",
    "    pval = row['pval_fdr_bh_origin']\n",
    "    gene = manifest.at[cpg, 'Gene']\n",
    "    fig = go.Figure()\n",
    "    for dataset in dataset_statuses:\n",
    "        vals = df_all_nh.loc[(df_all_nh['Status'] == 'Control') & (df_all_nh['Dataset'] == dataset), cpg].values\n",
    "        fig.add_trace(\n",
    "            go.Violin(\n",
    "                y=vals,\n",
    "                name=dataset,\n",
    "                box_visible=True,\n",
    "                meanline_visible=True,\n",
    "                showlegend=False,\n",
    "                marker=dict(line=dict(width=0.3), opacity=0.8),\n",
    "                points='all',\n",
    "                bandwidth=np.ptp(vals) / dist_num_bins,\n",
    "                opacity=0.8\n",
    "            )\n",
    "        )\n",
    "    add_layout(fig, \"\", \"M value\", f\"{cpg} ({gene})<br>p-value: {pval:0.2e}\")\n",
    "    fig.update_layout(title_xref='paper')\n",
    "    fig.update_layout(legend_font_size=20)\n",
    "    fig.update_xaxes(tickfont_size=15)\n",
    "    fig.update_layout({'colorway': px.colors.qualitative.Set1})\n",
    "    fig.update_layout(\n",
    "        margin=go.layout.Margin(\n",
    "            l=110,\n",
    "            r=20,\n",
    "            b=50,\n",
    "            t=80,\n",
    "            pad=0\n",
    "        )\n",
    "    )\n",
    "    fig.update_layout(\n",
    "        legend=dict(\n",
    "            orientation=\"h\",\n",
    "            yanchor=\"bottom\",\n",
    "            y=1.25,\n",
    "            xanchor=\"center\",\n",
    "            x=0.5\n",
    "        )\n",
    "    )\n",
    "    save_figure(fig, f\"{path_wd}/harmonized/cpgs/diffs/{cpg_id:03d}_{cpg}_origin\")\n",
    "\n",
    "    pval = row['pval_fdr_bh_harmonized']\n",
    "    gene = manifest.at[cpg, 'Gene']\n",
    "    fig = go.Figure()\n",
    "    for dataset in dataset_statuses:\n",
    "        vals = df_all_h.loc[(df_all_h['Status'] == 'Control') & (df_all_h['Dataset'] == dataset), cpg].values\n",
    "        fig.add_trace(\n",
    "            go.Violin(\n",
    "                y=vals,\n",
    "                name=dataset,\n",
    "                box_visible=True,\n",
    "                meanline_visible=True,\n",
    "                showlegend=False,\n",
    "                marker=dict(line=dict(width=0.3), opacity=0.8),\n",
    "                points='all',\n",
    "                bandwidth=np.ptp(vals) / dist_num_bins,\n",
    "                opacity=0.8\n",
    "            )\n",
    "        )\n",
    "    add_layout(fig, \"\", \"M value\", f\"{cpg} ({gene})<br>p-value: {pval:0.2e}\")\n",
    "    fig.update_layout(title_xref='paper')\n",
    "    fig.update_layout(legend_font_size=20)\n",
    "    fig.update_xaxes(tickfont_size=15)\n",
    "    fig.update_layout({'colorway': px.colors.qualitative.Set1})\n",
    "    fig.update_layout(\n",
    "        margin=go.layout.Margin(\n",
    "            l=110,\n",
    "            r=20,\n",
    "            b=50,\n",
    "            t=80,\n",
    "            pad=0\n",
    "        )\n",
    "    )\n",
    "    fig.update_layout(\n",
    "        legend=dict(\n",
    "            orientation=\"h\",\n",
    "            yanchor=\"bottom\",\n",
    "            y=1.25,\n",
    "            xanchor=\"center\",\n",
    "            x=0.5\n",
    "        )\n",
    "    )\n",
    "    save_figure(fig, f\"{path_wd}/harmonized/cpgs/diffs/{cpg_id:03d}_{cpg}_harmonized\")"
   ],
   "metadata": {
    "collapsed": false,
    "pycharm": {
     "name": "#%%\n"
    }
   }
  }
 ],
 "metadata": {
  "kernelspec": {
   "name": "pycharm-7948d80f",
   "language": "python",
   "display_name": "PyCharm (dnam)"
  },
  "language_info": {
   "codemirror_mode": {
    "name": "ipython",
    "version": 2
   },
   "file_extension": ".py",
   "mimetype": "text/x-python",
   "name": "python",
   "nbconvert_exporter": "python",
   "pygments_lexer": "ipython2",
   "version": "2.7.6"
  }
 },
 "nbformat": 4,
 "nbformat_minor": 0
}