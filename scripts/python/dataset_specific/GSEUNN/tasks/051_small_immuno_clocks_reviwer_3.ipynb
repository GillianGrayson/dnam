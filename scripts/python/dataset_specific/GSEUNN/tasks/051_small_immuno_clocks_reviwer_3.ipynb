{
 "cells": [
  {
   "cell_type": "code",
   "execution_count": null,
   "outputs": [],
   "source": [
    "import pandas as pd\n",
    "import numpy as np\n",
    "from plotly.subplots import make_subplots\n",
    "from scipy import stats\n",
    "import plotly.express as px\n",
    "from scripts.python.routines.plot.scatter import add_scatter_trace\n",
    "import plotly.graph_objects as go\n",
    "from scripts.python.routines.plot.save import save_figure\n",
    "from scripts.python.routines.plot.layout import add_layout, get_axis\n",
    "from statsmodels.stats.multitest import multipletests\n",
    "import plotly.io as pio\n",
    "pio.kaleido.scope.mathjax = None\n",
    "from plotly.offline import init_notebook_mode, iplot\n",
    "init_notebook_mode(connected=False)\n",
    "import matplotlib.pyplot as plt\n",
    "from omegaconf import OmegaConf\n",
    "import seaborn as sns\n",
    "from glob import glob\n",
    "import pathlib\n",
    "from sklearn.metrics import mean_absolute_error\n",
    "from scipy import stats\n",
    "import patchworklib as pw\n",
    "import os\n",
    "import functools\n",
    "from statannotations.Annotator import Annotator\n",
    "from scipy.stats import mannwhitneyu\n",
    "import shap\n",
    "from slugify import slugify\n",
    "import matplotlib.lines as mlines\n",
    "from scripts.python.routines.plot.p_value import add_p_value_annotation\n",
    "\n",
    "\n",
    "\n",
    "def conjunction(conditions):\n",
    "    return functools.reduce(np.logical_and, conditions)\n",
    "\n",
    "\n",
    "def disjunction(conditions):\n",
    "    return functools.reduce(np.logical_or, conditions)"
   ],
   "metadata": {
    "collapsed": false
   }
  },
  {
   "cell_type": "markdown",
   "source": [
    "# 1. Setup path"
   ],
   "metadata": {
    "collapsed": false
   }
  },
  {
   "cell_type": "code",
   "execution_count": null,
   "outputs": [],
   "source": [
    "path = \"D:/YandexDisk/Work/pydnameth/datasets/GPL21145/GSEUNN/special/051_small_immuno_clocks_reviewer_3\"\n",
    "pathlib.Path(f\"{path}\").mkdir(parents=True, exist_ok=True)"
   ],
   "metadata": {
    "collapsed": false
   }
  },
  {
   "cell_type": "markdown",
   "source": [
    "# 2. Fill data with original sample names and add necessary columns"
   ],
   "metadata": {
    "collapsed": false
   }
  },
  {
   "cell_type": "code",
   "execution_count": null,
   "outputs": [],
   "source": [
    "\n",
    "df = pd.read_excel(f\"{path}/data_origin.xlsx\", index_col=0)\n",
    "df_map = pd.read_excel(f\"{path}/data_mapping.xlsx\", index_col=1)\n",
    "df.loc[df.index, 'sample_name'] = df_map.loc[df.index, 'old_index']\n",
    "df.loc[df['Dataset'] == 'Train/Validation', 'Part'] = 'trn_val'\n",
    "df.loc[df['Dataset'] == 'Test Controls', 'Part'] = 'tst_ctrl'\n",
    "df.loc[df['Dataset'] == 'Test ESRD', 'Part'] = 'tst_esrd'\n",
    "df.to_excel(f\"{path}/data.xlsx\", index_label='index')"
   ],
   "metadata": {
    "collapsed": false
   }
  },
  {
   "cell_type": "markdown",
   "source": [
    "# 3. Collect ML results"
   ],
   "metadata": {
    "collapsed": false
   }
  },
  {
   "cell_type": "code",
   "execution_count": null,
   "outputs": [],
   "source": [
    "model = 'widedeep_ft_transformer_trn_val_tst'\n",
    "\n",
    "path_runs = f\"{path}/models/{model}/multiruns\"\n",
    "\n",
    "files = glob(f\"{path_runs}/*/*/metrics_all_best_*.xlsx\")\n",
    "\n",
    "df_tmp = pd.read_excel(files[0], index_col=\"metric\")\n",
    "head, tail = os.path.split(files[0])\n",
    "cfg = OmegaConf.load(f\"{head}/.hydra/overrides.yaml\")\n",
    "params = []\n",
    "for param_pair in cfg:\n",
    "    param, val = param_pair.split('=')\n",
    "    params.append(param)\n",
    "df_res = pd.DataFrame(index=files)\n",
    "\n",
    "for file in files:\n",
    "\n",
    "    head, tail = os.path.split(file)\n",
    "\n",
    "    # Metrics\n",
    "    df_metrics = pd.read_excel(file, index_col=\"metric\")\n",
    "    for metric in df_metrics.index.values:\n",
    "        df_res.at[file, metric + \"_val\"] = df_metrics.at[metric, \"val\"]\n",
    "        df_res.at[file, metric + \"_trn\"] = df_metrics.at[metric, \"trn\"]\n",
    "        df_res.at[file, metric + \"_tst_ctrl\"] = df_metrics.at[metric, \"tst_ctrl\"]\n",
    "        df_res.at[file, metric + \"_tst_esrd\"] = df_metrics.at[metric, \"tst_esrd\"]\n",
    "        df_res.at[file, metric + \"_trn_val\"] = df_metrics.at[metric, \"trn_val\"]\n",
    "        df_res.at[file, metric + \"_val_tst_ctrl\"] = df_metrics.at[metric, \"val_tst_ctrl\"]\n",
    "        df_res.at[file, metric + \"_trn_val_tst_ctrl\"] = df_metrics.at[metric, \"trn_val_tst_ctrl\"]\n",
    "\n",
    "    # Params\n",
    "    cfg = OmegaConf.load(f\"{head}/.hydra/overrides.yaml\")\n",
    "    for param_pair in cfg:\n",
    "        param, val = param_pair.split('=')\n",
    "        df_res.at[file, param] = val\n",
    "\n",
    "df_res[\"train_more_val\"] = False\n",
    "df_res[\"selected\"] = False\n",
    "df_res.loc[df_res[\"mean_absolute_error_trn\"] > df_res[\"mean_absolute_error_val\"], \"train_more_val\"] = True\n",
    "\n",
    "first_columns = [\n",
    "    'selected',\n",
    "    'train_more_val',\n",
    "    'mean_absolute_error_trn',\n",
    "    'mean_absolute_error_val',\n",
    "    'mean_absolute_error_tst_ctrl',\n",
    "    'mean_absolute_error_val_tst_ctrl',\n",
    "    'mean_absolute_error_trn_val_tst_ctrl',\n",
    "    'pearson_corr_coef_trn',\n",
    "    'pearson_corr_coef_val',\n",
    "    'pearson_corr_coef_tst_ctrl',\n",
    "    'pearson_corr_coef_val_tst_ctrl',\n",
    "    'pearson_corr_coef_trn_val_tst_ctrl',\n",
    "    'mean_absolute_error_cv_mean_trn',\n",
    "    'mean_absolute_error_cv_std_trn',\n",
    "    'mean_absolute_error_cv_mean_val',\n",
    "    'mean_absolute_error_cv_std_val',\n",
    "    'pearson_corr_coef_cv_mean_trn',\n",
    "    'pearson_corr_coef_cv_std_trn',\n",
    "    'pearson_corr_coef_cv_mean_val',\n",
    "    'pearson_corr_coef_cv_std_val',\n",
    "]\n",
    "df_res = df_res[first_columns + [col for col in df_res.columns if col not in first_columns]]\n",
    "df_res.to_excel(f\"{path_runs}/summary.xlsx\", index=True, index_label=\"file\")"
   ],
   "metadata": {
    "collapsed": false
   }
  },
  {
   "cell_type": "markdown",
   "source": [
    "# 4. Comment 4: ESRD age acceleration in young group"
   ],
   "metadata": {
    "collapsed": false
   }
  },
  {
   "cell_type": "code",
   "execution_count": null,
   "outputs": [],
   "source": [
    "pathlib.Path(f\"{path}/comment_4\").mkdir(parents=True, exist_ok=True)\n",
    "\n",
    "feats = ['CXCL9', 'CSF1', 'IL6']\n",
    "trgt = 'SImAge'\n",
    "\n",
    "df = pd.read_excel(f\"{path}/data.xlsx\", index_col=0)\n",
    "\n",
    "df_tst_ctrl = df.loc[df['Dataset'] == 'Test Controls', :]\n",
    "df_tst_esrd = df.loc[df['Dataset'] == 'Test ESRD', :]\n",
    "\n",
    "for feat in feats:\n",
    "    legend_handles = []\n",
    "    norm = plt.Normalize(df[trgt].min(), df[trgt].max())\n",
    "    sm = plt.cm.ScalarMappable(cmap=\"spring\", norm=norm)\n",
    "    sm.set_array([])\n",
    "    fig = plt.figure(figsize=(8, 6))\n",
    "    sns.set_theme(style='whitegrid')\n",
    "\n",
    "    scatter = sns.scatterplot(\n",
    "        data=df_tst_ctrl,\n",
    "        x='Age',\n",
    "        y=feat,\n",
    "        palette='spring',\n",
    "        hue=trgt,\n",
    "        linewidth=0.5,\n",
    "        alpha=0.75,\n",
    "        edgecolor=\"k\",\n",
    "        marker='o',\n",
    "        s=50,\n",
    "    )\n",
    "    scatter.get_legend().remove()\n",
    "    legend_handles.append(mlines.Line2D([], [], marker='o', linestyle='None', markeredgecolor='k', markerfacecolor='lightgrey', markersize=10, label='Test Controls'))\n",
    "\n",
    "    scatter = sns.scatterplot(\n",
    "        data=df_tst_esrd,\n",
    "        x='Age',\n",
    "        y=feat,\n",
    "        palette='spring',\n",
    "        hue=trgt,\n",
    "        linewidth=0.5,\n",
    "        alpha=0.75,\n",
    "        edgecolor=\"k\",\n",
    "        marker='X',\n",
    "        s=50,\n",
    "    )\n",
    "    scatter.get_legend().remove()\n",
    "    legend_handles.append(mlines.Line2D([], [], marker='X', linestyle='None', markeredgecolor='k', markerfacecolor='lightgrey', markersize=10, label='Test ESRD'))\n",
    "\n",
    "    plt.legend(handles=legend_handles, title=\"Samples\", bbox_to_anchor=(0, 1.02, 1, 0.2), loc=\"lower left\", mode=\"expand\", borderaxespad=0, ncol=3, frameon=False)\n",
    "    fig.colorbar(sm, label=trgt)\n",
    "    if feat == 'CSF1':\n",
    "        plt.ylim(-100, 2200)\n",
    "    elif  feat == 'IL6':\n",
    "        plt.ylim(-2, 21)\n",
    "    plt.savefig(f\"{path}/comment_4/{feat}.png\", bbox_inches='tight', dpi=400)\n",
    "    plt.savefig(f\"{path}/comment_4/{feat}.pdf\", bbox_inches='tight')\n",
    "    plt.close()"
   ],
   "metadata": {
    "collapsed": false
   }
  },
  {
   "cell_type": "markdown",
   "source": [
    "# 5. Comment 3: PDGFA and PDGFB"
   ],
   "metadata": {
    "collapsed": false
   }
  },
  {
   "cell_type": "code",
   "execution_count": null,
   "outputs": [],
   "source": [
    "pathlib.Path(f\"{path}/comment_3\").mkdir(parents=True, exist_ok=True)"
   ],
   "metadata": {
    "collapsed": false
   }
  },
  {
   "cell_type": "markdown",
   "source": [
    "## Scatter plots"
   ],
   "metadata": {
    "collapsed": false
   }
  },
  {
   "cell_type": "code",
   "execution_count": null,
   "outputs": [],
   "source": [
    "palette = {'Control': 'cyan', 'ESRD': 'magenta'}\n",
    "\n",
    "df = pd.read_excel(f\"{path}/data.xlsx\", index_col=0)\n",
    "\n",
    "df_ctrl = df.loc[df['Status'] == 'Control', :]\n",
    "df_esrd = df.loc[df['Status'] == 'ESRD', :]\n",
    "\n",
    "plt.figure()\n",
    "sns.set_theme(style='whitegrid')\n",
    "xy_min = df[[\"PDGFA\", 'PDGFB']].min().min()\n",
    "xy_max = df[[\"PDGFA\", 'PDGFB']].max().max()\n",
    "xy_ptp = xy_max - xy_min\n",
    "scatter = sns.scatterplot(\n",
    "    data=df,\n",
    "    x=\"PDGFA\",\n",
    "    y=\"PDGFB\",\n",
    "    hue=\"Status\",\n",
    "    palette=palette,\n",
    "    linewidth=0.2,\n",
    "    alpha=0.75,\n",
    "    edgecolor=\"k\",\n",
    "    s=16,\n",
    "    hue_order=list(palette.keys())\n",
    ")\n",
    "plt.savefig(f\"{path}/comment_3/scatter.png\", bbox_inches='tight', dpi=400)\n",
    "plt.savefig(f\"{path}/comment_3/scatter.pdf\", bbox_inches='tight')\n",
    "plt.close()\n",
    "\n",
    "trgts = ['Age', 'SImAge']\n",
    "for trgt in trgts:\n",
    "    legend_handles = []\n",
    "    norm = plt.Normalize(df[trgt].min(), df[trgt].max())\n",
    "    sm = plt.cm.ScalarMappable(cmap=\"spring\", norm=norm)\n",
    "    sm.set_array([])\n",
    "    fig = plt.figure(figsize=(8, 6))\n",
    "    sns.set_theme(style='whitegrid')\n",
    "\n",
    "    scatter = sns.scatterplot(\n",
    "        data=df_ctrl,\n",
    "        x='PDGFA',\n",
    "        y='PDGFB',\n",
    "        palette='spring',\n",
    "        hue=trgt,\n",
    "        linewidth=0.5,\n",
    "        alpha=0.75,\n",
    "        edgecolor=\"k\",\n",
    "        marker='o',\n",
    "        s=50,\n",
    "    )\n",
    "    scatter.get_legend().remove()\n",
    "    legend_handles.append(mlines.Line2D([], [], marker='o', linestyle='None', markeredgecolor='k', markerfacecolor='lightgrey', markersize=10, label='Controls'))\n",
    "\n",
    "    scatter = sns.scatterplot(\n",
    "        data=df_esrd,\n",
    "        x='PDGFA',\n",
    "        y='PDGFB',\n",
    "        palette='spring',\n",
    "        hue=trgt,\n",
    "        linewidth=0.5,\n",
    "        alpha=0.75,\n",
    "        edgecolor=\"k\",\n",
    "        marker='X',\n",
    "        s=50,\n",
    "    )\n",
    "    scatter.get_legend().remove()\n",
    "    legend_handles.append(mlines.Line2D([], [], marker='X', linestyle='None', markeredgecolor='k', markerfacecolor='lightgrey', markersize=10, label='ESRD'))\n",
    "\n",
    "    plt.legend(handles=legend_handles, title=\"Samples\", bbox_to_anchor=(0, 1.02, 1, 0.2), loc=\"lower left\", mode=\"expand\", borderaxespad=0, ncol=3, frameon=False)\n",
    "    fig.colorbar(sm, label=trgt)\n",
    "    plt.savefig(f\"{path}/comment_3/scatter_{trgt}.png\", bbox_inches='tight', dpi=400)\n",
    "    plt.savefig(f\"{path}/comment_3/scatter_{trgt}.pdf\", bbox_inches='tight')\n",
    "    plt.close()"
   ],
   "metadata": {
    "collapsed": false
   }
  },
  {
   "cell_type": "markdown",
   "source": [
    "## Tests for ESRD vs Controls"
   ],
   "metadata": {
    "collapsed": false
   }
  },
  {
   "cell_type": "code",
   "execution_count": null,
   "outputs": [],
   "source": [
    "df = pd.read_excel(f\"{path}/data.xlsx\", index_col=0)\n",
    "\n",
    "palette = {'Test Controls': 'cyan', 'Test ESRD': 'magenta'}\n",
    "feats = ['PDGFA', 'PDGFB']\n",
    "\n",
    "for feat in feats:\n",
    "    fig = go.Figure()\n",
    "    vals = {}\n",
    "    for group in ['Test Controls', 'Test ESRD']:\n",
    "        vals[group] = df.loc[df['Dataset'] == group, feat].values\n",
    "        pointpos = 1.5\n",
    "        fig.add_trace(\n",
    "            go.Violin(\n",
    "                y=vals[group],\n",
    "                name=group,\n",
    "                box_visible=True,\n",
    "                meanline_visible=True,\n",
    "                showlegend=False,\n",
    "                line_color='black',\n",
    "                fillcolor=palette[group],\n",
    "                marker=dict(color=palette[group], line=dict(color='black',width=0.3), opacity=0.8),\n",
    "                points='all',\n",
    "                pointpos=pointpos,\n",
    "                bandwidth=np.ptp(vals[group]) / 10,\n",
    "                opacity=0.8\n",
    "            )\n",
    "        )\n",
    "    add_layout(fig, f\"\", feat, f\"\")\n",
    "    fig.update_layout(title_xref='paper')\n",
    "    fig.update_layout(legend_font_size=20)\n",
    "    fig.update_xaxes(autorange=True)\n",
    "    fig.update_layout(legend={'itemsizing': 'constant'})\n",
    "    stat_01, pval_01 = mannwhitneyu(vals['Test Controls'], vals['Test ESRD'], alternative='two-sided')\n",
    "    fig = add_p_value_annotation(fig, {(0,1): pval_01})\n",
    "\n",
    "    fig.update_layout(\n",
    "        violingap=0.35,\n",
    "        violingroupgap=0.35,\n",
    "        width=800,\n",
    "        height=600,\n",
    "        margin=go.layout.Margin(\n",
    "            l=120,\n",
    "            r=50,\n",
    "            b=70,\n",
    "            t=50,\n",
    "            pad=0,\n",
    "        )\n",
    "    )\n",
    "    save_figure(fig, f\"{path}/comment_3/violin_status_{feat}\", scale=2)"
   ],
   "metadata": {
    "collapsed": false
   }
  },
  {
   "cell_type": "markdown",
   "source": [
    "## Tests for Males vs Females"
   ],
   "metadata": {
    "collapsed": false
   }
  },
  {
   "cell_type": "code",
   "execution_count": null,
   "outputs": [],
   "source": [
    "df = pd.read_excel(f\"{path}/data.xlsx\", index_col=0)\n",
    "df = df.loc[df['Status'] == 'Control', :]\n",
    "\n",
    "palette = {'F': 'tomato', 'M': 'slateblue'}\n",
    "feats = ['PDGFA', 'PDGFB']\n",
    "\n",
    "for feat in feats:\n",
    "    fig = go.Figure()\n",
    "    vals = {}\n",
    "    for group in ['F', 'M']:\n",
    "        vals[group] = df.loc[df['Sex'] == group, feat].values\n",
    "        pointpos = 1.5\n",
    "        fig.add_trace(\n",
    "            go.Violin(\n",
    "                y=vals[group],\n",
    "                name=group,\n",
    "                box_visible=True,\n",
    "                meanline_visible=True,\n",
    "                showlegend=False,\n",
    "                line_color='black',\n",
    "                fillcolor=palette[group],\n",
    "                marker=dict(color=palette[group], line=dict(color='black',width=0.3), opacity=0.8),\n",
    "                points='all',\n",
    "                pointpos=pointpos,\n",
    "                bandwidth=np.ptp(vals[group]) / 10,\n",
    "                opacity=0.8\n",
    "            )\n",
    "        )\n",
    "    add_layout(fig, f\"\", feat, f\"\")\n",
    "    fig.update_layout(title_xref='paper')\n",
    "    fig.update_layout(legend_font_size=20)\n",
    "    fig.update_xaxes(autorange=True)\n",
    "    fig.update_layout(legend={'itemsizing': 'constant'})\n",
    "    stat_01, pval_01 = mannwhitneyu(vals['F'], vals['M'], alternative='two-sided')\n",
    "    fig = add_p_value_annotation(fig, {(0,1): pval_01})\n",
    "\n",
    "    fig.update_layout(\n",
    "        violingap=0.35,\n",
    "        violingroupgap=0.35,\n",
    "        width=800,\n",
    "        height=600,\n",
    "        margin=go.layout.Margin(\n",
    "            l=135,\n",
    "            r=50,\n",
    "            b=70,\n",
    "            t=50,\n",
    "            pad=0,\n",
    "        )\n",
    "    )\n",
    "    save_figure(fig, f\"{path}/comment_3/violin_sex_{feat}\", scale=2)"
   ],
   "metadata": {
    "collapsed": false
   }
  },
  {
   "cell_type": "markdown",
   "source": [
    "## Tests for age groups"
   ],
   "metadata": {
    "collapsed": false
   }
  },
  {
   "cell_type": "code",
   "execution_count": null,
   "outputs": [],
   "source": [
    "df = pd.read_excel(f\"{path}/data.xlsx\", index_col=0)\n",
    "df = df.loc[df['Status'] == 'Control', :]\n",
    "df['Age group'] = 'All'\n",
    "df.loc[df['Age'] < 30, 'Age group'] = 'Age < 30'\n",
    "df.loc[(df['Age'] < 50) & (df['Age'] >= 30), 'Age group'] = '30 <= Age < 50'\n",
    "df.loc[(df['Age'] < 70) & (df['Age'] >= 50), 'Age group'] = '50 <= Age < 70'\n",
    "df.loc[df['Age'] >= 70, 'Age group'] = 'Age >= 70'\n",
    "\n",
    "palette = {\n",
    "    'Age < 30': 'chartreuse',\n",
    "    '30 <= Age < 50': 'gold',\n",
    "    '50 <= Age < 70': 'coral',\n",
    "    'Age >= 70': 'firebrick'\n",
    "}\n",
    "feats = ['PDGFA', 'PDGFB']\n",
    "\n",
    "for feat in feats:\n",
    "    fig = go.Figure()\n",
    "    vals = {}\n",
    "    for group in ['Age < 30', '30 <= Age < 50', '50 <= Age < 70', 'Age >= 70']:\n",
    "        vals[group] = df.loc[df['Age group'] == group, feat].values\n",
    "        pointpos = 1.5\n",
    "        fig.add_trace(\n",
    "            go.Violin(\n",
    "                y=vals[group],\n",
    "                name=group,\n",
    "                box_visible=True,\n",
    "                meanline_visible=True,\n",
    "                showlegend=False,\n",
    "                line_color='black',\n",
    "                fillcolor=palette[group],\n",
    "                marker=dict(color=palette[group], line=dict(color='black',width=0.3), opacity=0.8),\n",
    "                points='all',\n",
    "                pointpos=pointpos,\n",
    "                bandwidth=np.ptp(vals[group]) / 10,\n",
    "                opacity=0.8\n",
    "            )\n",
    "        )\n",
    "    add_layout(fig, f\"\", feat, f\"\")\n",
    "    fig.update_layout(title_xref='paper')\n",
    "    fig.update_layout(legend_font_size=20)\n",
    "    fig.update_xaxes(autorange=True)\n",
    "    fig.update_layout(legend={'itemsizing': 'constant'})\n",
    "    stat_01, pval_01 = mannwhitneyu(vals['Age < 30'], vals['30 <= Age < 50'], alternative='two-sided')\n",
    "    stat_12, pval_12 = mannwhitneyu(vals['30 <= Age < 50'], vals['50 <= Age < 70'], alternative='two-sided')\n",
    "    stat_23, pval_23 = mannwhitneyu(vals['50 <= Age < 70'], vals['Age >= 70'], alternative='two-sided')\n",
    "    fig = add_p_value_annotation(fig, {(0,1): pval_01, (1,2): pval_12, (2,3): pval_23})\n",
    "\n",
    "    fig.update_layout(\n",
    "        violingap=0.35,\n",
    "        violingroupgap=0.35,\n",
    "        width=1200,\n",
    "        height=900,\n",
    "        margin=go.layout.Margin(\n",
    "            l=135,\n",
    "            r=50,\n",
    "            b=50,\n",
    "            t=200,\n",
    "            pad=0,\n",
    "        )\n",
    "    )\n",
    "    save_figure(fig, f\"{path}/comment_3/violin_age_{feat}\", scale=2)"
   ],
   "metadata": {
    "collapsed": false
   }
  }
 ],
 "metadata": {
  "kernelspec": {
   "name": "python3",
   "language": "python",
   "display_name": "Python 3 (ipykernel)"
  },
  "language_info": {
   "codemirror_mode": {
    "name": "ipython",
    "version": 2
   },
   "file_extension": ".py",
   "mimetype": "text/x-python",
   "name": "python",
   "nbconvert_exporter": "python",
   "pygments_lexer": "ipython2",
   "version": "2.7.6"
  }
 },
 "nbformat": 4,
 "nbformat_minor": 0
}
