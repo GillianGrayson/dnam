{
 "cells": [
  {
   "cell_type": "markdown",
   "source": [
    "# Debugging autoreload"
   ],
   "metadata": {
    "collapsed": false
   }
  },
  {
   "cell_type": "code",
   "source": [
    "%load_ext autoreload\n",
    "%autoreload 2"
   ],
   "metadata": {
    "collapsed": false
   },
   "outputs": [],
   "execution_count": null
  },
  {
   "cell_type": "markdown",
   "source": [
    "# Load packages"
   ],
   "metadata": {
    "collapsed": false
   }
  },
  {
   "cell_type": "code",
   "source": [
    "import pandas as pd\n",
    "import numpy as np\n",
    "from scipy import stats\n",
    "import seaborn as sns\n",
    "import plotly.express as px\n",
    "import statsmodels.formula.api as smf\n",
    "import plotly.graph_objects as go\n",
    "from scripts.python.routines.manifest import get_manifest\n",
    "from scripts.python.routines.plot.save import save_figure\n",
    "from scripts.python.routines.plot.layout import add_layout\n",
    "from statsmodels.stats.multitest import multipletests\n",
    "import plotly.io as pio\n",
    "pio.kaleido.scope.mathjax = None\n",
    "from plotly.offline import init_notebook_mode\n",
    "init_notebook_mode(connected=False)\n",
    "from scipy.stats import mannwhitneyu, median_test, kruskal, wilcoxon, friedmanchisquare\n",
    "import matplotlib.pyplot as plt\n",
    "import matplotlib\n",
    "import matplotlib.patheffects as path_effects\n",
    "import random\n",
    "import pathlib\n",
    "from tqdm import tqdm\n",
    "from src.utils.plot.bioinfokit import mhat, volcano\n",
    "import gseapy as gp\n",
    "import mygene\n",
    "from sklearn.decomposition import PCA, IncrementalPCA, KernelPCA, TruncatedSVD\n",
    "from sklearn.decomposition import MiniBatchDictionaryLearning, FastICA\n",
    "from sklearn.random_projection import GaussianRandomProjection, SparseRandomProjection\n",
    "from sklearn.manifold import MDS, Isomap, TSNE, LocallyLinearEmbedding\n",
    "import upsetplot\n",
    "from matplotlib_venn import venn2, venn2_circles\n",
    "from itertools import chain\n",
    "from sklearn.metrics import mean_absolute_error\n",
    "from scripts.python.routines.plot.colorscales import get_continuous_color\n",
    "from impyute.imputation.cs import fast_knn\n",
    "import plotly\n",
    "import torch\n",
    "from scripts.python.routines.plot.p_value import add_p_value_annotation\n",
    "from scripts.python.routines.sections import get_sections\n",
    "from src.models.tabular.widedeep.ft_transformer import WDFTTransformerModel\n",
    "from statannotations.Annotator import Annotator\n",
    "import functools\n",
    "import matplotlib.lines as mlines\n",
    "import patchworklib as pw\n",
    "import warnings\n",
    "warnings.filterwarnings(\"ignore\", \".*will save all targets and predictions in the buffer. For large datasets, this may lead to large memory footprint.*\")\n",
    "\n",
    "\n",
    "def conjunction(conditions):\n",
    "    return functools.reduce(np.logical_and, conditions)\n",
    "\n",
    "\n",
    "def disjunction(conditions):\n",
    "    return functools.reduce(np.logical_or, conditions)"
   ],
   "metadata": {
    "collapsed": false
   },
   "outputs": [],
   "execution_count": null
  },
  {
   "cell_type": "markdown",
   "source": [
    "# Update original data with new data from Mirny"
   ],
   "metadata": {
    "collapsed": false
   }
  },
  {
   "cell_type": "markdown",
   "source": [
    "## Load original data"
   ],
   "metadata": {
    "collapsed": false
   }
  },
  {
   "cell_type": "code",
   "source": [
    "path = f\"D:/YandexDisk/Work/pydnameth/datasets/GPL21145/GSEUNN\"\n",
    "path_save = f\"{path}/special/061_new_imm_data\"\n",
    "pathlib.Path(f\"{path_save}\").mkdir(parents=True, exist_ok=True)\n",
    "\n",
    "# Papers\n",
    "df_imm_fimmu = pd.read_excel(f\"{path}/data/immuno/models/SImAge/data.xlsx\", index_col=\"sample_id\")\n",
    "df_imm_geroscience = pd.read_excel(f\"{path}/data/immuno/models/IPAge/11357_2022_540_MOESM12_ESM.xlsx\", index_col=0, skiprows=1)\n",
    "df_epi_clinepi = pd.read_excel(f\"{path}/data/GSE234461/samples.xlsx\", index_col=0)\n",
    "\n",
    "df_ori = pd.read_excel(f\"{path}/data/immuno/df_samples(all_1052_121222)_proc(raw)_imp(fast_knn)_replace(quarter).xlsx\", index_col=0)\n",
    "df_ld_imm_ori = df_ori['Subject ID'].value_counts().to_frame()\n",
    "df_ori['Is longitudinal?'] = False\n",
    "df_ori.loc[df_ori['Subject ID'].isin(df_ld_imm_ori.index[df_ld_imm_ori['Subject ID'] > 1].values), 'Is longitudinal?'] = True\n",
    "df_ori['Time'] = df_ori['Sample_Chronology']\n",
    "df_ori['Time'].replace({0: 'T0', 1: 'T1', 2: 'T2', 3: 'T3'}, inplace=True)\n",
    "df_ori.loc[df_imm_fimmu.index.values, 'PMC10485620 ID'] = df_imm_fimmu.loc[df_imm_fimmu.index.values, 'index']\n",
    "df_ori.loc[df_imm_geroscience.index.values, 'PMC9135940 ID'] = df_imm_geroscience.loc[df_imm_geroscience.index.values, 'ID_Origin']\n",
    "df_ori.loc[df_epi_clinepi.index.values, 'PMC10699032 ID'] = df_epi_clinepi.loc[df_epi_clinepi.index.values, 'GSM']\n",
    "\n",
    "feats = pd.read_excel(f\"{path}/data/immuno/feats_con.xlsx\", index_col=0).index.values\n",
    "feats_fimmu = pd.read_excel(f\"{path}/data/immuno/models/SImAge/feats_con_top10.xlsx\", index_col=0).index.values\n",
    "feats_slctd = pd.read_excel(f\"{path}/special/059_imm_data_selection/feats_selected.xlsx\", index_col=0).index.values"
   ],
   "metadata": {
    "collapsed": false
   },
   "outputs": [],
   "execution_count": null
  },
  {
   "cell_type": "markdown",
   "source": [
    "## Load SImAge"
   ],
   "metadata": {
    "collapsed": false
   }
  },
  {
   "cell_type": "code",
   "source": [
    "model_simage = WDFTTransformerModel.load_from_checkpoint(checkpoint_path=f\"D:/YandexDisk/Work/pydnameth/datasets/GPL21145/GSEUNN/data/immuno/models/SImAge/best_fold_0002.ckpt\")\n",
    "model_simage.eval()\n",
    "model_simage.freeze()"
   ],
   "metadata": {
    "collapsed": false
   },
   "outputs": [],
   "execution_count": null
  },
  {
   "cell_type": "markdown",
   "source": [
    "## Get original dataframe with nans"
   ],
   "metadata": {
    "collapsed": false
   }
  },
  {
   "cell_type": "code",
   "source": [
    "files = [\n",
    "    \"Aging L, Q, H, I\",\n",
    "    \"Aging-Covid_05.01.2022\",\n",
    "    \"Aging-Covid-05.05.22\",\n",
    "    \"Covid_results_02_2021\",\n",
    "    \"Covid-25.11.20\",\n",
    "    \"MULTIPLEX_20_11_2020_ AGING\",\n",
    "    \"Yakutiya + TR\",\n",
    "    \"Мультиплекс_Agind&Covid\",\n",
    "]\n",
    "df_imm_genes = pd.read_excel(f\"{path}/data/immuno/immuno_markers_genes.xlsx\")\n",
    "dict_imm_genes = dict(zip(df_imm_genes['immuno_marker'], df_imm_genes['gene']))\n",
    "\n",
    "dfs_files = []\n",
    "nans_by_features = {}\n",
    "for file in files:\n",
    "    df_file = pd.read_excel(f\"{path}/data/immuno/files/processed/{file}.xlsx\", index_col=\"Sample\")\n",
    "    df_file.rename(columns=dict_imm_genes, inplace=True)\n",
    "    df_file = df_file.loc[:, feats]\n",
    "\n",
    "    # duplicates processing\n",
    "    if file == \"MULTIPLEX_20_11_2020_ AGING\":\n",
    "        df_file_doubled_unique = df_file.loc[~df_file.index.duplicated(keep=False), :]\n",
    "        df_file_doubled_1 = df_file.loc[df_file.index.duplicated(keep='first'), :]\n",
    "        df_file_doubled_2 = df_file.loc[df_file.index.duplicated(keep='last'), :]\n",
    "        df_file_duplicates_final = pd.concat([df_file_doubled_2, df_file_doubled_unique], axis=0)\n",
    "        df_file = df_file_duplicates_final\n",
    "    df_file_duplicates = df_file.loc[df_file.index.duplicated(keep=False), :]\n",
    "    if df_file_duplicates.shape[0] > 0:\n",
    "        print(df_file_duplicates.index)\n",
    "    \n",
    "    for feat in df_file:\n",
    "        nan_vals = set(df_file.loc[df_file[feat].astype(str).str.contains(r'^([<>].*)$', regex=True), feat].values)\n",
    "        if len(nan_vals) > 0:\n",
    "            for nv in nan_vals:\n",
    "                if feat in nans_by_features:\n",
    "                    nans_by_features[feat].add(nv)\n",
    "                else:\n",
    "                    nans_by_features[feat] = {nv}\n",
    "    \n",
    "    dfs_files.append(df_file)\n",
    "\n",
    "df_ori_w_nans = pd.concat(dfs_files, verify_integrity=False)\n",
    "df_ori_w_nans.index = df_ori_w_nans.index.map(str)\n",
    "df_ori_w_nans = df_ori_w_nans.loc[df_ori.index.values, :]\n",
    "df_ori_w_nans.replace(r'^([\\<].*)$', 'NaN', inplace=True, regex=True)\n",
    "for feat in feats:\n",
    "    ids_imputed_above = df_ori_w_nans.index[df_ori_w_nans[feat].astype(str).str.contains('>')]\n",
    "    df_ori_w_nans.loc[ids_imputed_above, feat] = df_ori.loc[ids_imputed_above, feat]\n",
    "df_ori_w_nans = df_ori_w_nans.apply(pd.to_numeric, errors='coerce')"
   ],
   "metadata": {
    "collapsed": false
   },
   "outputs": [],
   "execution_count": null
  },
  {
   "cell_type": "markdown",
   "source": [
    "## Impute thresholds in xponent data"
   ],
   "metadata": {
    "collapsed": false
   }
  },
  {
   "cell_type": "code",
   "source": [
    "df_xpnt_w_nans = pd.read_excel(f\"{path}/data/immuno/files/processed/10-March-2024/48-plex-human-_xPONENT_2024.xlsx\", index_col=\"Sample ID\")\n",
    "df_xpnt_w_nans = df_xpnt_w_nans.loc[df_xpnt_w_nans.index.str.startswith('M', na=False), feats]\n",
    "df_xpnt_w_nans.replace(r'^([\\<].*)$', 'NaN', inplace=True, regex=True)\n",
    "df_xpnt_w_nans = df_xpnt_w_nans.apply(pd.to_numeric, errors='coerce')\n",
    "df_mirny_pheno = pd.read_excel(f\"{path}/data/immuno/files/processed/10-March-2024/Список Мирный.xlsx\", index_col=0)\n",
    "df_xpnt_w_nans.loc[df_xpnt_w_nans.index.values, ['Age', 'Sex', 'Nationality']] = df_mirny_pheno.loc[df_xpnt_w_nans.index.values, ['Age', 'Sex', 'Nationality']]\n",
    "ids_imp_trn = df_ori.index[(df_ori['Region'] == 'Central') & (df_ori['Status'] == 'Control')]\n",
    "ids_imp_tst = df_xpnt_w_nans.index.values\n",
    "df_imp = pd.concat([\n",
    "    df_ori.loc[ids_imp_trn, feats],\n",
    "    df_xpnt_w_nans.loc[:, feats]\n",
    "])\n",
    "df_imp.loc[:, feats] = df_imp.loc[:, feats].astype('float')\n",
    "imp_vals = fast_knn(df_imp.loc[:, feats].values)\n",
    "df_imp.loc[:, feats] = imp_vals\n",
    "\n",
    "def find_nearest(array, value):\n",
    "    array = np.asarray(array)\n",
    "    idx = (np.abs(array - value)).argmin()\n",
    "    return array[idx]\n",
    "\n",
    "for feat in feats:\n",
    "    srs_feat_base = df_ori_w_nans.loc[ids_imp_trn, feat].isna()\n",
    "    ids_feat_base = srs_feat_base.index[srs_feat_base == True].values\n",
    "    if len(ids_feat_base) > 0:\n",
    "        feat_base_vals = df_ori.loc[ids_feat_base, feat].unique()\n",
    "        srs_feat_trgt = df_xpnt_w_nans.loc[ids_imp_tst, feat].isna()\n",
    "        ids_feat_trgt = srs_feat_trgt.index[srs_feat_trgt == True].values\n",
    "        for id_trgt in ids_feat_trgt:\n",
    "            df_imp.at[id_trgt, feat] = find_nearest(feat_base_vals, df_imp.at[id_trgt, feat])\n",
    "\n",
    "df_xpnt = df_xpnt_w_nans.copy()\n",
    "df_xpnt.loc[ids_imp_tst, feats] = df_imp.loc[ids_imp_tst, feats]\n",
    "df_xpnt['Region'] = 'Mirny'\n",
    "df_xpnt['Time'] = 'T0'\n",
    "df_xpnt['Sample_Chronology'] = 0\n",
    "df_xpnt['Is longitudinal?'] = False\n",
    "df_xpnt['Status'] = 'Control'\n",
    "df_xpnt['file'] = '48-plex-human-_xPONENT_2024.xlsx'\n",
    "df_xpnt['Subject ID'] = df_xpnt.index.values\n",
    "df_xpnt['SImAge'] = model_simage(torch.from_numpy(df_xpnt.loc[:, feats_fimmu].values)).cpu().detach().numpy().ravel()\n",
    "df_xpnt['SImAge acceleration'] = df_xpnt['SImAge'] - df_xpnt['Age']\n",
    "df_xpnt['|SImAge acceleration|'] = df_xpnt['SImAge acceleration'].abs()\n",
    "for f in feats:\n",
    "    df_xpnt[f\"{f}_log\"] = np.log(df_xpnt[f\"{f}\"])"
   ],
   "metadata": {
    "collapsed": false
   },
   "outputs": [],
   "execution_count": null
  },
  {
   "cell_type": "markdown",
   "source": [
    "## Merge xponent data it with the original data"
   ],
   "metadata": {
    "collapsed": false
   }
  },
  {
   "cell_type": "code",
   "source": [
    "df_all = pd.concat([df_ori, df_xpnt], verify_integrity=True)\n",
    "df_all.to_excel(f\"{path_save}/df_all.xlsx\")"
   ],
   "metadata": {
    "collapsed": false
   },
   "outputs": [],
   "execution_count": null
  },
  {
   "cell_type": "markdown",
   "source": [
    "# Process analyst data"
   ],
   "metadata": {
    "collapsed": false
   }
  },
  {
   "cell_type": "code",
   "source": [
    "files_nlst = ['plate_1_analyst_2024', 'plate_2_analyst_2024', 'plate_3_analyst_2024']\n",
    "dfs_nlst = []\n",
    "for file in files_nlst:\n",
    "    df_nlst_file = pd.read_excel(f\"{path}/data/immuno/files/processed/10-March-2024/{file}.xlsx\", index_col=\"Sample ID\")\n",
    "    df_nlst_file = df_nlst_file.loc[df_nlst_file.index.str.startswith('M', na=False), feats]\n",
    "    dfs_nlst.append(df_nlst_file) \n",
    "df_nlst_w_nans = pd.concat(dfs_nlst, verify_integrity=True)\n",
    "df_nlst_w_nans.replace(r'^([\\<].*)$', 'NaN', inplace=True, regex=True)\n",
    "df_nlst_w_nans = df_nlst_w_nans.apply(pd.to_numeric, errors='coerce')\n",
    "df_mirny_pheno = pd.read_excel(f\"{path}/data/immuno/files/processed/10-March-2024/Список Мирный.xlsx\", index_col=0)\n",
    "df_nlst_w_nans.loc[df_nlst_w_nans.index.values, ['Age', 'Sex', 'Nationality']] = df_mirny_pheno.loc[df_nlst_w_nans.index.values, ['Age', 'Sex', 'Nationality']]\n",
    "ids_imp_trn = df_ori.index[(df_ori['Region'] == 'Central') & (df_ori['Status'] == 'Control')]\n",
    "ids_imp_tst = df_nlst_w_nans.index.values\n",
    "df_imp = pd.concat([\n",
    "    df_ori.loc[ids_imp_trn, feats],\n",
    "    df_nlst_w_nans.loc[:, feats]\n",
    "])\n",
    "df_imp.loc[:, feats] = df_imp.loc[:, feats].astype('float')\n",
    "imp_vals = fast_knn(df_imp.loc[:, feats].values)\n",
    "df_imp.loc[:, feats] = imp_vals\n",
    "\n",
    "def find_nearest(array, value):\n",
    "    array = np.asarray(array)\n",
    "    idx = (np.abs(array - value)).argmin()\n",
    "    return array[idx]\n",
    "\n",
    "for feat in feats:\n",
    "    srs_feat_base = df_ori_w_nans.loc[ids_imp_trn, feat].isna()\n",
    "    ids_feat_base = srs_feat_base.index[srs_feat_base == True].values\n",
    "    if len(ids_feat_base) > 0:\n",
    "        feat_base_vals = df_ori.loc[ids_feat_base, feat].unique()\n",
    "        srs_feat_trgt = df_nlst_w_nans.loc[ids_imp_tst, feat].isna()\n",
    "        ids_feat_trgt = srs_feat_trgt.index[srs_feat_trgt == True].values\n",
    "        for id_trgt in ids_feat_trgt:\n",
    "            df_imp.at[id_trgt, feat] = find_nearest(feat_base_vals, df_imp.at[id_trgt, feat])\n",
    "\n",
    "df_nlst = df_nlst_w_nans.copy()\n",
    "df_nlst.loc[ids_imp_tst, feats] = df_imp.loc[ids_imp_tst, feats]\n",
    "df_nlst['Region'] = 'Mirny'\n",
    "df_nlst['Time'] = 'T0'\n",
    "df_nlst['Sample_Chronology'] = 0\n",
    "df_nlst['Is longitudinal?'] = False\n",
    "df_nlst['Status'] = 'Control'\n",
    "df_nlst['file'] = '48-plex-human-_xPONENT_2024.xlsx'\n",
    "df_nlst['Subject ID'] = df_nlst.index.values\n",
    "df_nlst['SImAge'] = model_simage(torch.from_numpy(df_nlst.loc[:, feats_fimmu].values)).cpu().detach().numpy().ravel()\n",
    "df_nlst['SImAge acceleration'] = df_nlst['SImAge'] - df_nlst['Age']\n",
    "df_nlst['|SImAge acceleration|'] = df_nlst['SImAge acceleration'].abs()\n",
    "for f in feats:\n",
    "    df_nlst[f\"{f}_log\"] = np.log(df_nlst[f\"{f}\"])\n",
    "\n",
    "df_nlst.to_excel(f\"{path_save}/df_nlst.xlsx\")"
   ],
   "metadata": {
    "collapsed": false
   },
   "outputs": [],
   "execution_count": null
  },
  {
   "cell_type": "markdown",
   "source": [
    "# Data differences"
   ],
   "metadata": {
    "collapsed": false
   }
  },
  {
   "cell_type": "markdown",
   "source": [
    "## Reload all data "
   ],
   "metadata": {
    "collapsed": false
   }
  },
  {
   "cell_type": "code",
   "source": [
    "path = f\"D:/YandexDisk/Work/pydnameth/datasets/GPL21145/GSEUNN\"\n",
    "path_save = f\"{path}/special/061_new_imm_data\"\n",
    "pathlib.Path(f\"{path_save}\").mkdir(parents=True, exist_ok=True)\n",
    "\n",
    "feats = pd.read_excel(f\"{path}/data/immuno/feats_con.xlsx\", index_col=0).index.values\n",
    "feats_fimmu = pd.read_excel(f\"{path}/data/immuno/models/SImAge/feats_con_top10.xlsx\", index_col=0).index.values\n",
    "feats_slctd = pd.read_excel(f\"{path}/special/059_imm_data_selection/feats_selected.xlsx\", index_col=0).index.values\n",
    "\n",
    "df_ori = pd.read_excel(f\"{path}/data/immuno/df_samples(all_1052_121222)_proc(raw)_imp(fast_knn)_replace(quarter).xlsx\", index_col=0)\n",
    "df_ori['Program'] = 'xponent'\n",
    "df_nlst = pd.read_excel(f\"{path_save}/df_nlst.xlsx\", index_col=0)\n",
    "df_nlst.index += '_nlst'\n",
    "df_nlst['Program'] = 'analyst'\n",
    "\n",
    "df = pd.concat([df_ori, df_nlst])\n",
    "\n",
    "files = [\n",
    "    \"Aging L, Q, H, I\",\n",
    "    \"Aging-Covid_05.01.2022\",\n",
    "    \"Aging-Covid-05.05.22\",\n",
    "    \"Covid_results_02_2021\",\n",
    "    \"Covid-25.11.20\",\n",
    "    \"MULTIPLEX_20_11_2020_ AGING\",\n",
    "    \"Yakutiya + TR\",\n",
    "    \"Мультиплекс_Agind&Covid\",\n",
    "    \"10-March-2024/48-plex-human-_xPONENT_2024\", \n",
    "    \"10-March-2024/plate_1_analyst_2024\",\n",
    "    \"10-March-2024/plate_2_analyst_2024\", \n",
    "    \"10-March-2024/plate_3_analyst_2024\", \n",
    "]\n",
    "df_imm_genes = pd.read_excel(f\"{path}/data/immuno/immuno_markers_genes.xlsx\")\n",
    "dict_imm_genes = dict(zip(df_imm_genes['immuno_marker'], df_imm_genes['gene']))\n",
    "\n",
    "dfs_files = []\n",
    "nans_by_features = {}\n",
    "for file in files:\n",
    "    if file in [\"10-March-2024/48-plex-human-_xPONENT_2024\", \"10-March-2024/plate_1_analyst_2024\", \"10-March-2024/plate_2_analyst_2024\", \"10-March-2024/plate_3_analyst_2024\"]:\n",
    "        df_file = pd.read_excel(f\"{path}/data/immuno/files/processed/{file}.xlsx\", index_col=0)\n",
    "    else:\n",
    "        df_file = pd.read_excel(f\"{path}/data/immuno/files/processed/{file}.xlsx\", index_col=\"Sample\")\n",
    "    df_file.rename(columns=dict_imm_genes, inplace=True)\n",
    "    df_file = df_file.loc[:, feats]\n",
    "\n",
    "    # duplicates processing\n",
    "    if file == \"MULTIPLEX_20_11_2020_ AGING\":\n",
    "        df_file_doubled_unique = df_file.loc[~df_file.index.duplicated(keep=False), :]\n",
    "        df_file_doubled_1 = df_file.loc[df_file.index.duplicated(keep='first'), :]\n",
    "        df_file_doubled_2 = df_file.loc[df_file.index.duplicated(keep='last'), :]\n",
    "        df_file_duplicates_final = pd.concat([df_file_doubled_2, df_file_doubled_unique], axis=0)\n",
    "        df_file = df_file_duplicates_final\n",
    "    elif file == \"10-March-2024/48-plex-human-_xPONENT_2024\":\n",
    "        df_file = df_file.loc[df_file.index.str.startswith('M', na=False), :]\n",
    "    elif file in [\"10-March-2024/plate_1_analyst_2024\", \"10-March-2024/plate_2_analyst_2024\", \"10-March-2024/plate_3_analyst_2024\"]:\n",
    "        df_file = df_file.loc[df_file.index.str.startswith('M', na=False), :]\n",
    "        df_file.index += '_nlst'\n",
    "    df_file_duplicates = df_file.loc[df_file.index.duplicated(keep=False), :]\n",
    "    if df_file_duplicates.shape[0] > 0:\n",
    "        print(df_file_duplicates.index)\n",
    "        \n",
    "    for feat in df_file:\n",
    "        nan_vals = set(df_file.loc[df_file[feat].astype(str).str.contains(r'^([<>].*)$', regex=True), feat].values)\n",
    "        if len(nan_vals) > 0:\n",
    "            for nv in nan_vals:\n",
    "                if feat in nans_by_features:\n",
    "                    nans_by_features[feat].add(nv)\n",
    "                else:\n",
    "                    nans_by_features[feat] = {nv}\n",
    "    \n",
    "    dfs_files.append(df_file)\n",
    "\n",
    "df_w_nans = pd.concat(dfs_files, verify_integrity=False)\n",
    "df_w_nans.index = df_w_nans.index.map(str)\n",
    "df_w_nans = df_w_nans.loc[df.index.values, :]\n",
    "df_w_nans.replace(r'^([\\<].*)$', 'NaN', inplace=True, regex=True)\n",
    "for feat in feats:\n",
    "    ids_imputed_above = df_w_nans.index[df_w_nans[feat].astype(str).str.contains('>')]\n",
    "    df_w_nans.loc[ids_imputed_above, feat] = df.loc[ids_imputed_above, feat]\n",
    "df_w_nans = df_w_nans.apply(pd.to_numeric, errors='coerce')"
   ],
   "metadata": {
    "collapsed": false
   },
   "outputs": [],
   "execution_count": null
  },
  {
   "cell_type": "code",
   "source": [
    "groups_ids = {\n",
    "    'Central': df.index[(df['Status'] == 'Control') & (df['PMC10485620 ID'].notna())].values,\n",
    "    'Yakutia': df.index[(df['Status'] == 'Control') & (df['Region'] == 'Yakutia')].values,\n",
    "    'Mirny xPONENT': df.index[(df['Status'] == 'Control') & (df['Region'] == 'Mirny') & (df['Program'] == 'xponent')].values,\n",
    "    'Mirny Analyst': df.index[(df['Status'] == 'Control') & (df['Region'] == 'Mirny') & (df['Program'] == 'analyst')].values,\n",
    "}\n",
    "\n",
    "groups_colors = {\n",
    "    'Central': 'gold',\n",
    "    'Yakutia': 'lightslategray',\n",
    "    'Mirny xPONENT': 'darkblue',\n",
    "    'Mirny Analyst': 'darkgreen',\n",
    "}"
   ],
   "metadata": {
    "collapsed": false
   },
   "outputs": [],
   "execution_count": null
  },
  {
   "cell_type": "markdown",
   "source": [
    "## Plot distribution"
   ],
   "metadata": {
    "collapsed": false
   }
  },
  {
   "cell_type": "code",
   "source": [
    "hist_bins = np.linspace(5, 115, 23)\n",
    "\n",
    "fig, ax = plt.subplots(figsize=(4, 3))\n",
    "sns.set_theme(style='whitegrid')\n",
    "histplot = sns.histplot(\n",
    "    data=df.loc[groups_ids['Mirny xPONENT'], :],\n",
    "    bins=hist_bins,\n",
    "    edgecolor='k',\n",
    "    linewidth=1,\n",
    "    x=\"Age\",\n",
    "    hue='Sex',\n",
    "    palette={'F': 'crimson', 'M': 'dodgerblue'},\n",
    "    hue_order=['F', 'M'],\n",
    "    ax=ax\n",
    ")\n",
    "histplot.set(xlim=(0, 120))\n",
    "plt.savefig(f\"{path_save}/histplot.png\", bbox_inches='tight', dpi=200)\n",
    "plt.savefig(f\"{path_save}/histplot.pdf\", bbox_inches='tight')\n",
    "plt.close(fig)"
   ],
   "metadata": {
    "collapsed": false
   },
   "outputs": [],
   "execution_count": null
  },
  {
   "cell_type": "markdown",
   "source": [
    "## NaN statistics"
   ],
   "metadata": {
    "collapsed": false
   }
  },
  {
   "cell_type": "code",
   "source": [
    "pathlib.Path(f\"{path_save}/nan\").mkdir(parents=True, exist_ok=True)\n",
    "\n",
    "n_rows = 2\n",
    "n_cols = 2\n",
    "fig_width = 16\n",
    "fig_height = 10\n",
    "\n",
    "fig_bar, axs_bar = plt.subplots(n_rows, n_cols, figsize=(fig_width, fig_height), gridspec_kw={}, sharey=True)\n",
    "fig_hist, axs_hist = plt.subplots(n_rows, n_cols, figsize=(fig_width, fig_height), gridspec_kw={}, sharex=True)\n",
    "sns.set_theme(style='whitegrid')\n",
    "\n",
    "dfs_nan_feats = {}\n",
    "df_nan_feats_by_group = pd.DataFrame(index=list(groups_ids.keys()))\n",
    "for group_id, group in enumerate(groups_ids.keys()):\n",
    "    row_id, col_id = divmod(group_id, n_cols)\n",
    "    \n",
    "    df_nan_feats = df_w_nans.loc[groups_ids[group], feats].isna().sum(axis=0).to_frame(name=\"Number of NaNs\")\n",
    "    df_nan_feats[\"% of NaNs\"] = df_nan_feats[\"Number of NaNs\"] / len(groups_ids[group]) * 100\n",
    "    df_nan_feats[\"Number of not-NaNs\"] = df_w_nans.loc[groups_ids[group], feats].notna().sum(axis=0)\n",
    "    df_nan_feats.sort_values([\"% of NaNs\"], ascending=[False], inplace=True)\n",
    "    dfs_nan_feats[group] = df_nan_feats\n",
    "    df_nan_feats_by_group.at[group, \"% of NaNs\"] = df_nan_feats[\"Number of NaNs\"].sum(axis=0) / df_w_nans.loc[groups_ids[group], feats].size * 100\n",
    "    \n",
    "    barplot = sns.barplot(\n",
    "        data=df_nan_feats,\n",
    "        x=df_nan_feats.index,\n",
    "        y=f\"% of NaNs\",\n",
    "        edgecolor='black',\n",
    "        color=groups_colors[group],\n",
    "        dodge=False,\n",
    "        ax=axs_bar[row_id, col_id],\n",
    "    )\n",
    "    axs_bar[row_id, col_id].set_title(f\"{group}\")\n",
    "    axs_bar[row_id, col_id].set_xticklabels(axs_bar[row_id, col_id].get_xticklabels(), rotation=90)\n",
    "\n",
    "    df_nan_smpls = df_w_nans.loc[groups_ids[group], feats].isna().sum(axis=1).to_frame(name=\"Features with NaNs\")\n",
    "    \n",
    "    hist_bins = np.linspace(0, len(feats), len(feats) + 1)\n",
    "    histplot = sns.histplot(\n",
    "        data=df_nan_smpls,\n",
    "        discrete=True,\n",
    "        edgecolor='k',\n",
    "        linewidth=1,\n",
    "        x=\"Features with NaNs\",\n",
    "        color=groups_colors[group],\n",
    "        ax=axs_hist[row_id, col_id],\n",
    "    )\n",
    "    axs_hist[row_id, col_id].set(xlim=(-0.6, len(feats)+0.6))\n",
    "    axs_hist[row_id, col_id].set_title(f\"{group}\")\n",
    "    axs_hist[row_id, col_id].set_ylabel(f\"Number of samples\")\n",
    "\n",
    "fig_bar.tight_layout()    \n",
    "fig_bar.savefig(f\"{path_save}/nan/feats.png\", bbox_inches='tight', dpi=200)\n",
    "fig_bar.savefig(f\"{path_save}/nan/feats.pdf\", bbox_inches='tight')\n",
    "plt.close(fig_bar)\n",
    "\n",
    "with pd.ExcelWriter(f'{path_save}/nan/feats.xlsx', engine='xlsxwriter') as writer:\n",
    "    for group_id, group in enumerate(groups_ids.keys()):\n",
    "        dfs_nan_feats[group].to_excel(writer, sheet_name=group)\n",
    "\n",
    "fig_hist.tight_layout()    \n",
    "fig_hist.savefig(f\"{path_save}/nan/samples.png\", bbox_inches='tight', dpi=200)\n",
    "fig_hist.savefig(f\"{path_save}/nan/samples.pdf\", bbox_inches='tight')\n",
    "plt.close(fig_hist)\n",
    "\n",
    "plt.figure(figsize=(4, 6))\n",
    "sns.set_theme(style='whitegrid')\n",
    "barplot = sns.barplot(\n",
    "    data=df_nan_feats_by_group,\n",
    "    y=df_nan_feats_by_group.index,\n",
    "    x=f\"% of NaNs\",\n",
    "    edgecolor='black',\n",
    "    palette=groups_colors,\n",
    "    dodge=False,\n",
    "    orient='h'\n",
    ")\n",
    "for x in barplot.containers:\n",
    "    barplot.bar_label(x, fmt=\"%.1f\")\n",
    "plt.savefig(f\"{path_save}/nan/global.png\", bbox_inches='tight', dpi=200)\n",
    "plt.savefig(f\"{path_save}/nan/global.pdf\", bbox_inches='tight')\n",
    "plt.close()"
   ],
   "metadata": {
    "collapsed": false
   },
   "outputs": [],
   "execution_count": null
  },
  {
   "cell_type": "markdown",
   "source": [
    "## Comparing two programs for Mirny data"
   ],
   "metadata": {
    "collapsed": false
   }
  },
  {
   "cell_type": "code",
   "source": [
    "pathlib.Path(f\"{path_save}/xponent_vs_analyst\").mkdir(parents=True, exist_ok=True)\n",
    "\n",
    "df_stat = pd.DataFrame(index=list(feats))\n",
    "ids_mirny = set.union(set(groups_ids['Mirny xPONENT']), set(groups_ids['Mirny Analyst']))\n",
    "for feat in list(feats):\n",
    "    vals = {}\n",
    "    for group in ['Mirny xPONENT', 'Mirny Analyst']:\n",
    "        vals[group] = df.loc[groups_ids[group], feat].values\n",
    "    _, df_stat.at[feat, \"mw_pval\"] = mannwhitneyu(vals['Mirny xPONENT'], vals['Mirny Analyst'], alternative='two-sided')\n",
    "    \n",
    "    df_pivot = df.loc[ids_mirny].pivot(index='Subject ID', columns='Program', values=feat).dropna()\n",
    "    diff = df_pivot.loc[:, 'xponent'].values - df_pivot.loc[:, 'analyst'].values\n",
    "    if np.linalg.norm(diff) > 0:\n",
    "        res = wilcoxon(\n",
    "            x=df_pivot.loc[:, 'xponent'].values,\n",
    "            y=df_pivot.loc[:, 'analyst'].values,\n",
    "            alternative='two-sided'\n",
    "        )\n",
    "        df_stat.at[feat, \"wlxn_pval\"] =  res.pvalue\n",
    "    else:\n",
    "        df_stat.at[feat, \"wlxn_pval\"] = 1.0\n",
    "    \n",
    "_, df_stat.loc[feats, \"mw_pval_fdr_bh\"], _, _ = multipletests(df_stat.loc[feats, \"mw_pval\"], 0.05, method='fdr_bh')\n",
    "_, df_stat.loc[feats, \"wlxn_pval_fdr_bh\"], _, _ = multipletests(df_stat.loc[feats, \"wlxn_pval\"], 0.05, method='fdr_bh')\n",
    "df_stat.to_excel(f\"{path_save}/xponent_vs_analyst/stat.xlsx\", index_label='Features')"
   ],
   "metadata": {
    "collapsed": false
   },
   "outputs": [],
   "execution_count": null
  },
  {
   "cell_type": "markdown",
   "source": [
    "### Plots for Mann-Whitney"
   ],
   "metadata": {
    "collapsed": false
   }
  },
  {
   "cell_type": "code",
   "source": [
    "df_fig = df_stat.loc[feats, :]\n",
    "df_fig.sort_values([f\"mw_pval_fdr_bh\"], ascending=[True], inplace=True)\n",
    "df_fig['mw_pval_fdr_bh_log'] = -np.log10(df_fig['mw_pval_fdr_bh'])\n",
    "df_fig['color'] = 'pink'\n",
    "df_fig.loc[df_fig['mw_pval_fdr_bh'] < 0.05, 'color'] = 'red'\n",
    "\n",
    "fig, ax = plt.subplots(figsize=(3, 16))\n",
    "sns.set_theme(style='whitegrid')\n",
    "barplot = sns.barplot(\n",
    "    data=df_fig,\n",
    "    y=df_fig.index.values,\n",
    "    x='mw_pval_fdr_bh_log',\n",
    "    edgecolor='black',\n",
    "    palette=df_fig['color'].values,\n",
    "    dodge=True,\n",
    "    ax=ax\n",
    ")\n",
    "ax.set_xlabel(r\"$-\\log_{10}(\\mathrm{p-value})$\", fontsize=18)\n",
    "ax.set_ylabel('', fontsize=20)\n",
    "ax.set_xticklabels([f\"{int(tick):d}\" for tick in ax.get_xticks()], fontsize=16)\n",
    "ax.set_yticklabels(ax.get_yticklabels(), fontsize = 16)\n",
    "plt.savefig(f\"{path_save}/xponent_vs_analyst/barplot_mw.png\", bbox_inches='tight', dpi=200)\n",
    "plt.savefig(f\"{path_save}/xponent_vs_analyst/barplot_mw.pdf\", bbox_inches='tight')\n",
    "plt.close(fig)"
   ],
   "metadata": {
    "collapsed": false
   },
   "outputs": [],
   "execution_count": null
  },
  {
   "cell_type": "code",
   "source": [
    "n_rows = 6\n",
    "n_cols = 8\n",
    "fig_width = 20\n",
    "fig_height = 16\n",
    "\n",
    "colors_mirny = {\n",
    "    'xponent': 'darkblue',\n",
    "    'analyst': 'darkgreen',\n",
    "}\n",
    "\n",
    "fig, axs = plt.subplots(n_rows, n_cols, figsize=(fig_width, fig_height), gridspec_kw={})\n",
    "sns.set_theme(style='whitegrid')\n",
    "\n",
    "df_stat.sort_values([f\"mw_pval\"], ascending=[True], inplace=True)\n",
    "feats_sorted = df_stat.index[df_stat.index.isin(feats)].values\n",
    "\n",
    "for f_id, f in enumerate(feats_sorted):\n",
    "    row_id, col_id = divmod(f_id, n_cols)\n",
    "    \n",
    "    df_fig = df.loc[ids_mirny, :]\n",
    "    \n",
    "    sns.violinplot(\n",
    "        data=df_fig,\n",
    "        x='Program',\n",
    "        y=f,\n",
    "        palette=colors_mirny,\n",
    "        scale='width',\n",
    "        order=list(colors_mirny.keys()),\n",
    "        saturation=0.75,\n",
    "        cut=0,\n",
    "        linewidth=1.0,\n",
    "        ax=axs[row_id, col_id],\n",
    "        legend=False,\n",
    "    )\n",
    "    axs[row_id, col_id].set_ylabel(f)\n",
    "    axs[row_id, col_id].set_xlabel('')\n",
    "    axs[row_id, col_id].set(xticklabels=[]) \n",
    "    mw_pval = df_stat.at[f, \"mw_pval_fdr_bh\"]\n",
    "    pval_formatted = [f'{mw_pval:.2e}']\n",
    "    annotator = Annotator(\n",
    "        axs[row_id, col_id],\n",
    "        pairs=[('xponent', 'analyst')],\n",
    "        data=df_fig,\n",
    "        x='Program',\n",
    "        y=f,\n",
    "        order=list(colors_mirny.keys()),\n",
    "    )\n",
    "    annotator.set_custom_annotations(pval_formatted)\n",
    "    annotator.configure(loc='outside')\n",
    "    annotator.annotate()\n",
    "axs[n_rows - 1, n_cols - 1].axis('off')\n",
    "axs[n_rows - 1, n_cols - 2].axis('off')\n",
    "legend_handles = [\n",
    "    mlines.Line2D([], [], marker='o', linestyle='None', markeredgecolor='k', markerfacecolor=colors_mirny['xponent'], markersize=10, label='xponent'),\n",
    "    mlines.Line2D([], [], marker='o', linestyle='None', markeredgecolor='k', markerfacecolor=colors_mirny['analyst'], markersize=10, label='analyst')\n",
    "]\n",
    "fig.legend(handles=legend_handles, bbox_to_anchor=(0.5, 1.0), loc=\"lower center\", ncol=2, frameon=False, fontsize='large')\n",
    "fig.tight_layout()    \n",
    "plt.savefig(f\"{path_save}/xponent_vs_analyst/feats_mw.png\", bbox_inches='tight', dpi=200)\n",
    "plt.savefig(f\"{path_save}/xponent_vs_analyst/feats_mw.pdf\", bbox_inches='tight')\n",
    "plt.close(fig)\n",
    "    "
   ],
   "metadata": {
    "collapsed": false
   },
   "outputs": [],
   "execution_count": null
  },
  {
   "cell_type": "markdown",
   "source": [
    "### Plots for Wilcoxon\n"
   ],
   "metadata": {
    "collapsed": false
   }
  },
  {
   "cell_type": "code",
   "source": [
    "df_fig = df_stat.loc[feats, :]\n",
    "df_fig.sort_values([f\"wlxn_pval_fdr_bh\"], ascending=[True], inplace=True)\n",
    "df_fig['wlxn_pval_fdr_bh_log'] = -np.log10(df_fig['wlxn_pval_fdr_bh'])\n",
    "df_fig['color'] = 'pink'\n",
    "df_fig.loc[df_fig['wlxn_pval_fdr_bh'] < 0.05, 'color'] = 'red'\n",
    "\n",
    "fig, ax = plt.subplots(figsize=(3, 16))\n",
    "sns.set_theme(style='whitegrid')\n",
    "barplot = sns.barplot(\n",
    "    data=df_fig,\n",
    "    y=df_fig.index.values,\n",
    "    x='wlxn_pval_fdr_bh_log',\n",
    "    edgecolor='black',\n",
    "    palette=df_fig['color'].values,\n",
    "    dodge=True,\n",
    "    ax=ax\n",
    ")\n",
    "ax.set_xlabel(r\"$-\\log_{10}(\\mathrm{p-value})$\", fontsize=18)\n",
    "ax.set_ylabel('', fontsize=20)\n",
    "ax.set_xticklabels([f\"{int(tick):d}\" for tick in ax.get_xticks()], fontsize=16)\n",
    "ax.set_yticklabels(ax.get_yticklabels(), fontsize = 16)\n",
    "plt.savefig(f\"{path_save}/xponent_vs_analyst/barplot_wlxn.png\", bbox_inches='tight', dpi=200)\n",
    "plt.savefig(f\"{path_save}/xponent_vs_analyst/barplot_wlxn.pdf\", bbox_inches='tight')\n",
    "plt.close(fig)"
   ],
   "metadata": {
    "collapsed": false
   },
   "outputs": [],
   "execution_count": null
  },
  {
   "cell_type": "code",
   "source": [
    "n_rows = 6\n",
    "n_cols = 8\n",
    "fig_width = 20\n",
    "fig_height = 16\n",
    "\n",
    "samples_mirny = df.loc[ids_mirny, 'Subject ID'].unique()\n",
    "colors_xkcd = list(matplotlib.colors.XKCD_COLORS.values())\n",
    "colors_samples = {x: colors_xkcd[x_id] for x_id, x in enumerate(samples_mirny)}\n",
    "\n",
    "fig, axs = plt.subplots(n_rows, n_cols, figsize=(fig_width, fig_height), gridspec_kw={})\n",
    "sns.set_theme(style='whitegrid')\n",
    "\n",
    "df_stat.sort_values([f\"wlxn_pval\"], ascending=[True], inplace=True)\n",
    "feats_sorted = df_stat.index[df_stat.index.isin(feats)].values\n",
    "\n",
    "for f_id, f in tqdm(enumerate(feats_sorted)):\n",
    "    row_id, col_id = divmod(f_id, n_cols)\n",
    "    \n",
    "    df_fig = df.loc[ids_mirny, :]\n",
    "\n",
    "    sns.scatterplot(\n",
    "        data=df_fig,\n",
    "        x='Program',\n",
    "        y=f,\n",
    "        hue='Subject ID',\n",
    "        edgecolor=\"k\",\n",
    "        linewidth=0.001,\n",
    "        palette=colors_samples,\n",
    "        hue_order=list(colors_samples.keys()),\n",
    "        alpha=0.75,\n",
    "        s=100,\n",
    "        legend=False,\n",
    "        ax=axs[row_id, col_id]\n",
    "    )\n",
    "    sns.lineplot(\n",
    "        data=df_fig,\n",
    "        x='Program',\n",
    "        y=f,\n",
    "        hue='Subject ID',\n",
    "        palette=colors_samples,\n",
    "        hue_order=list(colors_samples.keys()),\n",
    "        legend=False,\n",
    "        ax=axs[row_id, col_id]\n",
    "    )\n",
    "    axs[row_id, col_id].set_xlabel('')\n",
    "    pval = df_stat.at[f, \"wlxn_pval_fdr_bh\"]\n",
    "    axs[row_id, col_id].set_title(f'{pval:.2e}')\n",
    "axs[n_rows - 1, n_cols - 1].axis('off')\n",
    "axs[n_rows - 1, n_cols - 2].axis('off')\n",
    "fig.tight_layout()    \n",
    "plt.savefig(f\"{path_save}/xponent_vs_analyst/feats_wlxn.png\", bbox_inches='tight', dpi=200)\n",
    "plt.savefig(f\"{path_save}/xponent_vs_analyst/feats_wlxn.pdf\", bbox_inches='tight')\n",
    "plt.close(fig)"
   ],
   "metadata": {
    "collapsed": false
   },
   "outputs": [],
   "execution_count": null
  },
  {
   "cell_type": "markdown",
   "source": [
    "### SImAge acceleration"
   ],
   "metadata": {
    "collapsed": false
   }
  },
  {
   "cell_type": "code",
   "source": [
    "formula = f\"SImAge ~ Age\"\n",
    "model = smf.ols(formula=formula, data=df.loc[groups_ids['Central'], :]).fit()\n",
    "df[f\"SImAge_Central_linreg\"] = model.predict(df)\n",
    "df[f\"SImAge residuals\"] = df['SImAge'] - df[\"SImAge_Central_linreg\"]\n",
    "\n",
    "df_fig = df.loc[ids_mirny, :]\n",
    "\n",
    "colors_mirny = {\n",
    "    'xponent': 'darkblue',\n",
    "    'analyst': 'darkgreen',\n",
    "}\n",
    "\n",
    "fig, ax = plt.subplots(figsize=(4.5, 4))\n",
    "sns.set_theme(style='whitegrid')\n",
    "scatter = sns.scatterplot(\n",
    "    data=df_fig,\n",
    "    x=\"Age\",\n",
    "    y=\"SImAge\",\n",
    "    hue=\"Program\",\n",
    "    palette=colors_mirny,\n",
    "    linewidth=0.2,\n",
    "    alpha=0.75,\n",
    "    edgecolor=\"k\",\n",
    "    s=20,\n",
    "    hue_order=list(colors_mirny.keys()),\n",
    "    ax=ax\n",
    ")\n",
    "bisect = sns.lineplot(\n",
    "    x=[0, 120],\n",
    "    y=[0, 120],\n",
    "    linestyle='--',\n",
    "    color='black',\n",
    "    linewidth=1.0,\n",
    "    ax=ax\n",
    ")\n",
    "df_line = pd.DataFrame({'Age': [-100, 200]})\n",
    "df_line[f\"SImAge_Central_linreg\"] = model.predict(df_line)\n",
    "central_linreg_back = sns.lineplot(\n",
    "    x=df_line['Age'].values,\n",
    "    y=df_line['SImAge_Central_linreg'].values,\n",
    "    color='black',\n",
    "    linewidth=3.0,\n",
    "    ax=ax\n",
    ")\n",
    "central_linreg_front = sns.lineplot(\n",
    "    x=df_line['Age'].values,\n",
    "    y=df_line['SImAge_Central_linreg'].values,\n",
    "    color=groups_colors['Central'],\n",
    "    linewidth=2.0,\n",
    "    ax=ax\n",
    ")\n",
    "mae_xponent = mean_absolute_error(df_fig.loc[groups_ids['Mirny xPONENT'], 'Age'].values, df_fig.loc[groups_ids['Mirny xPONENT'], 'SImAge'].values)\n",
    "mae_analyst = mean_absolute_error(df_fig.loc[groups_ids['Mirny Analyst'], 'Age'].values, df_fig.loc[groups_ids['Mirny Analyst'], 'SImAge'].values)\n",
    "ax.set_title(f\"MAE xponent: {mae_xponent:0.1f}\\nMAE analyst: {mae_analyst:0.1f}\")\n",
    "ax.set_xlabel(\"Age\")\n",
    "ax.set_ylabel(\"SImAge\")\n",
    "ax.set_xlim(0, 120)\n",
    "ax.set_ylim(0, 120)\n",
    "plt.gca().set_aspect('equal', adjustable='box')\n",
    "fig.savefig(f\"{path_save}/xponent_vs_analyst/SImAge_scatter.png\", bbox_inches='tight', dpi=200)\n",
    "fig.savefig(f\"{path_save}/xponent_vs_analyst/SImAge_scatter.pdf\", bbox_inches='tight')\n",
    "plt.close()\n",
    "\n",
    "fig, ax = plt.subplots(figsize=(4, 4))\n",
    "sns.set_theme(style='whitegrid')\n",
    "violin = sns.violinplot(\n",
    "    data=df_fig,\n",
    "    x='Program',\n",
    "    y='SImAge acceleration',\n",
    "    palette=colors_mirny,\n",
    "    scale='width',\n",
    "    order=list(colors_mirny.keys()),\n",
    "    saturation=0.75,\n",
    ")\n",
    "violin.set_xlabel(f\"\")\n",
    "mw_pval = mannwhitneyu(\n",
    "    df_fig.loc[df_fig['Program'] == 'xponent', 'SImAge acceleration'].values,\n",
    "    df_fig.loc[df_fig['Program'] == 'analyst', 'SImAge acceleration'].values,\n",
    "    alternative='two-sided').pvalue\n",
    "pval_formatted = [f'{mw_pval:.2e}']\n",
    "annotator = Annotator(\n",
    "    violin,\n",
    "    pairs=[('xponent', 'analyst')],\n",
    "    data=df_fig,\n",
    "    x='Program',\n",
    "    y='SImAge acceleration',\n",
    "    order=list(colors_mirny.keys())\n",
    ")\n",
    "annotator.set_custom_annotations(pval_formatted)\n",
    "annotator.configure(loc='outside')\n",
    "annotator.annotate()\n",
    "fig.savefig(f\"{path_save}/xponent_vs_analyst/SImAge_acceleration.png\", bbox_inches='tight', dpi=200)\n",
    "fig.savefig(f\"{path_save}/xponent_vs_analyst/SImAge_acceleration.pdf\", bbox_inches='tight')\n",
    "plt.close()\n",
    "\n",
    "fig, ax = plt.subplots(figsize=(4, 4))\n",
    "sns.set_theme(style='whitegrid')\n",
    "violin = sns.violinplot(\n",
    "    data=df_fig,\n",
    "    x='Program',\n",
    "    y='SImAge residuals',\n",
    "    palette=colors_mirny,\n",
    "    scale='width',\n",
    "    order=list(colors_mirny.keys()),\n",
    "    saturation=0.75,\n",
    ")\n",
    "violin.set_xlabel(f\"\")\n",
    "mw_pval = mannwhitneyu(\n",
    "    df_fig.loc[df_fig['Program'] == 'xponent', 'SImAge residuals'].values,\n",
    "    df_fig.loc[df_fig['Program'] == 'analyst', 'SImAge residuals'].values,\n",
    "    alternative='two-sided').pvalue\n",
    "pval_formatted = [f'{mw_pval:.2e}']\n",
    "annotator = Annotator(\n",
    "    violin,\n",
    "    pairs=[('xponent', 'analyst')],\n",
    "    data=df_fig,\n",
    "    x='Program',\n",
    "    y='SImAge residuals',\n",
    "    order=list(colors_mirny.keys())\n",
    ")\n",
    "annotator.set_custom_annotations(pval_formatted)\n",
    "annotator.configure(loc='outside')\n",
    "annotator.annotate()\n",
    "fig.savefig(f\"{path_save}/xponent_vs_analyst/SImAge_residuals.png\", bbox_inches='tight', dpi=200)\n",
    "fig.savefig(f\"{path_save}/xponent_vs_analyst/SImAge_residuals.pdf\", bbox_inches='tight')\n",
    "plt.close()\n"
   ],
   "metadata": {
    "collapsed": false
   },
   "outputs": [],
   "execution_count": null
  },
  {
   "cell_type": "markdown",
   "source": [
    "## Mirny vs Central (same age)"
   ],
   "metadata": {
    "collapsed": false
   }
  },
  {
   "cell_type": "code",
   "source": [
    "pathlib.Path(f\"{path_save}/central_vs_mirny\").mkdir(parents=True, exist_ok=True)\n",
    "\n",
    "ids_mirny = df.index[(df['Status'] == 'Control') & (df['Region'] == 'Mirny') & (df['Program'] == 'xponent')].values\n",
    "ids_central = df.index[(df['Status'] == 'Control') & (df['PMC10485620 ID'].notna())].values\n",
    "\n",
    "hist_bins = np.linspace(5, 115, 23)\n",
    "age_counts, age_bin_edges = np.histogram(df.loc[ids_mirny, 'Age'].values, bins=hist_bins)\n",
    "age_prob = age_counts / len(df.loc[ids_mirny, 'Age'].values)\n",
    "bin_diff = age_bin_edges[1] - age_bin_edges[0]\n",
    "df.loc[ids_central, 'Prob Age (Mirny)'] = age_prob[np.rint((df.loc[ids_central, 'Age'].values - age_bin_edges[0]) / (bin_diff + 0.0001)).astype(int)]\n",
    "\n",
    "n_same_age = 150\n",
    "index_central_same_age = df.loc[ids_central, :].sample(n=n_same_age, replace=False, weights='Prob Age (Mirny)', random_state=1337).index\n",
    "if index_central_same_age.is_unique:\n",
    "    ids_central_same_age = index_central_same_age.values\n",
    "else:\n",
    "    print(\"Not unique index\")"
   ],
   "metadata": {
    "collapsed": false
   },
   "outputs": [],
   "execution_count": null
  },
  {
   "cell_type": "code",
   "source": [
    "df_fig_1 = df.loc[ids_central, ['Age']].copy()\n",
    "df_fig_1['Group'] = 'Central'\n",
    "df_fig_2 = df.loc[ids_central_same_age, ['Age']].copy()\n",
    "df_fig_2['Group'] = 'Central (Age as Mirny)'\n",
    "df_fig_3 = df.loc[ids_mirny, ['Age']].copy()\n",
    "df_fig_3['Group'] = 'Mirny'\n",
    "df_fig = pd.concat([df_fig_1, df_fig_2, df_fig_3], ignore_index=True)\n",
    "\n",
    "hist_bins = np.linspace(5, 115, 23)\n",
    "\n",
    "sns.set_theme(style='whitegrid')\n",
    "fig, ax = plt.subplots(figsize=(6, 4))\n",
    "histplot = sns.histplot(\n",
    "    data=df_fig,\n",
    "    bins=hist_bins,\n",
    "    edgecolor='k',\n",
    "    linewidth=1,\n",
    "    x=\"Age\",\n",
    "    hue='Group',\n",
    "    palette={'Central': 'gold', 'Central (Age as Mirny)': 'crimson', 'Mirny': 'dodgerblue'},\n",
    "    ax=ax\n",
    ")\n",
    "histplot.set(xlim=(0, 120))\n",
    "plt.savefig(f\"{path_save}/central_vs_mirny/Hist_DataSelection.png\", bbox_inches='tight', dpi=200)\n",
    "plt.savefig(f\"{path_save}/central_vs_mirny/Hist_DataSelection.pdf\", bbox_inches='tight')\n",
    "plt.close(fig)"
   ],
   "metadata": {
    "collapsed": false
   },
   "outputs": [],
   "execution_count": null
  },
  {
   "cell_type": "code",
   "source": [
    "groups_ids = {\n",
    "    'Central': ids_central_same_age,\n",
    "    'Mirny': ids_mirny,\n",
    "}\n",
    "\n",
    "for group_name, ids in groups_ids.items():\n",
    "    df.loc[ids, 'Group'] = group_name\n",
    "\n",
    "groups_colors = {\n",
    "    'Central': 'crimson',\n",
    "    'Mirny': 'dodgerblue',\n",
    "}"
   ],
   "metadata": {
    "collapsed": false
   },
   "outputs": [],
   "execution_count": null
  },
  {
   "cell_type": "markdown",
   "source": [
    "### Calculate statistics"
   ],
   "metadata": {
    "collapsed": false
   }
  },
  {
   "cell_type": "code",
   "source": [
    "df_stat = pd.DataFrame(index=list(feats_fimmu))\n",
    "for feat in list(feats_fimmu):\n",
    "    vals = {}\n",
    "    for group, ids in groups_ids.items():\n",
    "        vals[group] = df.loc[ids, feat].values\n",
    "        df_stat.at[feat, f\"mean_{group}\"] = np.mean(vals[group])\n",
    "        df_stat.at[feat, f\"median_{group}\"] = np.median(vals[group])\n",
    "        df_stat.at[feat, f\"q75_{group}\"], df_stat.at[feat, f\"q25_{group}\"] = np.percentile(vals[group], [75 , 25])\n",
    "        df_stat.at[feat, f\"iqr_{group}\"] = df_stat.at[feat, f\"q75_{group}\"] - df_stat.at[feat, f\"q25_{group}\"]\n",
    "    _, df_stat.at[feat, \"mw_pval\"] = mannwhitneyu(vals['Central'], vals['Mirny'], alternative='two-sided')\n",
    "\n",
    "_, df_stat.loc[feats_fimmu, \"mw_pval_fdr_bh\"], _, _ = multipletests(df_stat.loc[feats_fimmu, \"mw_pval\"], 0.05, method='fdr_bh')\n",
    "df_stat.sort_values([f\"mw_pval_fdr_bh\"], ascending=[True], inplace=True)\n",
    "df_stat.to_excel(f\"{path_save}/central_vs_mirny/Stat_Feats.xlsx\", index_label='Features')"
   ],
   "metadata": {
    "collapsed": false
   },
   "outputs": [],
   "execution_count": null
  },
  {
   "cell_type": "markdown",
   "source": [
    "### Plot features p-values"
   ],
   "metadata": {
    "collapsed": false
   }
  },
  {
   "cell_type": "code",
   "source": [
    "df_stat['mw_pval_fdr_bh_log'] = -np.log10(df_stat['mw_pval_fdr_bh'])\n",
    "df_stat['color'] = 'pink'\n",
    "df_stat.loc[df_stat['mw_pval_fdr_bh'] < 0.05, 'color'] = 'red'\n",
    "sns.set_theme(style='whitegrid')\n",
    "fig, ax = plt.subplots(figsize=(4, 8))\n",
    "barplot = sns.barplot(\n",
    "    data=df_stat,\n",
    "    y=df_stat.index.values,\n",
    "    x='mw_pval_fdr_bh_log',\n",
    "    edgecolor='black',\n",
    "    palette=df_stat['color'].values,\n",
    "    dodge=True,\n",
    "    ax=ax\n",
    ")\n",
    "ax.set_xlabel(r\"$-\\log_{10}(\\mathrm{p-value})$\", fontsize=18)\n",
    "ax.set_ylabel('', fontsize=20)\n",
    "ax.set_xticklabels([f\"{int(tick):d}\" for tick in ax.get_xticks()], fontsize=16)\n",
    "ax.set_yticklabels(ax.get_yticklabels(), fontsize = 16)\n",
    "plt.savefig(f\"{path_save}/central_vs_mirny/Barplot_Stat_Feats.png\", bbox_inches='tight', dpi=200)\n",
    "plt.savefig(f\"{path_save}/central_vs_mirny/Barplot_Stat_Feats.pdf\", bbox_inches='tight')\n",
    "plt.close(fig)"
   ],
   "metadata": {
    "collapsed": false
   },
   "outputs": [],
   "execution_count": null
  },
  {
   "cell_type": "markdown",
   "source": [
    "### Plot features distributions"
   ],
   "metadata": {
    "collapsed": false
   }
  },
  {
   "cell_type": "code",
   "source": [
    "n_rows = 2\n",
    "n_cols = 5\n",
    "fig_width = 12\n",
    "fig_height = 8\n",
    "\n",
    "df_fig = df.loc[list(set.union(set(ids_mirny), set(ids_central_same_age))), :]\n",
    "\n",
    "sns.set_theme(style='whitegrid')\n",
    "fig, axs = plt.subplots(n_rows, n_cols, figsize=(fig_width, fig_height), gridspec_kw={})\n",
    "feats_sorted = df_stat.index.values\n",
    "for f_id, f in enumerate(feats_sorted):\n",
    "    row_id, col_id = divmod(f_id, n_cols)\n",
    "    \n",
    "    q01 = df_fig[f].quantile(0.01)\n",
    "    q99 = df_fig[f].quantile(0.99)\n",
    "    sns.violinplot(\n",
    "        data=df_fig.loc[(df_fig[f] > q01) & (df_fig[f] < q99), :],\n",
    "        x='Group',\n",
    "        y=f,\n",
    "        palette=groups_colors,\n",
    "        scale='width',\n",
    "        order=list(groups_colors.keys()),\n",
    "        saturation=0.75,\n",
    "        cut=0,\n",
    "        linewidth=1.0,\n",
    "        ax=axs[row_id, col_id],\n",
    "        legend=False,\n",
    "    )\n",
    "    axs[row_id, col_id].set_ylabel(f)\n",
    "    axs[row_id, col_id].set_xlabel('')\n",
    "    axs[row_id, col_id].set(xticklabels=[]) \n",
    "    mw_pval = df_stat.at[f, \"mw_pval_fdr_bh\"]\n",
    "    pval_formatted = [f'{mw_pval:.2e}']\n",
    "    annotator = Annotator(\n",
    "        axs[row_id, col_id],\n",
    "        pairs=[('Central', 'Mirny')],\n",
    "        data=df_fig,\n",
    "        x='Region',\n",
    "        y=f,\n",
    "        order=list(groups_colors.keys()),\n",
    "    )\n",
    "    annotator.set_custom_annotations(pval_formatted)\n",
    "    annotator.configure(loc='outside')\n",
    "    annotator.annotate()\n",
    "\n",
    "legend_handles = [\n",
    "    mlines.Line2D([], [], marker='o', linestyle='None', markeredgecolor='k', markerfacecolor=groups_colors['Central'], markersize=10, label='Central'),\n",
    "    mlines.Line2D([], [], marker='o', linestyle='None', markeredgecolor='k', markerfacecolor=groups_colors['Mirny'], markersize=10, label='Mirny')\n",
    "]\n",
    "fig.legend(handles=legend_handles, bbox_to_anchor=(0.5, 1.0), loc=\"lower center\", ncol=2, frameon=False, fontsize='large')\n",
    "fig.tight_layout()    \n",
    "plt.savefig(f\"{path_save}/central_vs_mirny/Violin_Feats.png\", bbox_inches='tight', dpi=200)\n",
    "plt.savefig(f\"{path_save}/central_vs_mirny/Violin_Feats.pdf\", bbox_inches='tight')\n",
    "plt.close(fig)\n",
    "    "
   ],
   "metadata": {
    "collapsed": false
   },
   "outputs": [],
   "execution_count": null
  },
  {
   "cell_type": "markdown",
   "source": [
    "### SImAge analysis"
   ],
   "metadata": {
    "collapsed": false
   }
  },
  {
   "cell_type": "code",
   "source": [
    "df_fig = df.loc[list(set.union(set(ids_mirny), set(ids_central_same_age))), :]\n",
    "sns.set_theme(style='whitegrid')\n",
    "fig, ax = plt.subplots(figsize=(4, 4))\n",
    "scatter = sns.scatterplot(\n",
    "    data=df_fig,\n",
    "    x=\"Age\",\n",
    "    y=\"SImAge\",\n",
    "    hue=\"Group\",\n",
    "    palette=groups_colors,\n",
    "    linewidth=0.2,\n",
    "    alpha=0.75,\n",
    "    edgecolor=\"k\",\n",
    "    s=40,\n",
    "    ax=ax\n",
    ")\n",
    "bisect = sns.lineplot(\n",
    "    x=[0, 120],\n",
    "    y=[0, 120],\n",
    "    linestyle='--',\n",
    "    color='black',\n",
    "    linewidth=1.0,\n",
    "    ax=ax\n",
    ")\n",
    "mae_central = mean_absolute_error(df_fig.loc[ids_central_same_age, 'Age'].values, df_fig.loc[ids_central_same_age, 'SImAge'].values)\n",
    "mae_mirny = mean_absolute_error(df_fig.loc[ids_mirny, 'Age'].values, df_fig.loc[ids_mirny, 'SImAge'].values)\n",
    "ax.set_title(f\"MAE Central: {mae_central:0.1f}\\nMAE Mirny: {mae_mirny:0.1f}\")\n",
    "ax.set_xlim(0, 120)\n",
    "ax.set_ylim(0, 120)\n",
    "plt.gca().set_aspect('equal', adjustable='box')\n",
    "fig.savefig(f\"{path_save}/central_vs_mirny/SImAge_scatter.png\", bbox_inches='tight', dpi=200)\n",
    "fig.savefig(f\"{path_save}/central_vs_mirny/SImAge_scatter.pdf\", bbox_inches='tight')\n",
    "plt.close()\n",
    "\n",
    "sns.set_theme(style='whitegrid')\n",
    "fig, ax = plt.subplots(figsize=(4, 4))\n",
    "violin = sns.violinplot(\n",
    "    data=df_fig,\n",
    "    x='Group',\n",
    "    y='SImAge acceleration',\n",
    "    palette=groups_colors,\n",
    "    scale='width',\n",
    "    order=list(groups_colors.keys()),\n",
    "    saturation=0.75,\n",
    ")\n",
    "violin.set_xlabel(f\"\")\n",
    "mw_pval = mannwhitneyu(\n",
    "    df_fig.loc[df_fig['Group'] == 'Central', 'SImAge acceleration'].values,\n",
    "    df_fig.loc[df_fig['Group'] == 'Mirny', 'SImAge acceleration'].values,\n",
    "    alternative='two-sided').pvalue\n",
    "pval_formatted = [f'{mw_pval:.2e}']\n",
    "annotator = Annotator(\n",
    "    violin,\n",
    "    pairs=[('Central', 'Mirny')],\n",
    "    data=df_fig,\n",
    "    x='Group',\n",
    "    y='SImAge acceleration',\n",
    "    order=list(groups_colors.keys())\n",
    ")\n",
    "annotator.set_custom_annotations(pval_formatted)\n",
    "annotator.configure(loc='outside')\n",
    "annotator.annotate()\n",
    "fig.savefig(f\"{path_save}/central_vs_mirny/SImAge_acceleration.png\", bbox_inches='tight', dpi=200)\n",
    "fig.savefig(f\"{path_save}/central_vs_mirny/SImAge_acceleration.pdf\", bbox_inches='tight')\n",
    "plt.close()"
   ],
   "metadata": {
    "collapsed": false
   },
   "outputs": [],
   "execution_count": null
  },
  {
   "metadata": {},
   "cell_type": "markdown",
   "source": "# No-age data vs Mirny vs Central (same age)"
  },
  {
   "metadata": {},
   "cell_type": "markdown",
   "source": "## Load data"
  },
  {
   "metadata": {},
   "cell_type": "code",
   "source": [
    "path = f\"D:/YandexDisk/Work/pydnameth/datasets/GPL21145/GSEUNN\"\n",
    "path_save = f\"{path}/special/061_new_imm_data\"\n",
    "pathlib.Path(f\"{path_save}\").mkdir(parents=True, exist_ok=True)\n",
    "\n",
    "feats = pd.read_excel(f\"{path}/data/immuno/feats_con.xlsx\", index_col=0).index.values\n",
    "feats_fimmu = pd.read_excel(f\"{path}/data/immuno/models/SImAge/feats_con_top10.xlsx\", index_col=0).index.values\n",
    "feats_slctd = pd.read_excel(f\"{path}/special/059_imm_data_selection/feats_selected.xlsx\", index_col=0).index.values\n",
    "\n",
    "df = pd.read_excel(f\"{path}/data/immuno/data.xlsx\", index_col=0)\n",
    "df_w_nans = pd.read_excel(f\"{path}/data/immuno/data_with_nans.xlsx\", index_col=0)"
   ],
   "outputs": [],
   "execution_count": null
  },
  {
   "metadata": {},
   "cell_type": "markdown",
   "source": "## Impute No-age data"
  },
  {
   "metadata": {},
   "cell_type": "code",
   "source": [
    "df_noage_w_nans = pd.read_excel(f\"{path}/data/immuno/files/processed/10-March-2024/48-plex-human-_xPONENT_2024.xlsx\", index_col=\"Sample ID\")\n",
    "df_noage_w_nans.index = df_noage_w_nans.index.map(str)"
   ],
   "outputs": [],
   "execution_count": null
  },
  {
   "metadata": {},
   "cell_type": "code",
   "source": [
    "df_noage_w_nans = df_noage_w_nans.loc[df_noage_w_nans.index.str.startswith('F', na=False) | (df_noage_w_nans.index.str.isnumeric()), feats]\n",
    "df_noage_w_nans.index = 'No_age_' + df_noage_w_nans.index"
   ],
   "outputs": [],
   "execution_count": null
  },
  {
   "metadata": {},
   "cell_type": "code",
   "source": [
    "df_noage_w_nans.replace(r'^([\\<].*)$', 'NaN', inplace=True, regex=True)\n",
    "df_noage_w_nans = df_noage_w_nans.apply(pd.to_numeric, errors='coerce')\n",
    "ids_imp_trn = df.index[(df['Region'] == 'Central') & (df['Status'] == 'Control')].values\n",
    "ids_imp_tst = df_noage_w_nans.index.values\n",
    "df_imp = pd.concat([\n",
    "    df.loc[ids_imp_trn, feats],\n",
    "    df_noage_w_nans.loc[:, feats]\n",
    "])\n",
    "df_imp.loc[:, feats] = df_imp.loc[:, feats].astype('float')\n",
    "imp_vals = fast_knn(df_imp.loc[:, feats].values)\n",
    "df_imp.loc[:, feats] = imp_vals\n",
    "\n",
    "def find_nearest(array, value):\n",
    "    array = np.asarray(array)\n",
    "    idx = (np.abs(array - value)).argmin()\n",
    "    return array[idx]"
   ],
   "outputs": [],
   "execution_count": null
  },
  {
   "metadata": {},
   "cell_type": "code",
   "source": [
    "for feat in feats:\n",
    "    srs_feat_base = df_w_nans.loc[ids_imp_trn, feat].isna()\n",
    "    ids_feat_base = srs_feat_base.index[srs_feat_base == True].values\n",
    "    if len(ids_feat_base) > 0:\n",
    "        feat_base_vals = df.loc[ids_feat_base, feat].unique()\n",
    "        srs_feat_trgt = df_noage_w_nans.loc[ids_imp_tst, feat].isna()\n",
    "        ids_feat_trgt = srs_feat_trgt.index[srs_feat_trgt == True].values\n",
    "        for id_trgt in ids_feat_trgt:\n",
    "            df_imp.at[id_trgt, feat] = find_nearest(feat_base_vals, df_imp.at[id_trgt, feat])\n",
    "\n",
    "df_noage = df_noage_w_nans.copy()\n",
    "df_noage.loc[ids_imp_tst, feats] = df_imp.loc[ids_imp_tst, feats]"
   ],
   "outputs": [],
   "execution_count": null
  },
  {
   "metadata": {},
   "cell_type": "markdown",
   "source": "## Preparing data for versus"
  },
  {
   "metadata": {},
   "cell_type": "code",
   "source": [
    "pathlib.Path(f\"{path_save}/no-age_vs_central_vs_mirny\").mkdir(parents=True, exist_ok=True)\n",
    "\n",
    "ids_mirny = df.index[(df['Status'] == 'Control') & (df['Region'] == 'Mirny')].values\n",
    "ids_central = df.index[(df['Status'] == 'Control') & (df['PMC10485620 ID'].notna())].values\n",
    "\n",
    "hist_bins = np.linspace(5, 115, 23)\n",
    "age_counts, age_bin_edges = np.histogram(df.loc[ids_mirny, 'Age'].values, bins=hist_bins)\n",
    "age_prob = age_counts / len(df.loc[ids_mirny, 'Age'].values)\n",
    "bin_diff = age_bin_edges[1] - age_bin_edges[0]\n",
    "df.loc[ids_central, 'Prob Age (Mirny)'] = age_prob[np.rint((df.loc[ids_central, 'Age'].values - age_bin_edges[0]) / (bin_diff + 0.0001)).astype(int)]\n",
    "\n",
    "n_same_age = 150\n",
    "index_central_same_age = df.loc[ids_central, :].sample(n=n_same_age, replace=False, weights='Prob Age (Mirny)', random_state=1337).index\n",
    "if index_central_same_age.is_unique:\n",
    "    ids_central_same_age = index_central_same_age.values\n",
    "else:\n",
    "    print(\"Not unique index\")"
   ],
   "outputs": [],
   "execution_count": null
  },
  {
   "metadata": {},
   "cell_type": "code",
   "source": [
    "df_fig = pd.concat([\n",
    "    df.loc[ids_central_same_age, feats],\n",
    "    df.loc[ids_mirny, feats],\n",
    "    df_noage.loc[:, feats]\n",
    "])\n",
    "\n",
    "groups_ids = {\n",
    "    'Central': ids_central_same_age,\n",
    "    'Mirny': ids_mirny,\n",
    "    'No-age': df_noage.index.values\n",
    "}"
   ],
   "outputs": [],
   "execution_count": null
  },
  {
   "metadata": {},
   "cell_type": "markdown",
   "source": "## Calculate statistics"
  },
  {
   "metadata": {},
   "cell_type": "code",
   "source": [
    "df_stat = pd.DataFrame(index=list(feats))\n",
    "for feat in list(feats):\n",
    "    vals = {}\n",
    "    for group, ids in groups_ids.items():\n",
    "        vals[group] = df_fig.loc[ids, feat].values\n",
    "    _, df_stat.at[feat, \"Central vs Mirny\"] = mannwhitneyu(vals['Central'], vals['Mirny'], alternative='two-sided')\n",
    "    _, df_stat.at[feat, \"Central vs No-age\"] = mannwhitneyu(vals['Central'], vals['No-age'], alternative='two-sided')\n",
    "    _, df_stat.at[feat, \"Mirny vs No-age\"] = mannwhitneyu(vals['Mirny'], vals['No-age'], alternative='two-sided')\n",
    "\n",
    "_, df_stat.loc[feats, \"Central vs Mirny FDR\"], _, _ = multipletests(df_stat.loc[feats, \"Central vs Mirny\"], 0.05, method='fdr_bh')\n",
    "_, df_stat.loc[feats, \"Central vs No-age FDR\"], _, _ = multipletests(df_stat.loc[feats, \"Central vs No-age\"], 0.05, method='fdr_bh')\n",
    "_, df_stat.loc[feats, \"Mirny vs No-age FDR\"], _, _ = multipletests(df_stat.loc[feats, \"Mirny vs No-age\"], 0.05, method='fdr_bh')\n",
    "df_stat.to_excel(f\"{path_save}/no-age_vs_central_vs_mirny/stat.xlsx\", index_label='Features')"
   ],
   "outputs": [],
   "execution_count": null
  },
  {
   "metadata": {},
   "cell_type": "markdown",
   "source": "## Plot features p-values"
  },
  {
   "metadata": {},
   "cell_type": "code",
   "source": [
    "n_rows = 1\n",
    "n_cols = 3\n",
    "fig_width = 12\n",
    "fig_height = 18\n",
    "\n",
    "sns.set_theme(style='whitegrid')\n",
    "fig, axs = plt.subplots(n_rows, n_cols, figsize=(fig_width, fig_height), gridspec_kw={'hspace': 0.0})\n",
    "colors = ['red', 'blue', 'green']\n",
    "for pair_id, pair in enumerate([\"Central vs Mirny FDR\", \"Central vs No-age FDR\", \"Mirny vs No-age FDR\"]):\n",
    "    df_stat.sort_values([pair], ascending=True, inplace=True)\n",
    "    df_stat[f'{pair} log'] = -np.log10(df_stat[pair])\n",
    "    df_stat['color'] = 'white'\n",
    "    df_stat.loc[df_stat[pair] < 0.05, 'color'] = colors[pair_id]\n",
    "    barplot = sns.barplot(\n",
    "        data=df_stat,\n",
    "        y=df_stat.index.values,\n",
    "        x=f'{pair} log',\n",
    "        edgecolor='black',\n",
    "        palette=df_stat['color'].values,\n",
    "        dodge=True,\n",
    "        ax=axs[pair_id]\n",
    "    )\n",
    "    axs[pair_id].set_xlabel(r\"$-\\log_{10}(\\mathrm{p-value})$\", fontsize=18)\n",
    "    axs[pair_id].set_ylabel('', fontsize=20)\n",
    "    axs[pair_id].set_title(pair, fontsize=20)\n",
    "    axs[pair_id].set_xticklabels([f\"{int(tick):d}\" for tick in axs[pair_id].get_xticks()], fontsize=16)\n",
    "    axs[pair_id].set_yticklabels(axs[pair_id].get_yticklabels(), fontsize = 16)\n",
    "fig.tight_layout()\n",
    "plt.savefig(f\"{path_save}/no-age_vs_central_vs_mirny/barplot.png\", bbox_inches='tight', dpi=200)\n",
    "plt.savefig(f\"{path_save}/no-age_vs_central_vs_mirny/barplot.pdf\", bbox_inches='tight')\n",
    "plt.close(fig)"
   ],
   "outputs": [],
   "execution_count": null
  }
 ],
 "metadata": {
  "kernelspec": {
   "name": "python3",
   "language": "python",
   "display_name": "Python 3 (ipykernel)"
  },
  "language_info": {
   "codemirror_mode": {
    "name": "ipython",
    "version": 2
   },
   "file_extension": ".py",
   "mimetype": "text/x-python",
   "name": "python",
   "nbconvert_exporter": "python",
   "pygments_lexer": "ipython2",
   "version": "2.7.6"
  }
 },
 "nbformat": 4,
 "nbformat_minor": 0
}
