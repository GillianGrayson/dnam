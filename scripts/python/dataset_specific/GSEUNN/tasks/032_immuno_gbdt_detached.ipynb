{
 "cells": [
  {
   "cell_type": "markdown",
   "source": [
    "# Imports"
   ],
   "metadata": {
    "collapsed": false,
    "pycharm": {
     "name": "#%% md\n"
    }
   }
  },
  {
   "cell_type": "code",
   "execution_count": null,
   "outputs": [],
   "source": [
    "import pandas as pd\n",
    "import lightgbm as lgb\n",
    "import xgboost as xgb\n",
    "from catboost import CatBoost\n",
    "from sklearn.metrics import mean_absolute_error"
   ],
   "metadata": {
    "collapsed": false,
    "pycharm": {
     "name": "#%%\n"
    }
   }
  },
  {
   "cell_type": "markdown",
   "source": [
    "# Init data"
   ],
   "metadata": {
    "collapsed": false,
    "pycharm": {
     "name": "#%% md\n"
    }
   }
  },
  {
   "cell_type": "code",
   "execution_count": null,
   "outputs": [],
   "source": [
    "path = \"E:/YandexDisk/Work/pydnameth/datasets/GPL21145/GSEUNN/special/032_immuno_gbdt_detached\"\n",
    "features = pd.read_excel(f\"{path}/features.xlsx\").loc[:, 'features'].values\n",
    "data = pd.read_excel(f\"{path}/data.xlsx\", index_col=\"index\")\n",
    "X = data.loc[:, features].values\n",
    "y = data.loc[:, ['Age']].values"
   ],
   "metadata": {
    "collapsed": false,
    "pycharm": {
     "name": "#%%\n"
    }
   }
  },
  {
   "cell_type": "markdown",
   "source": [
    "# Test GBDT models"
   ],
   "metadata": {
    "collapsed": false,
    "pycharm": {
     "name": "#%% md\n"
    }
   }
  },
  {
   "cell_type": "code",
   "execution_count": null,
   "outputs": [],
   "source": [
    "model_names = ['xgboost', 'catboost', 'lightgbm']\n",
    "\n",
    "for m in model_names:\n",
    "\n",
    "    if m == \"lightgbm\":\n",
    "        model = lgb.Booster(model_file=f\"{path}/models/{m}.txt\")\n",
    "        y_pred = model.predict(X, num_iteration=model.best_iteration)\n",
    "    elif m == \"catboost\":\n",
    "        model = CatBoost()\n",
    "        model.load_model(f\"{path}/models/{m}.model\")\n",
    "        y_pred = model.predict(X)\n",
    "    elif m == \"xgboost\":\n",
    "        model = xgb.Booster()\n",
    "        model.load_model(f\"{path}/models/{m}.model\")\n",
    "        dmat = xgb.DMatrix(X, y, feature_names=features)\n",
    "        y_pred = model.predict(dmat)\n",
    "    else:\n",
    "        raise ValueError(f\"Unsupported model: {m}\")\n",
    "\n",
    "    mae = mean_absolute_error(y, y_pred)\n",
    "    print(f\"{m} MAE: {mae} years\")"
   ],
   "metadata": {
    "collapsed": false,
    "pycharm": {
     "name": "#%%\n"
    }
   }
  }
 ],
 "metadata": {
  "kernelspec": {
   "name": "pycharm-7948d80f",
   "language": "python",
   "display_name": "PyCharm (dnam)"
  },
  "language_info": {
   "codemirror_mode": {
    "name": "ipython",
    "version": 2
   },
   "file_extension": ".py",
   "mimetype": "text/x-python",
   "name": "python",
   "nbconvert_exporter": "python",
   "pygments_lexer": "ipython2",
   "version": "2.7.6"
  }
 },
 "nbformat": 4,
 "nbformat_minor": 0
}