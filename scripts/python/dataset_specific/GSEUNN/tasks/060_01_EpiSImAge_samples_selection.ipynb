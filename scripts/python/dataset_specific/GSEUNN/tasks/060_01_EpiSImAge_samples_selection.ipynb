{
 "cells": [
  {
   "cell_type": "markdown",
   "source": [
    "# Debugging autoreload"
   ],
   "metadata": {
    "collapsed": false
   }
  },
  {
   "cell_type": "code",
   "outputs": [],
   "source": [
    "%load_ext autoreload\n",
    "%autoreload 2"
   ],
   "metadata": {
    "collapsed": false
   }
  },
  {
   "cell_type": "markdown",
   "source": [
    "# Load packages"
   ],
   "metadata": {
    "collapsed": false
   }
  },
  {
   "cell_type": "code",
   "execution_count": null,
   "outputs": [],
   "source": [
    "import pandas as pd\n",
    "import numpy as np\n",
    "from scipy import stats\n",
    "import seaborn as sns\n",
    "import plotly.express as px\n",
    "import statsmodels.formula.api as smf\n",
    "import plotly.graph_objects as go\n",
    "from scripts.python.routines.manifest import get_manifest\n",
    "from scripts.python.routines.plot.save import save_figure\n",
    "from scripts.python.routines.plot.layout import add_layout\n",
    "from statsmodels.stats.multitest import multipletests\n",
    "import plotly.io as pio\n",
    "pio.kaleido.scope.mathjax = None\n",
    "from plotly.offline import init_notebook_mode\n",
    "init_notebook_mode(connected=False)\n",
    "from scipy.stats import mannwhitneyu, median_test, kruskal, wilcoxon, friedmanchisquare\n",
    "import matplotlib.pyplot as plt\n",
    "import matplotlib\n",
    "import matplotlib.patheffects as path_effects\n",
    "import random\n",
    "import pathlib\n",
    "from tqdm import tqdm\n",
    "from src.utils.plot.bioinfokit import mhat, volcano\n",
    "import gseapy as gp\n",
    "import mygene\n",
    "from sklearn.decomposition import PCA, IncrementalPCA, KernelPCA, TruncatedSVD\n",
    "from sklearn.decomposition import MiniBatchDictionaryLearning, FastICA\n",
    "from sklearn.random_projection import GaussianRandomProjection, SparseRandomProjection\n",
    "from sklearn.manifold import MDS, Isomap, TSNE, LocallyLinearEmbedding\n",
    "import upsetplot\n",
    "from matplotlib_venn import venn2, venn2_circles\n",
    "from itertools import chain\n",
    "from sklearn.metrics import mean_absolute_error\n",
    "from scripts.python.routines.plot.colorscales import get_continuous_color\n",
    "from impyute.imputation.cs import fast_knn\n",
    "import plotly\n",
    "from scripts.python.routines.plot.p_value import add_p_value_annotation\n",
    "from scripts.python.routines.sections import get_sections\n",
    "from statannotations.Annotator import Annotator\n",
    "import functools\n",
    "import matplotlib.lines as mlines\n",
    "import patchworklib as pw\n",
    "\n",
    "\n",
    "def conjunction(conditions):\n",
    "    return functools.reduce(np.logical_and, conditions)\n",
    "\n",
    "\n",
    "def disjunction(conditions):\n",
    "    return functools.reduce(np.logical_or, conditions)"
   ],
   "metadata": {
    "collapsed": false
   }
  },
  {
   "cell_type": "markdown",
   "source": [
    "# Load data"
   ],
   "metadata": {
    "collapsed": false
   }
  },
  {
   "cell_type": "markdown",
   "source": [
    "## Immunology"
   ],
   "metadata": {
    "collapsed": false
   }
  },
  {
   "cell_type": "code",
   "execution_count": null,
   "outputs": [],
   "source": [
    "path = f\"D:/YandexDisk/Work/pydnameth/datasets/GPL21145/GSEUNN\"\n",
    "path_save = f\"{path}/special/060_EpiSImAge\"\n",
    "pathlib.Path(f\"{path_save}\").mkdir(parents=True, exist_ok=True)\n",
    "\n",
    "# Papers\n",
    "df_imm_fimmu = pd.read_excel(f\"{path}/data/immuno/models/SImAge/data.xlsx\", index_col=\"sample_id\")\n",
    "df_imm_geroscience = pd.read_excel(f\"{path}/data/immuno/models/IPAge/11357_2022_540_MOESM12_ESM.xlsx\", index_col=0, skiprows=1)\n",
    "df_epi_clinepi = pd.read_excel(f\"{path}/data/GSE234461/samples.xlsx\", index_col=0)\n",
    "\n",
    "df_imm_all = pd.read_excel(f\"{path}/data/immuno/df_samples(all_1052_121222)_proc(raw)_imp(fast_knn)_replace(quarter).xlsx\", index_col=0)\n",
    "df_ld_imm = df_imm_all['Subject ID'].value_counts().to_frame()\n",
    "df_imm_all['Is longitudinal?'] = False\n",
    "df_imm_all.loc[df_imm_all['Subject ID'].isin(df_ld_imm.index[df_ld_imm['Subject ID'] > 1].values), 'Is longitudinal?'] = True\n",
    "df_imm_all.rename(columns={'Sample_Chronology': 'Time'}, inplace=True)\n",
    "df_imm_all['Time'].replace({0: 'T0', 1: 'T1', 2: 'T2', 3: 'T3'}, inplace=True)\n",
    "df_imm_ctrl = pd.read_excel(f\"{path}/special/059_imm_data_selection/df_imm.xlsx\", index_col=0)\n",
    "df_imm_ctrl.rename(columns={'ids_fimmu': 'PMC10485620 ID'}, inplace=True)\n",
    "df_imm_esrd = df_imm_all.loc[df_imm_all['Status'] == 'ESRD', :]\n",
    "df_imm = pd.concat([df_imm_ctrl, df_imm_esrd], verify_integrity=True)\n",
    "df_imm.loc[df_imm_fimmu.index.values, 'PMC10485620 ID'] = df_imm_fimmu.loc[df_imm_fimmu.index.values, 'index']\n",
    "df_imm.loc[df_imm_geroscience.index.values, 'PMC9135940 ID'] = df_imm_geroscience.loc[df_imm_geroscience.index.values, 'ID_Origin']\n",
    "df_imm.to_excel(f\"{path_save}/df_imm.xlsx\")\n",
    "\n",
    "feats_imm = pd.read_excel(f\"{path}/data/immuno/feats_con.xlsx\", index_col=0).index.values\n",
    "feats_imm_fimmu = pd.read_excel(f\"{path}/data/immuno/models/SImAge/feats_con_top10.xlsx\", index_col=0).index.values\n",
    "feats_imm_slctd = pd.read_excel(f\"{path}/special/059_imm_data_selection/feats_selected.xlsx\", index_col=0).index.values"
   ],
   "metadata": {
    "collapsed": false
   }
  },
  {
   "cell_type": "markdown",
   "source": [
    "## Epigenetics"
   ],
   "metadata": {
    "collapsed": false
   }
  },
  {
   "cell_type": "code",
   "outputs": [],
   "source": [
    "df_epi_all = pd.read_excel(f\"{path}/pheno.xlsx\", index_col=\"index\")\n",
    "df_epi_all.index.name = \"index\"\n",
    "df_epi_all.drop([\"I64_old\", \"I1_duplicate\"], inplace=True)\n",
    "df_epi_all.rename(columns={'Subject_ID': 'Subject ID'}, inplace=True)\n",
    "df_ld_epi = df_epi_all['Subject ID'].value_counts().to_frame()\n",
    "df_epi_all['Is longitudinal?'] = False\n",
    "df_epi_all.loc[df_epi_all['Subject ID'].isin(df_ld_epi.index[df_ld_epi['Subject ID'] > 1].values), 'Is longitudinal?'] = True\n",
    "df_epi_all.rename(columns={'Sample_Chronology': 'Time'}, inplace=True)\n",
    "df_epi_all['Time'].replace({0: 'T0', 1: 'T1', 2: 'T2', 3: 'T3'}, inplace=True)\n",
    "df_epi = df_epi_all.loc[df_epi_all['Status'].isin(['Control', 'ESRD']), :]\n",
    "df_epi.loc[df_epi_clinepi.index.values, 'GSM'] = df_epi_clinepi.loc[df_epi_clinepi.index.values, 'GSM']\n",
    "df_epi.loc[df_epi_clinepi.index.values, 'PMC10699032 ID'] = df_epi_clinepi.loc[df_epi_clinepi.index.values, 'GSM']\n",
    "df_epi.to_excel(f\"{path_save}/df_epi.xlsx\")"
   ],
   "metadata": {
    "collapsed": false
   },
   "execution_count": null
  },
  {
   "cell_type": "markdown",
   "source": [
    "# Comparing"
   ],
   "metadata": {
    "collapsed": false
   }
  },
  {
   "cell_type": "markdown",
   "source": [
    "## Venn diagrams and sets"
   ],
   "metadata": {
    "collapsed": false
   }
  },
  {
   "cell_type": "code",
   "outputs": [],
   "source": [
    "pathlib.Path(f\"{path_save}/imm_vs_epi\").mkdir(parents=True, exist_ok=True)\n",
    "sections = get_sections([set(df_imm.index), set(df_epi.index)])\n",
    "for sec in sections:\n",
    "    df_sec = pd.DataFrame(index=list(sections[sec]))\n",
    "    df_sec.to_excel(f\"{path_save}/imm_vs_epi/{sec}.xlsx\", index_label='index')\n",
    "fig, ax = plt.subplots()\n",
    "venn = venn2(\n",
    "    subsets=(set(df_imm.index), set(df_epi.index)),\n",
    "    set_labels = ('Imm', 'Epi'),\n",
    "    set_colors=('r', 'g'),\n",
    "    alpha = 0.5\n",
    ")\n",
    "venn2_circles(subsets=(set(df_imm.index), set(df_epi.index)))\n",
    "for text in venn.set_labels:\n",
    "    text.set_fontsize(16)\n",
    "for text in venn.subset_labels:\n",
    "    text.set_fontsize(25)\n",
    "plt.savefig(f\"{path_save}/imm_vs_epi/venn.png\", bbox_inches='tight', dpi=200)\n",
    "plt.savefig(f\"{path_save}/imm_vs_epi/venn.pdf\", bbox_inches='tight')\n",
    "plt.clf()"
   ],
   "metadata": {
    "collapsed": false
   },
   "execution_count": null
  },
  {
   "cell_type": "markdown",
   "source": [
    "## Differences"
   ],
   "metadata": {
    "collapsed": false
   }
  },
  {
   "cell_type": "code",
   "outputs": [],
   "source": [
    "ids_cmn = df_epi.index.intersection(df_imm.index).values\n",
    "\n",
    "feats_cmn = set(df_imm.columns.values).intersection(df_epi.columns.values)\n",
    "feats_diff = {}\n",
    "for f in feats_cmn:\n",
    "    eq = df_imm.loc[ids_cmn, f].equals(df_epi.loc[ids_cmn, f])\n",
    "    if not eq:\n",
    "        ids_diff = ids_cmn[(df_imm.loc[ids_cmn, f] != df_epi.loc[ids_cmn, f]) == True]\n",
    "        feats_diff[f] = ids_diff\n",
    "        if f == \"Age\":\n",
    "            print(f\"{f}: {np.max(np.abs(df_imm.loc[ids_cmn, f].values - df_epi.loc[ids_cmn, f].values))}\")\n",
    "        else:\n",
    "            print(f\"{f}: {ids_diff}\")\n",
    "\n",
    "df_diff = pd.merge(df_imm.loc[ids_cmn, list(feats_diff.keys()) + ['Status', 'Region']], df_epi.loc[ids_cmn, list(feats_diff.keys())], left_index=True, right_index=True, suffixes=('_imm', '_epi'))\n",
    "for f in feats_diff:\n",
    "    df_diff[f\"{f} Diff\"] = False\n",
    "    df_diff.loc[feats_diff[f], f\"{f} Diff\"] = True\n",
    "df_diff.to_excel(f\"{path_save}/imm_vs_epi/df_diff.xlsx\")"
   ],
   "metadata": {
    "collapsed": false
   },
   "execution_count": null
  },
  {
   "cell_type": "markdown",
   "source": [
    "# Merge data"
   ],
   "metadata": {
    "collapsed": false
   }
  },
  {
   "cell_type": "code",
   "outputs": [],
   "source": [
    "ids_cmn = df_epi.index.intersection(df_imm.index).values\n",
    "\n",
    "feats_from_imm = list(feats_imm) + [\n",
    "    'Subject ID', 'Time', 'Status', 'Sex', 'Age', 'Region', 'SImAge', 'SImAge acceleration', '|SImAge acceleration|', 'Dialysis (months)',\n",
    "    'PMC10485620 ID', 'PMC9135940 ID'\n",
    "]\n",
    "\n",
    "feats_from_epi = [\n",
    "    'index_origin', 'Aux', 'COVID', 'GSM', 'PMC10699032 ID', 'Residence', 'Nationality', 'Sample_Name', 'Sentrix_ID', 'Sentrix_Position',\n",
    "]\n",
    "\n",
    "df = pd.merge(df_imm.loc[ids_cmn, feats_from_imm], df_epi.loc[ids_cmn, feats_from_epi], left_index=True, right_index=True, suffixes=('_imm', '_epi'))\n",
    "\n",
    "df_ltd = df['Subject ID'].value_counts().to_frame()\n",
    "df['Is longitudinal?'] = False\n",
    "df.loc[df['Subject ID'].isin(df_ltd.index[df_ltd['Subject ID'] > 1].values), 'Is longitudinal?'] = True\n",
    "df.to_excel(f\"{path_save}/df.xlsx\")"
   ],
   "metadata": {
    "collapsed": false
   },
   "execution_count": null
  },
  {
   "cell_type": "markdown",
   "source": [
    "# Create sample sheet for R"
   ],
   "metadata": {
    "collapsed": false
   }
  },
  {
   "cell_type": "code",
   "outputs": [],
   "source": [
    "df_r = df.loc[:, ['Subject ID', 'Sample_Name', 'Age', 'Sex', 'Status', 'Region', 'Sentrix_ID', 'Sentrix_Position']]\n",
    "df_r['Tissue'] = 'Blood WB'\n",
    "df_r.to_csv(f\"{path_save}/sample_sheet.csv\")"
   ],
   "metadata": {
    "collapsed": false
   },
   "execution_count": null
  }
 ],
 "metadata": {
  "kernelspec": {
   "name": "python3",
   "language": "python",
   "display_name": "Python 3 (ipykernel)"
  },
  "language_info": {
   "codemirror_mode": {
    "name": "ipython",
    "version": 2
   },
   "file_extension": ".py",
   "mimetype": "text/x-python",
   "name": "python",
   "nbconvert_exporter": "python",
   "pygments_lexer": "ipython2",
   "version": "2.7.6"
  }
 },
 "nbformat": 4,
 "nbformat_minor": 0
}
