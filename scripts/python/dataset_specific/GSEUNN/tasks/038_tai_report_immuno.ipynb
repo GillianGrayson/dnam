{
 "cells": [
  {
   "cell_type": "markdown",
   "source": [
    "# Imports"
   ],
   "metadata": {
    "collapsed": false
   }
  },
  {
   "cell_type": "code",
   "execution_count": null,
   "outputs": [],
   "source": [
    "import pandas as pd\n",
    "import numpy as np\n",
    "from plotly.subplots import make_subplots\n",
    "from scipy import stats\n",
    "import plotly.express as px\n",
    "from scripts.python.routines.plot.scatter import add_scatter_trace\n",
    "import plotly.graph_objects as go\n",
    "from scripts.python.routines.plot.save import save_figure\n",
    "from scripts.python.routines.plot.layout import add_layout, get_axis\n",
    "from statsmodels.stats.multitest import multipletests\n",
    "import plotly.io as pio\n",
    "pio.kaleido.scope.mathjax = None\n",
    "from plotly.offline import init_notebook_mode, iplot\n",
    "init_notebook_mode(connected=False)\n",
    "import matplotlib.pyplot as plt\n",
    "import seaborn as sns\n",
    "import pathlib\n",
    "from sklearn.metrics import mean_absolute_error\n",
    "import patchworklib as pw"
   ],
   "metadata": {
    "collapsed": false
   }
  },
  {
   "cell_type": "markdown",
   "source": [
    "# Init data"
   ],
   "metadata": {
    "collapsed": false
   }
  },
  {
   "cell_type": "code",
   "execution_count": null,
   "outputs": [],
   "source": [
    "path_save = \"E:/YandexDisk/Work/pydnameth/datasets/GPL21145/GSEUNN/special/038_tai_report_immuno\"\n",
    "pathlib.Path(f\"{path_save}\").mkdir(parents=True, exist_ok=True)\n",
    "\n",
    "path_load = \"E:/YandexDisk/Work/pydnameth/datasets/GPL21145/GSEUNN/special/021_ml_data/immuno\"\n",
    "\n",
    "fn = \"260_imp(fast_knn)_replace(quarter)\"\n",
    "\n",
    "df = pd.read_excel(f\"{path_load}/{fn}.xlsx\", index_col=\"index\")\n",
    "feats = pd.read_excel(f\"{path_load}/feats_con.xlsx\", index_col=\"features\").index.values"
   ],
   "metadata": {
    "collapsed": false
   }
  },
  {
   "cell_type": "markdown",
   "source": [
    "# # Creating inference file with \"data_part\" field"
   ],
   "metadata": {
    "collapsed": false
   }
  },
  {
   "cell_type": "code",
   "execution_count": null,
   "outputs": [],
   "source": [
    "parts_df = pd.read_excel(f\"E:/YandexDisk/Work/pydnameth/draft/06_somewhere/models/baseline/k_5/widedeep_tab_net/1/30/predictions.xlsx\", index_col=\"index\")\n",
    "df.loc[df.index, \"data_part\"] = parts_df.loc[df.index, parts_df.columns[0]]\n",
    "df.to_excel(f\"{path_save}/inference.xlsx\", index=True)"
   ],
   "metadata": {
    "collapsed": false
   }
  },
  {
   "cell_type": "markdown",
   "source": [
    "# Plots for best_model"
   ],
   "metadata": {
    "collapsed": false
   }
  },
  {
   "cell_type": "code",
   "execution_count": null,
   "outputs": [],
   "source": [
    "df_best = pd.read_excel(f\"{path_load}/models/immuno_inference_widedeep_tab_net/runs/2022-11-09_13-31-51/df.xlsx\", index_col=\"index\")\n",
    "\n",
    "parts = {\"trn\": \"Train\", \"val\": \"Test\"}\n",
    "ptp = np.ptp(df_best.loc[:, \"Age\"].values)\n",
    "bin_size = ptp / 15\n",
    "fig = go.Figure()\n",
    "for part_id, part_name in parts.items():\n",
    "    fig.add_trace(\n",
    "        go.Histogram(\n",
    "            x=df_best.loc[df_best[\"data_part\"] == part_id, \"Age\"].values,\n",
    "            name=part_name,\n",
    "            showlegend=True,\n",
    "            marker=dict(\n",
    "                opacity=0.75,\n",
    "                line=dict(\n",
    "                    width=1\n",
    "                ),\n",
    "            ),\n",
    "            xbins=dict(size=bin_size)\n",
    "        )\n",
    "    )\n",
    "add_layout(fig, f\"Age\", \"Count\", \"\")\n",
    "fig.update_layout(margin=go.layout.Margin(l=90, r=20, b=100, t=50, pad=0), width=800, height=600)\n",
    "fig.update_layout(legend_font_size=24)\n",
    "fig.update_xaxes(autorange=False)\n",
    "fig.update_xaxes(range=[12, 100])\n",
    "fig.update_layout({'colorway': [\"lime\", \"magenta\"]}, barmode='overlay', legend={'itemsizing': 'constant'})\n",
    "pathlib.Path(f\"{path_save}/best_model\").mkdir(parents=True, exist_ok=True)\n",
    "save_figure(fig, f\"{path_save}/best_model/Histogram\")\n",
    "\n",
    "fig = go.Figure()\n",
    "add_scatter_trace(fig, [12, 100], [12, 100], \"\", mode=\"lines\")\n",
    "add_scatter_trace(fig, df_best.loc[df_best[\"data_part\"] == \"trn\", \"Age\"].values, df_best.loc[df_best[\"data_part\"] == \"trn\", \"Estimation\"].values, f\"Train\", size=13)\n",
    "add_scatter_trace(fig, df_best.loc[df_best[\"data_part\"] == \"val\", \"Age\"].values, df_best.loc[df_best[\"data_part\"] == \"val\", \"Estimation\"].values, f\"Test\", size=13)\n",
    "add_layout(fig, \"Age\", f\"SImAge\", f\"\")\n",
    "fig.update_layout({'colorway': [\"black\", \"lime\", \"magenta\"]}, legend={'itemsizing': 'constant'})\n",
    "fig.update_layout(legend_font_size=24)\n",
    "fig.update_xaxes(autorange=False)\n",
    "fig.update_xaxes(range=[12, 100])\n",
    "fig.update_yaxes(autorange=False)\n",
    "fig.update_yaxes(range=[12, 100])\n",
    "fig.update_layout(margin=go.layout.Margin(l=90, r=20, b=100, t=50, pad=0), width=800, height=600)\n",
    "pathlib.Path(f\"{path_save}/best_model\").mkdir(parents=True, exist_ok=True)\n",
    "save_figure(fig, f\"{path_save}/best_model/Scatter\")"
   ],
   "metadata": {
    "collapsed": false
   }
  },
  {
   "cell_type": "markdown",
   "source": [
    "# Plots for SHAP"
   ],
   "metadata": {
    "collapsed": false
   }
  },
  {
   "cell_type": "markdown",
   "source": [
    "## Global explainability"
   ],
   "metadata": {
    "collapsed": false
   }
  },
  {
   "cell_type": "code",
   "execution_count": null,
   "outputs": [],
   "source": [
    "df_best = pd.read_excel(f\"{path_load}/models/immuno_inference_widedeep_tab_net/runs/2022-11-09_20-16-40/df.xlsx\", index_col=\"index\")\n",
    "df_shap = pd.read_excel(f\"{path_load}/models/immuno_inference_widedeep_tab_net/runs/2022-11-09_20-16-40/shap/all/shap.xlsx\", index_col=\"index\")\n",
    "df_shap.rename(columns={x: f\"{x}_shap\" for x in feats}, inplace=True)\n",
    "\n",
    "df_feats_importance = pd.DataFrame(data=np.zeros(len(feats)), index=feats, columns=[\"Mean(|SHAP|)\"])\n",
    "df_feats_importance.index.name = \"Features\"\n",
    "\n",
    "shap_mean_abs = []\n",
    "for feat in feats:\n",
    "    shap_mean_abs.append(np.mean(np.abs(df_shap.loc[:, f\"{feat}_shap\"].values)))\n",
    "df_feats_importance[\"Mean(|SHAP|)\"] = shap_mean_abs\n",
    "\n",
    "df_feats_importance.sort_values(by=\"Mean(|SHAP|)\", ascending=False, inplace=True)\n",
    "plt.figure(figsize=(34, 10))\n",
    "plt.xticks(rotation=90)\n",
    "sns.set_theme(style='white', font_scale=3)\n",
    "sns.barplot(data=df_feats_importance, x=df_feats_importance.index, y=\"Mean(|SHAP|)\")\n",
    "pathlib.Path(f\"{path_save}/feature_importance\").mkdir(parents=True, exist_ok=True)\n",
    "plt.savefig(f\"{path_save}/feature_importance/bar.png\", bbox_inches='tight')\n",
    "plt.savefig(f\"{path_save}/feature_importance/bar.pdf\", bbox_inches='tight')"
   ],
   "metadata": {
    "collapsed": false
   }
  },
  {
   "cell_type": "markdown",
   "source": [
    "## Local explainability"
   ],
   "metadata": {
    "collapsed": false
   }
  },
  {
   "cell_type": "code",
   "execution_count": null,
   "outputs": [],
   "source": [
    "df_best = pd.read_excel(f\"{path_load}/models/immuno_inference_widedeep_tab_net/runs/2022-11-09_20-16-40/df.xlsx\", index_col=\"index\")\n",
    "df_best = df_best.loc[:, [\"Age\", \"Estimation\"] + list(feats)]\n",
    "df_best.rename(columns={x: f\"{x}_values\" for x in feats}, inplace=True)\n",
    "df_best[\"Diff\"] = df_best[\"Estimation\"] - df_best[\"Age\"]\n",
    "df_shap = pd.read_excel(f\"{path_load}/models/immuno_inference_widedeep_tab_net/runs/2022-11-09_20-16-40/shap/all/shap.xlsx\", index_col=\"index\")\n",
    "df_shap.rename(columns={x: f\"{x}_shap\" for x in feats}, inplace=True)\n",
    "df_shap = pd.merge(df_shap, df_best, left_index=True, right_index=True)\n",
    "pathlib.Path(f\"{path_save}/SHAP\").mkdir(parents=True, exist_ok=True)\n",
    "df_shap.to_excel(f\"{path_save}/SHAP/data.xlsx\", index=True)\n",
    "\n",
    "neg, pos = np.quantile(df_best[\"Diff\"], [0.1, 0.9])\n",
    "print(f\"Pos: {pos}, neg: {neg}\")\n",
    "\n",
    "diff_sign = {\n",
    "    'positive': df_shap.loc[df_shap[\"Diff\"] > pos, :],\n",
    "    'negative': df_shap.loc[df_shap[\"Diff\"] < neg, :],\n",
    "}\n",
    "\n",
    "n_top_features = 10\n",
    "\n",
    "for sign in diff_sign:\n",
    "\n",
    "    shap_mean_abs = []\n",
    "    for feat in feats:\n",
    "        shap_mean_abs.append(np.mean(np.abs(diff_sign[sign].loc[:, f\"{feat}_shap\"].values)))\n",
    "\n",
    "    order = np.argsort(shap_mean_abs)[len(shap_mean_abs) - n_top_features : len(shap_mean_abs)]\n",
    "    feats_sorted = feats[order]\n",
    "    shap_mean_abs = np.array(shap_mean_abs)[order]\n",
    "\n",
    "    fig = go.Figure()\n",
    "    for feat_id, feat in enumerate(feats_sorted):\n",
    "        showscale = True if feat_id == 0 else False\n",
    "        xs = diff_sign[sign].loc[:, f\"{feat}_shap\"].values\n",
    "        colors = diff_sign[sign].loc[:, f\"{feat}_values\"].values\n",
    "\n",
    "        N = len(xs)\n",
    "        row_height = 0.40\n",
    "        nbins = 20\n",
    "        xs = list(xs)\n",
    "        xs = np.array(xs, dtype=float)\n",
    "        quant = np.round(nbins * (xs - np.min(xs)) / (np.max(xs) - np.min(xs) + 1e-8))\n",
    "        inds = np.argsort(quant + np.random.randn(N) * 1e-6)\n",
    "        layer = 0\n",
    "        last_bin = -1\n",
    "        ys = np.zeros(N)\n",
    "        for ind in inds:\n",
    "            if quant[ind] != last_bin:\n",
    "                layer = 0\n",
    "            ys[ind] = np.ceil(layer / 2) * ((layer % 2) * 2 - 1)\n",
    "            layer += 1\n",
    "            last_bin = quant[ind]\n",
    "        ys *= 0.9 * (row_height / np.max(ys + 1))\n",
    "        ys = feat_id + ys\n",
    "\n",
    "        fig.add_trace(\n",
    "            go.Scatter(\n",
    "                x=xs,\n",
    "                y=ys,\n",
    "                showlegend=False,\n",
    "                mode='markers',\n",
    "                marker=dict(\n",
    "                    size=12,\n",
    "                    opacity=0.5,\n",
    "                    line=dict(\n",
    "                        width=0.00\n",
    "                    ),\n",
    "                    color=colors,\n",
    "                    colorscale=px.colors.sequential.Rainbow,\n",
    "                    showscale=showscale,\n",
    "                    colorbar=dict(\n",
    "                        title=dict(text=\"\", font=dict(size=26)),\n",
    "                        tickfont=dict(size=26),\n",
    "                        tickmode=\"array\",\n",
    "                        tickvals=[min(colors), max(colors)],\n",
    "                        ticktext=[\"Min\", \"Max\"],\n",
    "                        x=1.03,\n",
    "                        y=0.5,\n",
    "                        len=0.99\n",
    "                    )\n",
    "                ),\n",
    "            )\n",
    "        )\n",
    "\n",
    "    add_layout(fig, \"SHAP values\", \"\", f\"\")\n",
    "    fig.update_layout(legend_font_size=20)\n",
    "    fig.update_layout(showlegend=False)\n",
    "    fig.update_xaxes(zeroline=True, zerolinewidth=1, zerolinecolor='grey')\n",
    "    fig.update_layout(\n",
    "        yaxis=dict(\n",
    "            tickmode='array',\n",
    "            tickvals=list(range(len(feats_sorted))),\n",
    "            ticktext=feats_sorted,\n",
    "            showticklabels=False\n",
    "        )\n",
    "    )\n",
    "    fig.update_yaxes(autorange=False)\n",
    "    fig.update_layout(yaxis_range=[-0.5, len(feats_sorted) - 0.5])\n",
    "    fig.update_yaxes(tickfont_size=26)\n",
    "    fig.update_xaxes(tickfont_size=26)\n",
    "    fig.update_xaxes(title_font_size=26)\n",
    "    fig.update_xaxes(nticks=6)\n",
    "    fig.update_layout(\n",
    "        xaxis=dict(showgrid=False),\n",
    "        yaxis=dict(showgrid=False)\n",
    "    )\n",
    "    fig.update_layout(\n",
    "        autosize=False,\n",
    "        width=700,\n",
    "        height=800,\n",
    "        margin=go.layout.Margin(\n",
    "            l=20,\n",
    "            r=100,\n",
    "            b=80,\n",
    "            t=20,\n",
    "            pad=0\n",
    "        )\n",
    "    )\n",
    "    save_figure(fig, f\"{path_save}/SHAP/{sign}_beeswarm\")\n",
    "\n",
    "    fig = go.Figure()\n",
    "    fig.add_trace(\n",
    "        go.Bar(\n",
    "            x=shap_mean_abs,\n",
    "            y=list(range(len(shap_mean_abs))),\n",
    "            orientation='h',\n",
    "            marker=dict(color='red', opacity=1.0)\n",
    "        )\n",
    "    )\n",
    "    add_layout(fig, \"Mean(|SHAP values|)\", \"\", f\"\")\n",
    "    fig.update_layout(legend_font_size=20)\n",
    "    fig.update_layout(showlegend=False)\n",
    "    fig.update_layout(\n",
    "        yaxis=dict(\n",
    "            tickmode='array',\n",
    "            tickvals=list(range(len(feats_sorted))),\n",
    "            ticktext=feats_sorted\n",
    "        )\n",
    "    )\n",
    "    fig.update_yaxes(autorange=False)\n",
    "    fig.update_layout(yaxis_range=[-0.5, len(feats_sorted) - 0.5])\n",
    "    fig.update_yaxes(tickfont_size=26)\n",
    "    fig.update_xaxes(tickfont_size=26)\n",
    "    fig.update_xaxes(title_font_size=26)\n",
    "    fig.update_xaxes(nticks=6)\n",
    "    fig.update_layout(\n",
    "        autosize=False,\n",
    "        width=500,\n",
    "        height=800,\n",
    "        margin=go.layout.Margin(\n",
    "            l=120,\n",
    "            r=100,\n",
    "            b=80,\n",
    "            t=20,\n",
    "            pad=0\n",
    "        )\n",
    "    )\n",
    "    save_figure(fig, f\"{path_save}/SHAP/{sign}_bar\")"
   ],
   "metadata": {
    "collapsed": false
   }
  }
 ],
 "metadata": {
  "kernelspec": {
   "name": "pycharm-7948d80f",
   "language": "python",
   "display_name": "PyCharm (dnam)"
  },
  "language_info": {
   "codemirror_mode": {
    "name": "ipython",
    "version": 2
   },
   "file_extension": ".py",
   "mimetype": "text/x-python",
   "name": "python",
   "nbconvert_exporter": "python",
   "pygments_lexer": "ipython2",
   "version": "2.7.6"
  }
 },
 "nbformat": 4,
 "nbformat_minor": 0
}
