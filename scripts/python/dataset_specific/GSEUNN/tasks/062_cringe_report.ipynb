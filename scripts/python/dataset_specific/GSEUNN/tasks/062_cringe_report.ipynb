{
 "cells": [
  {
   "cell_type": "markdown",
   "source": [
    "# Debugging autoreload"
   ],
   "metadata": {
    "collapsed": false
   }
  },
  {
   "cell_type": "code",
   "outputs": [],
   "source": [
    "%load_ext autoreload\n",
    "%autoreload 2"
   ],
   "metadata": {
    "collapsed": false
   },
   "execution_count": null
  },
  {
   "cell_type": "markdown",
   "source": [
    "# Load packages"
   ],
   "metadata": {
    "collapsed": false
   }
  },
  {
   "cell_type": "code",
   "execution_count": null,
   "outputs": [],
   "source": [
    "import pandas as pd\n",
    "import numpy as np\n",
    "from scipy import stats\n",
    "import seaborn as sns\n",
    "import plotly.express as px\n",
    "import statsmodels.formula.api as smf\n",
    "import plotly.graph_objects as go\n",
    "from scripts.python.routines.manifest import get_manifest\n",
    "from scripts.python.routines.plot.save import save_figure\n",
    "from scripts.python.routines.plot.layout import add_layout\n",
    "from statsmodels.stats.multitest import multipletests\n",
    "import plotly.io as pio\n",
    "pio.kaleido.scope.mathjax = None\n",
    "from plotly.offline import init_notebook_mode\n",
    "init_notebook_mode(connected=False)\n",
    "from scipy.stats import mannwhitneyu, median_test, kruskal, wilcoxon, friedmanchisquare\n",
    "import matplotlib.pyplot as plt\n",
    "import matplotlib\n",
    "import matplotlib.patheffects as path_effects\n",
    "import random\n",
    "import pathlib\n",
    "from tqdm import tqdm\n",
    "from src.utils.plot.bioinfokit import mhat, volcano\n",
    "import gseapy as gp\n",
    "import mygene\n",
    "from sklearn.decomposition import PCA, IncrementalPCA, KernelPCA, TruncatedSVD\n",
    "from sklearn.decomposition import MiniBatchDictionaryLearning, FastICA\n",
    "from sklearn.random_projection import GaussianRandomProjection, SparseRandomProjection\n",
    "from sklearn.manifold import MDS, Isomap, TSNE, LocallyLinearEmbedding\n",
    "import upsetplot\n",
    "from matplotlib_venn import venn2, venn2_circles\n",
    "from itertools import chain\n",
    "from sklearn.metrics import mean_absolute_error\n",
    "from scripts.python.routines.plot.colorscales import get_continuous_color\n",
    "from impyute.imputation.cs import fast_knn\n",
    "import plotly\n",
    "import torch\n",
    "from scripts.python.routines.plot.p_value import add_p_value_annotation\n",
    "from scripts.python.routines.sections import get_sections\n",
    "from src.models.tabular.widedeep.ft_transformer import WDFTTransformerModel\n",
    "from statannotations.Annotator import Annotator\n",
    "import functools\n",
    "import matplotlib.lines as mlines\n",
    "import patchworklib as pw\n",
    "from scipy import stats\n",
    "\n",
    "import warnings\n",
    "warnings.filterwarnings(\"ignore\", \".*will save all targets and predictions in the buffer. For large datasets, this may lead to large memory footprint.*\")\n",
    "\n",
    "\n",
    "def conjunction(conditions):\n",
    "    return functools.reduce(np.logical_and, conditions)\n",
    "\n",
    "\n",
    "def disjunction(conditions):\n",
    "    return functools.reduce(np.logical_or, conditions)"
   ],
   "metadata": {
    "collapsed": false
   }
  },
  {
   "cell_type": "markdown",
   "source": [
    "# Update original data with new data from Mirny"
   ],
   "metadata": {
    "collapsed": false
   }
  },
  {
   "cell_type": "markdown",
   "source": [
    "## Load original data"
   ],
   "metadata": {
    "collapsed": false
   }
  },
  {
   "cell_type": "code",
   "execution_count": null,
   "outputs": [],
   "source": [
    "path = f\"D:/YandexDisk/Work/pydnameth/datasets/GPL21145/GSEUNN\"\n",
    "path_save = f\"{path}/special/062_cringe_report\"\n",
    "pathlib.Path(f\"{path_save}\").mkdir(parents=True, exist_ok=True)\n",
    "\n",
    "df_all = pd.read_excel(f\"{path}/data/immuno/df_samples(all_1052_121222)_proc(raw)_imp(fast_knn)_replace(quarter).xlsx\", index_col=0)\n",
    "feats_fimmu = pd.read_excel(f\"{path}/data/immuno/models/SImAge/feats_con_top10.xlsx\", index_col=0).index.values\n",
    "ids_fimmu = df_all.index[(df_all['PMC10485620 ID'].notna()) & (df_all['Status'] == 'Control')].values\n",
    "df = df_all.loc[ids_fimmu, :]"
   ],
   "metadata": {
    "collapsed": false
   }
  },
  {
   "cell_type": "code",
   "outputs": [],
   "source": [
    "age_window = 5\n",
    "trgt_id = 'F2-L21'\n",
    "trgt_age = df.at[trgt_id, 'Age']\n",
    "trgt_simage = df.at[trgt_id, 'SImAge']\n",
    "trgt_simage_acc = df.at[trgt_id, 'SImAge acceleration']\n",
    "ids_near = df.index[(df['Age'] >= trgt_age - age_window) & (df['Age'] < trgt_age + age_window)]\n",
    "trgt_simage_acc_prctl = stats.percentileofscore(df.loc[ids_near, 'SImAge acceleration'], trgt_simage_acc)"
   ],
   "metadata": {
    "collapsed": false
   },
   "execution_count": null
  },
  {
   "cell_type": "code",
   "outputs": [],
   "source": [
    "sns.set(style='whitegrid', font_scale=1.5)\n",
    "fig, ax = plt.subplots(figsize=(10, 6))\n",
    "kdeplot = sns.kdeplot(\n",
    "    data=df.loc[ids_near, :],\n",
    "    x='SImAge acceleration',\n",
    "    color='gray',\n",
    "    linewidth=4,\n",
    "    cut=0,\n",
    "    ax=ax\n",
    ")\n",
    "kdeline = ax.lines[0]\n",
    "xs = kdeline.get_xdata()\n",
    "ys = kdeline.get_ydata()\n",
    "ax.fill_between(xs, 0, ys, where=(xs <= trgt_simage_acc), interpolate=True, facecolor='dodgerblue', alpha=0.7)\n",
    "ax.fill_between(xs, 0, ys, where=(xs >= trgt_simage_acc), interpolate=True, facecolor='crimson', alpha=0.7)\n",
    "ax.vlines(trgt_simage_acc, 0, np.interp(trgt_simage_acc, xs, ys), color='black', linewidth=6)\n",
    "ax.text(np.mean([min(xs), trgt_simage_acc]), 0.1 * max(ys), f\"{trgt_simage_acc_prctl:0.1f}%\", fontstyle = \"oblique\", color = \"black\", ha = \"center\", va = \"center\")\n",
    "ax.text(np.mean([max(xs), trgt_simage_acc]), 0.1 * max(ys), f\"{100- trgt_simage_acc_prctl:0.1f}%\", fontstyle = \"oblique\", color = \"black\", ha = \"center\", va = \"center\")\n",
    "fig.savefig(f\"{path_save}/kde_aa.png\", bbox_inches='tight', dpi=200)\n",
    "fig.savefig(f\"{path_save}/kde_aa.pdf\", bbox_inches='tight')\n",
    "plt.close(fig)\n",
    "\n",
    "sns.set(style='whitegrid', font_scale=0.7)\n",
    "n_rows = 2\n",
    "n_cols = 5\n",
    "fig_height = 4\n",
    "fig_width = 10\n",
    "fig, axs = plt.subplots(n_rows, n_cols, figsize=(fig_width, fig_height), gridspec_kw={}, sharey=False, sharex=False)\n",
    "for feat_id, feat in tqdm(enumerate(feats_fimmu)):\n",
    "    row_id, col_id = divmod(feat_id, n_cols)\n",
    "\n",
    "    kdeplot = sns.kdeplot(\n",
    "        data=df.loc[ids_near, :],\n",
    "        x=feat,\n",
    "        color='gray',\n",
    "        linewidth=1,\n",
    "        cut=0,\n",
    "        ax=axs[row_id, col_id]\n",
    "    )\n",
    "    kdeline = axs[row_id, col_id].lines[0]\n",
    "    xs = kdeline.get_xdata()\n",
    "    ys = kdeline.get_ydata()\n",
    "    trgt_val = df.at[trgt_id, feat]\n",
    "    trgt_prctl = stats.percentileofscore(df.loc[ids_near, feat], trgt_val)\n",
    "    axs[row_id, col_id].fill_between(xs, 0, ys, where=(xs <= trgt_val), interpolate=True, facecolor='dodgerblue', alpha=0.7)\n",
    "    axs[row_id, col_id].fill_between(xs, 0, ys, where=(xs >= trgt_val), interpolate=True, facecolor='crimson', alpha=0.7)\n",
    "    axs[row_id, col_id].vlines(trgt_val, 0, np.interp(trgt_val, xs, ys), color='black', linewidth=1.5)\n",
    "    axs[row_id, col_id].text(np.mean([min(xs), trgt_val]), 0.1 * max(ys), f\"{trgt_prctl:0.1f}%\", fontstyle=\"oblique\",\n",
    "            color=\"black\", ha=\"center\", va=\"center\")\n",
    "    axs[row_id, col_id].text(np.mean([max(xs), trgt_val]), 0.1 * max(ys), f\"{100 - trgt_prctl:0.1f}%\", fontstyle=\"oblique\",\n",
    "            color=\"black\", ha=\"center\", va=\"center\")\n",
    "    axs[row_id, col_id].ticklabel_format(style='scientific', scilimits=(-1, 1), axis='y', useOffset=True)\n",
    "fig.tight_layout()    \n",
    "fig.savefig(f\"{path_save}/kde_feats.png\", bbox_inches='tight', dpi=200)\n",
    "fig.savefig(f\"{path_save}/kde_feats.pdf\", bbox_inches='tight')\n",
    "plt.close(fig)\n"
   ],
   "metadata": {
    "collapsed": false
   },
   "execution_count": null
  }
 ],
 "metadata": {
  "kernelspec": {
   "name": "python3",
   "language": "python",
   "display_name": "Python 3 (ipykernel)"
  },
  "language_info": {
   "codemirror_mode": {
    "name": "ipython",
    "version": 2
   },
   "file_extension": ".py",
   "mimetype": "text/x-python",
   "name": "python",
   "nbconvert_exporter": "python",
   "pygments_lexer": "ipython2",
   "version": "2.7.6"
  }
 },
 "nbformat": 4,
 "nbformat_minor": 0
}
