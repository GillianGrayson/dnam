{
 "cells": [
  {
   "cell_type": "markdown",
   "source": [
    "# Debugging autoreload"
   ],
   "metadata": {
    "collapsed": false
   }
  },
  {
   "cell_type": "code",
   "source": [
    "%load_ext autoreload\n",
    "%autoreload 2"
   ],
   "metadata": {
    "collapsed": false
   },
   "outputs": [],
   "execution_count": null
  },
  {
   "cell_type": "markdown",
   "source": [
    "# Load packages"
   ],
   "metadata": {
    "collapsed": false
   }
  },
  {
   "cell_type": "code",
   "source": [
    "import pandas as pd\n",
    "import numpy as np\n",
    "import seaborn as sns\n",
    "import matplotlib.pyplot as plt\n",
    "import pathlib\n",
    "from tqdm import tqdm\n",
    "from scipy import stats\n",
    "import matplotlib\n",
    "\n",
    "\n",
    "def make_rgb_transparent(rgb, bg_rgb=(1,1,1), alpha=1.0):\n",
    "    return [alpha * c1 + (1 - alpha) * c2\n",
    "            for (c1, c2) in zip(rgb, bg_rgb)]\n",
    "\n",
    "\n",
    "def mix_colors_rgba(color_a, color_b, mode=\"mix\", t=None, gamma=2.2):\n",
    "    \"\"\"\n",
    "    Mix two colors color_a and color_b.\n",
    "\n",
    "    Arguments:\n",
    "        color_a:    Real-valued 4-tuple. Foreground color in \"blend\" mode.\n",
    "        color_b:    Real-valued 4-tuple. Background color in \"blend\" mode.\n",
    "        mode:       \"mix\":   Interpolate between two colors.\n",
    "                    \"blend\": Blend two translucent colors.\n",
    "        t:          Mixing threshold.\n",
    "        gamma:      Parameter to control the gamma correction.\n",
    "\n",
    "    Returns: \n",
    "        rgba:       A 4-tuple with the result color.\n",
    "\n",
    "    To reproduce Markus Jarderot's solution:\n",
    "            mix_colors_rgba(a, b, mode=\"blend\", t=0, gamma=1.)\n",
    "    To reproduce Fordi's solution:\n",
    "            mix_colors_rgba(a, b, mode=\"mix\", t=t, gamma=2.)\n",
    "    To compute the RGB color of a translucent color on white background:\n",
    "            mix_colors_rgba(a, [1,1,1,1], mode=\"blend\", t=0, gamma=None)\n",
    "    \"\"\"\n",
    "    assert(mode in (\"mix\", \"blend\"))\n",
    "    assert(gamma is None or gamma>0)\n",
    "    t = t if t is not None else (0.5 if mode==\"mix\" else 0.)\n",
    "    t = max(0,min(t,1))\n",
    "    color_a = np.asarray(color_a)\n",
    "    color_b = np.asarray(color_b)\n",
    "    if mode==\"mix\" and gamma in (1., None):\n",
    "        r, g, b, a = (1-t)*color_a + t*color_b\n",
    "    elif mode==\"mix\" and gamma > 0:\n",
    "        r,g,b,_ = np.power((1-t)*color_a**gamma + t*color_b**gamma, 1/gamma)\n",
    "        a = (1-t)*color_a[-1] + t*color_b[-1]\n",
    "    elif mode==\"blend\":\n",
    "        alpha_a = color_a[-1]*(1-t)\n",
    "        a = 1 - (1-alpha_a) * (1-color_b[-1])\n",
    "        s = color_b[-1]*(1-alpha_a)/a\n",
    "        if gamma in (1., None):\n",
    "            r, g, b, _ = (1-s)*color_a + s*color_b\n",
    "        elif gamma > 0:\n",
    "            r, g, b, _ = np.power((1-s)*color_a**gamma + s*color_b**gamma,\n",
    "                                  1/gamma)\n",
    "\n",
    "    return tuple(np.clip([r,g,b,a], 0, 1))\n"
   ],
   "metadata": {
    "collapsed": false
   },
   "outputs": [],
   "execution_count": null
  },
  {
   "cell_type": "markdown",
   "source": "# Load original data",
   "metadata": {
    "collapsed": false
   }
  },
  {
   "cell_type": "code",
   "source": [
    "path = f\"D:/YandexDisk/Work/pydnameth/datasets/GPL21145/GSEUNN\"\n",
    "path_save = f\"{path}/special/063_dnam_statistics\"\n",
    "pathlib.Path(f\"{path_save}\").mkdir(parents=True, exist_ok=True)\n",
    "\n",
    "df = pd.read_excel(f\"{path}/pheno.xlsx\", index_col=0)\n",
    "\n",
    "# df_imm = pd.read_excel(f\"{path}/data/immuno/data.xlsx\", index_col=0)\n",
    "# ids_intxn = df.index.intersection(df_imm.index)\n",
    "# df.loc[ids_intxn, 'PMC10699032 ID'] = df_imm.loc[ids_intxn, 'PMC10699032 ID']\n",
    "# df.to_excel(f\"{path}/pheno111.xlsx\")\n",
    "\n",
    "ids_status = {\n",
    "    'Healthy Controls': df.index[df['Status'] == 'Control'],\n",
    "    'ESRD (No Transplantation)': df.index[df['Status'] == 'ESRD'],\n",
    "    'ESRD (With Transplantation)': df.index[df['Status'] == 'TR'],\n",
    "}\n",
    "colors_status = {\n",
    "    'Healthy Controls': 'forestgreen',\n",
    "    'ESRD (No Transplantation)': 'crimson',\n",
    "    'ESRD (With Transplantation)': 'darkorchid'\n",
    "}\n",
    "\n",
    "colors_sex = {\n",
    "    'F': 'violet',\n",
    "    'M': 'deepskyblue'\n",
    "}\n",
    "\n",
    "colors_region = {\n",
    "    'Central': 'gold',\n",
    "    'Yakutia': 'lightslategray',\n",
    "    'Yakutia/Central': mix_colors_rgba(\n",
    "        matplotlib.colors.ColorConverter.to_rgba('gold'),\n",
    "        matplotlib.colors.ColorConverter.to_rgba('lightslategray')\n",
    "    )\n",
    "}\n",
    "\n",
    "df_status = pd.DataFrame(index=['Healthy Controls', 'ESRD (No Transplantation)', 'ESRD (With Transplantation)'], columns=['Count', 'Color', 'Name'])\n",
    "for group in ids_status:\n",
    "    df_status.at[group, 'Count'] = len(ids_status[group])\n",
    "    df_status.at[group, 'Color'] = colors_status[group]"
   ],
   "metadata": {
    "collapsed": false
   },
   "outputs": [],
   "execution_count": null
  },
  {
   "metadata": {},
   "cell_type": "markdown",
   "source": "# Status plots"
  },
  {
   "metadata": {},
   "cell_type": "code",
   "source": [
    "sns.set_theme(style='whitegrid', font_scale=1.5)\n",
    "fig, ax = plt.subplots(figsize=(3, 4))\n",
    "barplot = sns.barplot(\n",
    "    data=df_status,\n",
    "    y=df_status.index,\n",
    "    x='Count',\n",
    "    edgecolor='black',\n",
    "    palette=colors_status,\n",
    "    ax=ax\n",
    ")\n",
    "ax.set_ylabel('')\n",
    "for x in barplot.containers:\n",
    "    barplot.bar_label(x, fmt=\"%d\")\n",
    "plt.savefig(f\"{path_save}/status_barplot.png\", bbox_inches='tight', dpi=200)\n",
    "plt.savefig(f\"{path_save}/status_barplot.pdf\", bbox_inches='tight')\n",
    "plt.close(fig)"
   ],
   "outputs": [],
   "execution_count": null
  },
  {
   "metadata": {},
   "cell_type": "code",
   "source": [
    "hist_bins = np.linspace(0, 120, 13)\n",
    "for group in ids_status:\n",
    "    df_fig = df.loc[ids_status[group], ['Age', 'Sex']].copy()\n",
    "    rename_dict = {\n",
    "        'F': f\"F ({df_fig[df_fig['Sex'] == 'F'].shape[0]})\",\n",
    "        'M': f\"M ({df_fig[df_fig['Sex'] == 'M'].shape[0]})\"\n",
    "    }\n",
    "    df_fig['Sex'].replace(\n",
    "        rename_dict,\n",
    "        inplace=True\n",
    "    )\n",
    "    palette = {rename_dict[x]: colors_sex[x] for x in rename_dict.keys()}\n",
    "    sns.set_theme(style='whitegrid')\n",
    "    fig, ax = plt.subplots(figsize=(6, 4))\n",
    "    histplot = sns.histplot(\n",
    "        data=df_fig,\n",
    "        hue_order=list(palette.keys())[::-1],\n",
    "        bins=hist_bins,\n",
    "        x=\"Age\",\n",
    "        hue=\"Sex\",\n",
    "        edgecolor='black',\n",
    "        palette=palette,\n",
    "        multiple=\"stack\",\n",
    "        ax=ax\n",
    "    )\n",
    "    ax.set_facecolor(make_rgb_transparent(matplotlib.colors.ColorConverter.to_rgb(colors_status[group]), [1, 1, 1], 0.1))\n",
    "    plt.savefig(f\"{path_save}/{group}_histplot_sex.png\", bbox_inches='tight', dpi=400)\n",
    "    plt.savefig(f\"{path_save}/{group}_histplot_sex.pdf\", bbox_inches='tight')\n",
    "    plt.close(fig)"
   ],
   "outputs": [],
   "execution_count": null
  },
  {
   "metadata": {},
   "cell_type": "markdown",
   "source": "# Controls"
  },
  {
   "metadata": {},
   "cell_type": "code",
   "source": [
    "df_fig = df.loc[ids_status['Healthy Controls'], ['Age', 'Region']].copy()\n",
    "rename_dict = {\n",
    "    'Central': f\"Central Russia ({df_fig[df_fig['Region'] == 'Central'].shape[0]})\",\n",
    "    'Yakutia': f\"Yakutia (Sakha) ({df_fig[df_fig['Region'] == 'Yakutia'].shape[0]})\",\n",
    "    'Yakutia/Central': f\"Central origin, lives in Yakutia ({df_fig[df_fig['Region'] == 'Yakutia/Central'].shape[0]})\",\n",
    "}\n",
    "df_fig['Region'].replace(\n",
    "    rename_dict,\n",
    "    inplace=True\n",
    ")\n",
    "palette = {rename_dict[x]: colors_region[x] for x in rename_dict.keys()}\n",
    "sns.set_theme(style='whitegrid')\n",
    "fig, ax = plt.subplots(figsize=(6, 4))\n",
    "histplot = sns.histplot(\n",
    "    data=df_fig,\n",
    "    hue_order=list(palette.keys())[::-1],\n",
    "    bins=hist_bins,\n",
    "    x=\"Age\",\n",
    "    hue=\"Region\",\n",
    "    edgecolor='black',\n",
    "    palette=palette,\n",
    "    multiple=\"stack\",\n",
    "    ax=ax\n",
    ")\n",
    "plt.savefig(f\"{path_save}/Controls_histplot_region.png\", bbox_inches='tight', dpi=400)\n",
    "plt.savefig(f\"{path_save}/Controls_histplot_region.pdf\", bbox_inches='tight')\n",
    "plt.close(fig)"
   ],
   "outputs": [],
   "execution_count": null
  },
  {
   "metadata": {},
   "cell_type": "code",
   "source": [
    "df_fig = df.loc[ids_status['Healthy Controls'], ['Sex', 'Region']].copy()\n",
    "rename_dict = {\n",
    "    'Central': f\"Central Russia\",\n",
    "    'Yakutia': f\"Yakutia (Sakha)\",\n",
    "    'Yakutia/Central': f\"Central origin, lives in Yakutia\",\n",
    "}\n",
    "df_fig['Region'].replace(\n",
    "    rename_dict,\n",
    "    inplace=True\n",
    ")\n",
    "df_ctrl_region_sex = pd.DataFrame(index=['Central Russia', 'Yakutia (Sakha)', 'Central origin, lives in Yakutia'], columns=['F', 'M'])\n",
    "\n",
    "for region in df_ctrl_region_sex.index:\n",
    "    for sex in df_ctrl_region_sex.columns:\n",
    "        df_ctrl_region_sex.at[region, sex] = df_fig[(df_fig['Region'] == region) & (df_fig['Sex'] == sex)].shape[0]\n",
    "df_ctrl_region_sex.to_excel(f\"{path_save}/ctrl_region_sex.xlsx\")"
   ],
   "outputs": [],
   "execution_count": null
  }
 ],
 "metadata": {
  "kernelspec": {
   "name": "python3",
   "language": "python",
   "display_name": "Python 3 (ipykernel)"
  },
  "language_info": {
   "codemirror_mode": {
    "name": "ipython",
    "version": 2
   },
   "file_extension": ".py",
   "mimetype": "text/x-python",
   "name": "python",
   "nbconvert_exporter": "python",
   "pygments_lexer": "ipython2",
   "version": "2.7.6"
  }
 },
 "nbformat": 4,
 "nbformat_minor": 0
}
