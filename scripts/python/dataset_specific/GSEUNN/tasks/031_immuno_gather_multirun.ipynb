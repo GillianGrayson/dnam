{
 "cells": [
  {
   "cell_type": "code",
   "execution_count": null,
   "outputs": [],
   "source": [
    "import pandas as pd\n",
    "import numpy as np\n",
    "import scipy\n",
    "from sklearn.linear_model import ElasticNet, ElasticNetCV\n",
    "from sklearn.model_selection import RepeatedKFold, GridSearchCV\n",
    "from sklearn.metrics import mean_squared_error, mean_absolute_error, r2_score\n",
    "from scripts.python.routines.betas import betas_drop_na\n",
    "from plotly.subplots import make_subplots\n",
    "from scipy import stats\n",
    "import pickle\n",
    "import random\n",
    "import plotly.express as px\n",
    "import copy\n",
    "import statsmodels.formula.api as smf\n",
    "from sklearn.metrics import mean_squared_error, mean_absolute_error\n",
    "from scripts.python.pheno.datasets.filter import filter_pheno\n",
    "from scripts.python.pheno.datasets.features import get_column_name, get_status_dict, get_sex_dict\n",
    "from scripts.python.routines.plot.scatter import add_scatter_trace\n",
    "import plotly.graph_objects as go\n",
    "import pathlib\n",
    "from scripts.python.routines.manifest import get_manifest\n",
    "from scripts.python.routines.plot.save import save_figure\n",
    "from scripts.python.routines.plot.layout import add_layout, get_axis\n",
    "from scripts.python.routines.plot.p_value import add_p_value_annotation\n",
    "from statsmodels.stats.multitest import multipletests\n",
    "from sklearn.metrics import mean_absolute_error\n",
    "from impyute.imputation.cs import fast_knn, mean, median, random, mice, mode, em\n",
    "import plotly.io as pio\n",
    "pio.kaleido.scope.mathjax = None\n",
    "from plotly.offline import init_notebook_mode, iplot\n",
    "init_notebook_mode(connected=False)\n",
    "from functools import reduce\n",
    "from scipy.stats import kruskal, mannwhitneyu\n",
    "from glob import glob\n",
    "from hydra import compose, initialize\n",
    "from omegaconf import OmegaConf\n",
    "import omegaconf\n",
    "import os"
   ],
   "metadata": {
    "collapsed": false
   }
  },
  {
   "cell_type": "markdown",
   "source": [
    "# Init data"
   ],
   "metadata": {
    "collapsed": false
   }
  },
  {
   "cell_type": "code",
   "execution_count": 9,
   "outputs": [],
   "source": [
    "dataset = \"GSEUNN\"\n",
    "path = f\"E:/YandexDisk/Work/pydnameth/datasets\"\n",
    "datasets_info = pd.read_excel(f\"{path}/datasets.xlsx\", index_col='dataset')\n",
    "platform = datasets_info.loc[dataset, 'platform']\n",
    "manifest = get_manifest(platform, path=path)\n",
    "\n",
    "model = 'lightgbm'\n",
    "run_time = '2022-10-28_00-14-06'\n",
    "\n",
    "path = f\"{path}/{platform}/{dataset}/special/021_ml_data/immuno/models/immuno_trn_val_{model}/multiruns/{run_time}\"\n",
    "\n",
    "files = glob(f\"{path}/*/metrics_val_best_*.xlsx\")\n",
    "\n",
    "df_tmp = pd.read_excel(files[0], index_col=\"metric\")\n",
    "head, tail = os.path.split(files[0])\n",
    "cfg = OmegaConf.load(f\"{head}/.hydra/overrides.yaml\")\n",
    "params = []\n",
    "for param_pair in cfg:\n",
    "    param, val = param_pair.split('=')\n",
    "    params.append(param)\n",
    "df_res = pd.DataFrame(index=files, columns=[m + \"_trn\" for m in df_tmp.index.values] + [m + \"_val\" for m in df_tmp.index.values] + params)\n",
    "for file in files:\n",
    "    # Validation\n",
    "    df_val = pd.read_excel(file, index_col=\"metric\")\n",
    "    for metric in df_val.index.values:\n",
    "        df_res.at[file, metric + \"_val\"] = df_val.at[metric, \"val\"]\n",
    "\n",
    "    # Train\n",
    "    head, tail = os.path.split(file)\n",
    "    tail = tail.replace('val', 'trn')\n",
    "    df_trn = pd.read_excel(f\"{head}/{tail}\", index_col=\"metric\")\n",
    "    for metric in df_trn.index.values:\n",
    "        df_res.at[file, metric + \"_trn\"] = df_trn.at[metric, \"trn\"]\n",
    "\n",
    "    # Test\n",
    "    head, tail = os.path.split(file)\n",
    "    tail = tail.replace('val', 'tst')\n",
    "    df_tst = pd.read_excel(f\"{head}/{tail}\", index_col=\"metric\")\n",
    "    for metric in df_trn.index.values:\n",
    "        df_res.at[file, metric + \"_tst\"] = df_tst.at[metric, \"tst\"]\n",
    "\n",
    "    # Params\n",
    "    cfg = OmegaConf.load(f\"{head}/.hydra/overrides.yaml\")\n",
    "    for param_pair in cfg:\n",
    "        param, val = param_pair.split('=')\n",
    "        df_res.at[file, param] = val\n",
    "\n",
    "first_columns = [\n",
    "    'mean_absolute_error_trn',\n",
    "    'mean_absolute_error_cv_mean_trn',\n",
    "    'mean_absolute_error_val',\n",
    "    'mean_absolute_error_cv_mean_val',\n",
    "    'mean_absolute_error_tst',\n",
    "    'mean_absolute_error_cv_mean_tst',\n",
    "    'mean_absolute_error_cv_mean_val_tst_val'\n",
    "]\n",
    "df_res = df_res[first_columns + [col for col in df_res.columns if col not in first_columns]]\n",
    "df_res.to_excel(f\"{path}/summary.xlsx\", index=True, index_label=\"file\")"
   ],
   "metadata": {
    "collapsed": false
   }
  }
 ],
 "metadata": {
  "kernelspec": {
   "name": "pycharm-7948d80f",
   "language": "python",
   "display_name": "PyCharm (dnam)"
  },
  "language_info": {
   "codemirror_mode": {
    "name": "ipython",
    "version": 2
   },
   "file_extension": ".py",
   "mimetype": "text/x-python",
   "name": "python",
   "nbconvert_exporter": "python",
   "pygments_lexer": "ipython2",
   "version": "2.7.6"
  }
 },
 "nbformat": 4,
 "nbformat_minor": 0
}
