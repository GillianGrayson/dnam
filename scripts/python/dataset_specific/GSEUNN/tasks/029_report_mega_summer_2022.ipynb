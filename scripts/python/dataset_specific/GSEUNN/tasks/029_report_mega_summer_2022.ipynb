{
 "cells": [
  {
   "cell_type": "code",
   "execution_count": null,
   "outputs": [],
   "source": [
    "import pandas as pd\n",
    "import numpy as np\n",
    "import scipy\n",
    "from sklearn.linear_model import ElasticNet, ElasticNetCV\n",
    "from sklearn.model_selection import RepeatedKFold, GridSearchCV\n",
    "from sklearn.metrics import mean_squared_error, mean_absolute_error, r2_score\n",
    "from scripts.python.routines.betas import betas_drop_na\n",
    "from plotly.subplots import make_subplots\n",
    "from scipy import stats\n",
    "import pickle\n",
    "import random\n",
    "import plotly.express as px\n",
    "import copy\n",
    "import statsmodels.formula.api as smf\n",
    "from sklearn.metrics import mean_squared_error, mean_absolute_error\n",
    "from scripts.python.pheno.datasets.filter import filter_pheno\n",
    "from scripts.python.pheno.datasets.features import get_column_name, get_status_dict, get_sex_dict\n",
    "from scripts.python.routines.plot.scatter import add_scatter_trace\n",
    "from scipy.stats import mannwhitneyu\n",
    "import plotly.graph_objects as go\n",
    "import pathlib\n",
    "from scripts.python.routines.manifest import get_manifest\n",
    "from scripts.python.routines.plot.save import save_figure\n",
    "from scripts.python.routines.plot.layout import add_layout, get_axis\n",
    "from scripts.python.routines.plot.p_value import add_p_value_annotation\n",
    "from statsmodels.stats.multitest import multipletests\n",
    "from sklearn.metrics import mean_absolute_error\n",
    "import plotly.io as pio\n",
    "pio.kaleido.scope.mathjax = None\n",
    "from tqdm.notebook import tqdm\n",
    "import upsetplot as upset\n",
    "import matplotlib.pyplot as plt"
   ],
   "metadata": {
    "collapsed": false,
    "pycharm": {
     "name": "#%%\n"
    }
   }
  },
  {
   "cell_type": "markdown",
   "source": [
    "# Read data"
   ],
   "metadata": {
    "collapsed": false,
    "pycharm": {
     "name": "#%% md\n"
    }
   }
  },
  {
   "cell_type": "code",
   "execution_count": null,
   "outputs": [],
   "source": [
    "dataset = \"GSEUNN\"\n",
    "path = f\"E:/YandexDisk/Work/pydnameth/datasets\"\n",
    "datasets_info = pd.read_excel(f\"{path}/datasets.xlsx\", index_col='dataset')\n",
    "platform = datasets_info.loc[dataset, 'platform']\n",
    "manifest = get_manifest(platform)\n",
    "\n",
    "path_save = f\"{path}/{platform}/{dataset}/special/029_report_mega_summer_2022\"\n",
    "pathlib.Path(f\"{path_save}/1_2_sex_specific/vio\").mkdir(parents=True, exist_ok=True)\n",
    "\n",
    "status_col = get_column_name(dataset, 'Status').replace(' ','_')\n",
    "age_col = get_column_name(dataset, 'Age').replace(' ','_')\n",
    "sex_col = get_column_name(dataset, 'Sex').replace(' ','_')\n",
    "status_dict = get_status_dict(dataset)\n",
    "status_passed_fields = status_dict['Control'] + status_dict['Case']\n",
    "sex_dict = get_sex_dict(dataset)\n",
    "continuous_vars = {}\n",
    "categorical_vars = {status_col: [x.column for x in status_passed_fields], sex_col: list(sex_dict.values())}\n",
    "pheno = pd.read_pickle(f\"{path}/{platform}/{dataset}/pheno_xtd.pkl\")\n",
    "pheno = filter_pheno(dataset, pheno, continuous_vars, categorical_vars)\n",
    "betas = pd.read_pickle(f\"{path}/{platform}/{dataset}/betas.pkl\")\n",
    "betas = betas_drop_na(betas)\n",
    "df = pd.merge(pheno, betas, left_index=True, right_index=True)\n",
    "\n",
    "ctrl = df.loc[df['Group'] == 'Control']\n",
    "esrd = df.loc[df['Group'] == 'ESRD']"
   ],
   "metadata": {
    "collapsed": false,
    "pycharm": {
     "name": "#%%\n"
    }
   }
  },
  {
   "cell_type": "markdown",
   "source": [
    "# 1.2 Sex-specific"
   ],
   "metadata": {
    "collapsed": false,
    "pycharm": {
     "name": "#%% md\n"
    }
   }
  },
  {
   "cell_type": "code",
   "execution_count": null,
   "outputs": [],
   "source": [
    "cpgs = betas.columns.values\n",
    "df_res = pd.DataFrame(index=cpgs, columns=['Gene', 'stat', 'pval', 'pval_fdr_bh'])\n",
    "df.index.name = 'CpG'\n",
    "for cpg_id, cpg in tqdm(enumerate(cpgs), desc='Mann-Whitney U test', total=len(cpgs)):\n",
    "    df_res.at[cpg, 'Gene'] = manifest.at[cpg, 'Gene']\n",
    "    data_1 = ctrl.loc[ctrl[\"Sex\"] == \"F\", cpg].values\n",
    "    data_2 = ctrl.loc[ctrl[\"Sex\"] == \"M\", cpg].values\n",
    "    stat, pval = mannwhitneyu(data_1, data_2)\n",
    "    df_res.at[cpg, 'stat'] = stat\n",
    "    df_res.at[cpg, 'pval'] = pval\n",
    "_, df_res['pval_fdr_bh'], _, _ = multipletests(df_res['pval'], 0.05, method='fdr_bh')\n",
    "df_res.to_excel(f\"{path_save}/1_2_sex_specific/mw.xlsx\")"
   ],
   "metadata": {
    "collapsed": false,
    "pycharm": {
     "name": "#%%\n"
    }
   }
  },
  {
   "cell_type": "code",
   "execution_count": null,
   "outputs": [],
   "source": [
    "n_top = 10\n",
    "df_res_top = df_res.sort_values(['pval_fdr_bh'], ascending=[True]).head(n_top)\n",
    "for cpg_id, (cpg, row) in enumerate(df_res_top.iterrows()):\n",
    "    dist_num_bins = 25\n",
    "    pval = row['pval_fdr_bh']\n",
    "    gene = manifest.at[cpg, 'Gene']\n",
    "    fig = go.Figure()\n",
    "    vals = ctrl.loc[ctrl[\"Sex\"] == \"F\", cpg].values\n",
    "    fig.add_trace(\n",
    "        go.Violin(\n",
    "            y=vals,\n",
    "            name='F',\n",
    "            box_visible=True,\n",
    "            meanline_visible=True,\n",
    "            showlegend=False,\n",
    "            marker=dict(line=dict(width=0.3), opacity=1),\n",
    "            points='all',\n",
    "            bandwidth=np.ptp(vals) / dist_num_bins,\n",
    "            opacity=0.8\n",
    "        )\n",
    "    )\n",
    "    vals = ctrl.loc[ctrl[\"Sex\"] == \"M\", cpg].values\n",
    "    fig.add_trace(\n",
    "        go.Violin(\n",
    "            y=vals,\n",
    "            name='M',\n",
    "            box_visible=True,\n",
    "            meanline_visible=True,\n",
    "            showlegend=False,\n",
    "            marker=dict(line=dict(width=0.3), opacity=1),\n",
    "            points='all',\n",
    "            bandwidth=np.ptp(vals) / dist_num_bins,\n",
    "            opacity=0.8\n",
    "        )\n",
    "    )\n",
    "    add_layout(fig, \"\", \"Methylation\", f\"{cpg} ({gene})<br>p-value: {pval:0.2e}\")\n",
    "    fig.update_layout(title_xref='paper')\n",
    "    fig.update_layout(legend_font_size=20)\n",
    "    fig.update_xaxes(tickfont_size=15)\n",
    "    fig.update_layout({'colorway': ['red', 'blue']})\n",
    "    fig.update_layout(\n",
    "        margin=go.layout.Margin(\n",
    "            l=110,\n",
    "            r=20,\n",
    "            b=50,\n",
    "            t=80,\n",
    "            pad=0\n",
    "        )\n",
    "    )\n",
    "    fig.update_layout(\n",
    "        legend=dict(\n",
    "            orientation=\"h\",\n",
    "            yanchor=\"bottom\",\n",
    "            y=1.25,\n",
    "            xanchor=\"center\",\n",
    "            x=0.5\n",
    "        )\n",
    "    )\n",
    "    save_figure(fig, f\"{path_save}/1_2_sex_specific/vio/{cpg_id:03d}_{cpg}\")"
   ],
   "metadata": {
    "collapsed": false,
    "pycharm": {
     "name": "#%%\n"
    }
   }
  },
  {
   "cell_type": "code",
   "execution_count": null,
   "outputs": [],
   "source": [
    "df_sa_2014 = pd.read_excel(f\"{path_save}/1_2_sex_specific/12864_2014_6710_MOESM4_ESM.xlsx\", index_col=\"Target ID\")\n",
    "cpgs_sa_2014 = df_sa_2014.index.values\n",
    "\n",
    "df_sa_2022 = pd.read_csv(f\"{path_save}/1_2_sex_specific/13148_2022_1279_MOESM1_ESM.csv\", index_col=\"Row.names\")\n",
    "cpgs_sa_2022 = df_sa_2022.index.values\n",
    "\n",
    "df_sa_unn = df_res.loc[df_res['pval_fdr_bh'] < 0.05, :]\n",
    "cpgs_sa_unn = df_sa_unn.index.values\n",
    "\n",
    "cpgs_lists = {\n",
    "    'McCarthy2014': cpgs_sa_2014,\n",
    "    'Grant2022': cpgs_sa_2022,\n",
    "    'UNN': cpgs_sa_unn\n",
    "}\n",
    "all_cpgs = results_union = set().union(*list(cpgs_lists.values()))\n",
    "df_upset = pd.DataFrame(index=all_cpgs)\n",
    "for k, v in cpgs_lists.items():\n",
    "    df_upset[k] = df_upset.index.isin(v)\n",
    "df_upset = df_upset.set_index(list(cpgs_lists.keys()))\n",
    "fig = upset.UpSet(df_upset, subset_size='count', show_counts=True, min_degree=1).plot()\n",
    "plt.savefig(f\"{path_save}/1_2_sex_specific/upset.png\", bbox_inches='tight')\n",
    "plt.savefig(f\"{path_save}/1_2_sex_specific/upset.pdf\", bbox_inches='tight')"
   ],
   "metadata": {
    "collapsed": false,
    "pycharm": {
     "name": "#%%\n"
    }
   }
  }
 ],
 "metadata": {
  "kernelspec": {
   "name": "pycharm-7948d80f",
   "language": "python",
   "display_name": "PyCharm (dnam)"
  },
  "language_info": {
   "codemirror_mode": {
    "name": "ipython",
    "version": 2
   },
   "file_extension": ".py",
   "mimetype": "text/x-python",
   "name": "python",
   "nbconvert_exporter": "python",
   "pygments_lexer": "ipython2",
   "version": "2.7.6"
  }
 },
 "nbformat": 4,
 "nbformat_minor": 0
}