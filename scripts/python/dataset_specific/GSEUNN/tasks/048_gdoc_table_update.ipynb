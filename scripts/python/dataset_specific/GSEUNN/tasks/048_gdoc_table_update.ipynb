{
 "cells": [
  {
   "cell_type": "markdown",
   "source": [
    "# Description\n",
    "Filling table from googledoc with DNAm epigenetic ages data"
   ],
   "metadata": {
    "collapsed": false
   }
  },
  {
   "cell_type": "code",
   "execution_count": null,
   "metadata": {
    "collapsed": true
   },
   "outputs": [],
   "source": [
    "import pandas as pd\n",
    "import numpy as np\n",
    "from plotly.subplots import make_subplots\n",
    "from scipy import stats\n",
    "import plotly.express as px\n",
    "from scripts.python.routines.plot.scatter import add_scatter_trace\n",
    "import plotly.graph_objects as go\n",
    "from scripts.python.routines.plot.save import save_figure\n",
    "from scripts.python.routines.plot.layout import add_layout, get_axis\n",
    "from statsmodels.stats.multitest import multipletests\n",
    "import plotly.io as pio\n",
    "pio.kaleido.scope.mathjax = None\n",
    "from plotly.offline import init_notebook_mode, iplot\n",
    "init_notebook_mode(connected=False)\n",
    "import matplotlib.pyplot as plt\n",
    "from omegaconf import OmegaConf\n",
    "import seaborn as sns\n",
    "from glob import glob\n",
    "import pathlib\n",
    "from sklearn.metrics import mean_absolute_error\n",
    "from scipy import stats\n",
    "import patchworklib as pw\n",
    "import os\n",
    "import functools\n",
    "from statannotations.Annotator import Annotator\n",
    "from scipy.stats import mannwhitneyu\n",
    "import shap\n",
    "from slugify import slugify\n",
    "from src.models.tabular.widedeep.ft_transformer import WDFTTransformerModel\n",
    "from art.estimators.regression.pytorch import PyTorchRegressor\n",
    "from art.estimators.regression.blackbox import BlackBoxRegressor\n",
    "from art.attacks.evasion import LowProFool, ZooAttack, FastGradientMethod\n",
    "import torch\n",
    "\n",
    "\n",
    "def conjunction(conditions):\n",
    "    return functools.reduce(np.logical_and, conditions)\n",
    "\n",
    "\n",
    "def disjunction(conditions):\n",
    "    return functools.reduce(np.logical_or, conditions)"
   ]
  },
  {
   "cell_type": "code",
   "execution_count": null,
   "outputs": [],
   "source": [
    "path = \"D:/YandexDisk/Work/pydnameth/datasets/GPL21145/GSEUNN\"\n",
    "\n",
    "path_save = f\"{path}/special/048_gdoc_table_update\"\n",
    "pathlib.Path(f\"{path}\").mkdir(parents=True, exist_ok=True)\n",
    "\n",
    "df_dnam = pd.read_excel(f\"{path}/pheno.xlsx\", index_col=\"index\")\n",
    "df_immuno = pd.read_excel(f\"{path_save}/immuno_pred.xlsx\", index_col=\"index\")\n",
    "\n",
    "df_yak_l = pd.read_excel(f\"{path_save}/origin.xlsx\", sheet_name=\"Долгожители\", index_col=0)\n",
    "df_yak_c = pd.read_excel(f\"{path_save}/origin.xlsx\", sheet_name=\"Контрольный\", index_col=0)"
   ],
   "metadata": {
    "collapsed": false
   }
  },
  {
   "cell_type": "code",
   "execution_count": null,
   "outputs": [],
   "source": [
    "yak_l_subjs = df_yak_l.loc[df_yak_l['Код Epigen 2022'].notna(), 'Код Epigen 2022'].values\n",
    "yak_l_index = df_yak_l.index[df_yak_l['Код Epigen 2022'].isin(yak_l_subjs)].values\n",
    "diff_yak_l_dnam = list(set(yak_l_subjs) - set(df_dnam.index.values))\n",
    "print(f\"diff_yak_l_dnam: {diff_yak_l_dnam}\")\n",
    "diff_yak_l_immuno = list(set(yak_l_subjs) - set(df_immuno.index.values))\n",
    "print(f\"diff_yak_l_immuno: {diff_yak_l_immuno}\")\n",
    "\n",
    "yak_c_subjs = df_yak_c.loc[df_yak_c['Код Epigen 2022'].notna(), 'Код Epigen 2022'].values\n",
    "yak_c_index = df_yak_c.index[df_yak_c['Код Epigen 2022'].isin(yak_c_subjs)].values\n",
    "diff_yak_c_dnam = list(set(yak_c_subjs) - set(df_dnam.index.values))\n",
    "print(f\"diff_yak_c_dnam: {diff_yak_c_dnam}\")\n",
    "diff_yak_c_immuno = list(set(yak_c_subjs) - set(df_immuno.index.values))\n",
    "print(f\"diff_yak_c_immuno: {diff_yak_c_immuno}\")\n",
    "\n",
    "dnam_suffix = \"_harm\"\n",
    "age_types = {\n",
    "    f\"DNAmAgeHannum{dnam_suffix}\": \"Hannum\",\n",
    "    f\"DNAmAge{dnam_suffix}\": \"Horvath\",\n",
    "    f\"DNAmPhenoAge{dnam_suffix}\": \"PhenoAge\",\n",
    "    f\"DNAmGrimAge{dnam_suffix}\": \"GrimAge\",\n",
    "}\n",
    "for x in [\"PCHorvath1\", \"PCHorvath2\", \"PCHannum\", \"PCPhenoAge\", \"PCGrimAge\"]:\n",
    "    age_types[x] = x\n",
    "\n",
    "for yak_l_index in yak_l_index:\n",
    "    subj = df_yak_l.at[yak_l_index, 'Код Epigen 2022']\n",
    "    for at in age_types:\n",
    "        df_yak_l.at[yak_l_index, age_types[at]] = df_dnam.at[subj, at]\n",
    "\n",
    "    df_yak_l.at[yak_l_index, \"SImAge\"] = df_immuno.at[subj, 'Prediction']\n",
    "df_yak_l.to_excel(f\"{path_save}/df_yak_l.xlsx\")\n",
    "\n",
    "for yak_c_index in yak_c_index:\n",
    "    subj = df_yak_c.at[yak_c_index, 'Код Epigen 2022']\n",
    "    for at in age_types:\n",
    "        df_yak_c.at[yak_c_index, age_types[at]] = df_dnam.at[subj, at]\n",
    "    df_yak_c.at[yak_c_index, \"SImAge\"] = df_immuno.at[subj, 'Prediction']\n",
    "df_yak_c.to_excel(f\"{path_save}/df_yak_c.xlsx\")"
   ],
   "metadata": {
    "collapsed": false
   }
  }
 ],
 "metadata": {
  "kernelspec": {
   "display_name": "Python 3",
   "language": "python",
   "name": "python3"
  },
  "language_info": {
   "codemirror_mode": {
    "name": "ipython",
    "version": 2
   },
   "file_extension": ".py",
   "mimetype": "text/x-python",
   "name": "python",
   "nbconvert_exporter": "python",
   "pygments_lexer": "ipython2",
   "version": "2.7.6"
  }
 },
 "nbformat": 4,
 "nbformat_minor": 0
}
