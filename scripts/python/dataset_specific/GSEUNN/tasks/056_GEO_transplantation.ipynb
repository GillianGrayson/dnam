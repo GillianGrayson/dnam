{
 "cells": [
  {
   "cell_type": "code",
   "execution_count": 1,
   "outputs": [],
   "source": [
    "import pandas as pd\n",
    "import shutil\n",
    "import pathlib\n",
    "from scripts.python.routines.manifest import get_manifest\n",
    "from scripts.python.routines.sections import get_sections\n",
    "import matplotlib.pyplot as plt\n",
    "from matplotlib_venn import venn2, venn2_circles"
   ],
   "metadata": {
    "collapsed": false,
    "ExecuteTime": {
     "end_time": "2023-11-13T12:03:17.979744700Z",
     "start_time": "2023-11-13T12:03:17.966343Z"
    }
   }
  },
  {
   "cell_type": "code",
   "execution_count": 16,
   "outputs": [],
   "source": [
    "dataset = \"GSEUNN\"\n",
    "path = f\"D:/YandexDisk/Work/pydnameth/datasets\"\n",
    "datasets_info = pd.read_excel(f\"{path}/datasets.xlsx\", index_col='dataset')\n",
    "platform = datasets_info.loc[dataset, 'platform']\n",
    "manifest = get_manifest(platform, path=path)\n",
    "\n",
    "path_save = f\"{path}/{platform}/{dataset}/special/056_GEO_transplantation\"\n",
    "pathlib.Path(f\"{path_save}\").mkdir(parents=True, exist_ok=True)\n",
    "\n",
    "df = pd.read_excel(f\"{path}/{platform}/{dataset}/pheno.xlsx\", index_col=0)"
   ],
   "metadata": {
    "collapsed": false,
    "ExecuteTime": {
     "end_time": "2023-11-13T12:25:18.383097600Z",
     "start_time": "2023-11-13T12:25:18.020480500Z"
    }
   }
  },
  {
   "cell_type": "code",
   "execution_count": 17,
   "outputs": [],
   "source": [
    "df.rename(columns={'TR_status': 'Transplantation'}, inplace=True)\n",
    "df['Transplantation'].replace({'before': 'Before', '1y': 'After'}, inplace=True)\n",
    "df = df.loc[df['Transplantation'].isin(['Before', 'After']), :]"
   ],
   "metadata": {
    "collapsed": false,
    "ExecuteTime": {
     "end_time": "2023-11-13T12:25:39.203021500Z",
     "start_time": "2023-11-13T12:25:39.194511300Z"
    }
   }
  },
  {
   "cell_type": "code",
   "execution_count": 18,
   "outputs": [],
   "source": [
    "df['Sample_ID'] = df[\"Sentrix_ID\"].astype(str) + '_' + df[\"Sentrix_Position\"].astype(str)\n",
    "df['index'] = df.index.values\n",
    "df.set_index('Sample_ID', inplace=True)"
   ],
   "metadata": {
    "collapsed": false,
    "ExecuteTime": {
     "end_time": "2023-11-13T12:25:41.427257500Z",
     "start_time": "2023-11-13T12:25:41.402194300Z"
    }
   }
  },
  {
   "cell_type": "code",
   "execution_count": 20,
   "outputs": [],
   "source": [
    "df.index.name = 'Sample name'\n",
    "df['title'] =  'genomic DNA from Whole Blood for ' + df.index + ' sample'\n",
    "df['source name'] = 'Whole Blood'\n",
    "df['organism'] = 'Homo sapiens'\n",
    "df['sample type'] = 'genomic'\n",
    "df['idat file Grn'] = df.index + '_Grn.idat'\n",
    "df['idat file Red'] = df.index + '_Red.idat'\n",
    "df['characteristics: PatientID'] = df['index']\n",
    "df['characteristics: Transplantation'] = df['Transplantation']\n",
    "df['characteristics: Age'] = df['Age']\n",
    "df['characteristics: Sex'] = df['Sex']\n",
    "df['molecule'] = 'genomic DNA'\n",
    "df['label'] = 'Cy5 and Cy3'\n",
    "df['description'] = df.index + ' is ' + df['Status'] + ' sample from ' + df['Region']\n",
    "df['platform'] = platform\n",
    "df['Sample_Well'] = ''\n",
    "df['Sample_Plate'] = ''\n",
    "df['Sample_Group'] = ''\n",
    "df['Pool_ID'] = ''\n",
    "\n",
    "df = df.loc[:,\n",
    "     [\n",
    "         'title',\n",
    "         'source name',\n",
    "         'organism',\n",
    "         'sample type',\n",
    "         'idat file Grn',\n",
    "         'idat file Red',\n",
    "         'characteristics: PatientID',\n",
    "         'characteristics: Transplantation',\n",
    "         'characteristics: Age',\n",
    "         'characteristics: Sex',\n",
    "         'molecule',\n",
    "         'label',\n",
    "         'description',\n",
    "         'platform',\n",
    "         'index',\n",
    "         'index_origin',\n",
    "         'Sentrix_ID',\n",
    "         'Sentrix_Position',\n",
    "         'Sample_Well',\n",
    "         'Sample_Plate',\n",
    "         'Sample_Group',\n",
    "         'Pool_ID'\n",
    "     ]\n",
    "     ]\n",
    "df.to_excel(f\"{path_save}/samples/df.xlsx\", index_label='Sample name')"
   ],
   "metadata": {
    "collapsed": false,
    "ExecuteTime": {
     "end_time": "2023-11-13T12:25:55.958236300Z",
     "start_time": "2023-11-13T12:25:55.915200400Z"
    }
   }
  },
  {
   "cell_type": "code",
   "execution_count": 28,
   "outputs": [],
   "source": [
    "df = pd.read_excel(f\"{path_save}/samples/df.xlsx\", index_col=0)"
   ],
   "metadata": {
    "collapsed": false,
    "ExecuteTime": {
     "end_time": "2023-11-13T12:43:35.310050Z",
     "start_time": "2023-11-13T12:43:35.285159700Z"
    }
   }
  },
  {
   "cell_type": "code",
   "execution_count": 22,
   "outputs": [],
   "source": [
    "betas = pd.read_csv(f\"{path_save}/data/beta_table.txt\", delimiter=\"\\t\", index_col='ID_REF')\n",
    "pvals = pd.read_csv(f\"{path_save}/data/pval_table.txt\", delimiter=\"\\t\", index_col='ID_REF')\n",
    "unmeth = pd.read_csv(f\"{path_save}/data/unmeth_table.txt\", delimiter=\"\\t\", index_col='ID_REF')\n",
    "meth = pd.read_csv(f\"{path_save}/data/meth_table.txt\", delimiter=\"\\t\", index_col='ID_REF')"
   ],
   "metadata": {
    "collapsed": false,
    "ExecuteTime": {
     "end_time": "2023-11-13T12:41:26.282776100Z",
     "start_time": "2023-11-13T12:41:22.932900300Z"
    }
   }
  },
  {
   "cell_type": "code",
   "execution_count": 23,
   "outputs": [],
   "source": [
    "betas = betas.astype('float32')\n",
    "pvals = pvals.astype('float32')\n",
    "unmeth = unmeth.astype('int32')\n",
    "meth = meth.astype('int32')"
   ],
   "metadata": {
    "collapsed": false,
    "ExecuteTime": {
     "end_time": "2023-11-13T12:41:49.160149300Z",
     "start_time": "2023-11-13T12:41:49.083241800Z"
    }
   }
  },
  {
   "cell_type": "code",
   "execution_count": 29,
   "outputs": [
    {
     "name": "stdout",
     "output_type": "stream",
     "text": [
      "Order is fine\n"
     ]
    }
   ],
   "source": [
    "pheno_ids = df.index.tolist()\n",
    "betas_ids = list(betas.columns.values)\n",
    "pvals_ids = list(pvals.columns.values)\n",
    "unmeth_ids = list(unmeth.columns.values)\n",
    "meth_ids = list(meth.columns.values)\n",
    "if  pheno_ids == betas_ids and pheno_ids == pvals_ids and pheno_ids == unmeth_ids and pheno_ids == meth_ids:\n",
    "    print(f\"Order is fine\")\n",
    "else:\n",
    "    raise ValueError(f\"Warning! Order is not the same!\")"
   ],
   "metadata": {
    "collapsed": false,
    "ExecuteTime": {
     "end_time": "2023-11-13T12:43:40.678483200Z",
     "start_time": "2023-11-13T12:43:40.665971200Z"
    }
   }
  },
  {
   "cell_type": "code",
   "execution_count": 30,
   "outputs": [],
   "source": [
    "pvals_ids_new = [f'{x} Detection Pval' for x in pvals_ids]\n",
    "pvals_ids_dict = dict(zip(pvals_ids, pvals_ids_new))\n",
    "pvals.rename(columns=pvals_ids_dict, inplace=True)\n",
    "\n",
    "mtx_proc = pd.concat([betas, pvals], axis=1)\n",
    "mtx_proc_ids = []\n",
    "for s_id in range(len(betas_ids)):\n",
    "    mtx_proc_ids.append(betas_ids[s_id])\n",
    "    mtx_proc_ids.append(pvals_ids_new[s_id])\n",
    "mtx_proc = mtx_proc[mtx_proc_ids]\n",
    "mtx_proc.index.name = 'ID_REF'"
   ],
   "metadata": {
    "collapsed": false,
    "ExecuteTime": {
     "end_time": "2023-11-13T12:43:54.639549800Z",
     "start_time": "2023-11-13T12:43:54.523460500Z"
    }
   }
  },
  {
   "cell_type": "code",
   "execution_count": 31,
   "outputs": [],
   "source": [
    "unmeth_ids_new = [f'{x} Unmethylated Signal' for x in unmeth_ids]\n",
    "unmeth_ids_dict = dict(zip(unmeth_ids, unmeth_ids_new))\n",
    "unmeth.rename(columns=unmeth_ids_dict, inplace=True)\n",
    "\n",
    "meth_ids_new = [f'{x} Methylated Signal' for x in meth_ids]\n",
    "meth_ids_dict = dict(zip(meth_ids, meth_ids_new))\n",
    "meth.rename(columns=meth_ids_dict, inplace=True)\n",
    "\n",
    "mtx_signal = pd.concat([unmeth, meth], axis=1)\n",
    "mtx_signal_ids = []\n",
    "for s_id in range(len(unmeth_ids)):\n",
    "    mtx_signal_ids.append(unmeth_ids_new[s_id])\n",
    "    mtx_signal_ids.append(meth_ids_new[s_id])\n",
    "mtx_signal = mtx_signal[mtx_signal_ids]\n",
    "mtx_signal.index.name = 'ID_REF'"
   ],
   "metadata": {
    "collapsed": false,
    "ExecuteTime": {
     "end_time": "2023-11-13T12:44:03.475838800Z",
     "start_time": "2023-11-13T12:44:03.369852100Z"
    }
   }
  },
  {
   "cell_type": "code",
   "execution_count": 32,
   "outputs": [],
   "source": [
    "df.to_excel(f\"{path_save}/data/samples.xlsx\", index=True)\n",
    "mtx_proc.to_csv(f\"{path_save}/data/mtx_proc.csv\", index=True)\n",
    "mtx_signal.to_csv(f\"{path_save}/data/mtx_signal.csv\", index=True)"
   ],
   "metadata": {
    "collapsed": false,
    "ExecuteTime": {
     "end_time": "2023-11-13T12:44:25.319144400Z",
     "start_time": "2023-11-13T12:44:14.632621800Z"
    }
   }
  },
  {
   "cell_type": "code",
   "execution_count": 21,
   "outputs": [],
   "source": [
    "for fn in list(df.loc[:, 'idat file Grn'].values) + list(df.loc[:, 'idat file Red'].values):\n",
    "    shutil.copy2(f\"{path}/{platform}/{dataset}/raw/idat/{fn}\", f\"{path_save}/idat\")"
   ],
   "metadata": {
    "collapsed": false,
    "ExecuteTime": {
     "end_time": "2023-11-13T12:28:35.021211800Z",
     "start_time": "2023-11-13T12:28:33.416146300Z"
    }
   }
  }
 ],
 "metadata": {
  "kernelspec": {
   "display_name": "Python 3",
   "language": "python",
   "name": "python3"
  },
  "language_info": {
   "codemirror_mode": {
    "name": "ipython",
    "version": 2
   },
   "file_extension": ".py",
   "mimetype": "text/x-python",
   "name": "python",
   "nbconvert_exporter": "python",
   "pygments_lexer": "ipython2",
   "version": "2.7.6"
  }
 },
 "nbformat": 4,
 "nbformat_minor": 0
}
