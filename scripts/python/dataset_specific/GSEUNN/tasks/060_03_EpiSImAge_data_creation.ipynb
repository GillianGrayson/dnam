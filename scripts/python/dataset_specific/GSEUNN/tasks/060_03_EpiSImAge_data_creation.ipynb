{
 "cells": [
  {
   "cell_type": "markdown",
   "source": [
    "# Debugging autoreload"
   ],
   "metadata": {
    "collapsed": false
   }
  },
  {
   "cell_type": "code",
   "outputs": [],
   "source": [
    "%load_ext autoreload\n",
    "%autoreload 2"
   ],
   "metadata": {
    "collapsed": false
   }
  },
  {
   "cell_type": "markdown",
   "source": [
    "# Load packages"
   ],
   "metadata": {
    "collapsed": false
   }
  },
  {
   "cell_type": "code",
   "execution_count": null,
   "outputs": [],
   "source": [
    "import pandas as pd\n",
    "import numpy as np\n",
    "from scipy import stats\n",
    "import seaborn as sns\n",
    "import plotly.express as px\n",
    "import statsmodels.formula.api as smf\n",
    "import plotly.graph_objects as go\n",
    "from scripts.python.routines.manifest import get_manifest\n",
    "from scripts.python.routines.plot.save import save_figure\n",
    "from scripts.python.routines.plot.layout import add_layout\n",
    "from statsmodels.stats.multitest import multipletests\n",
    "import plotly.io as pio\n",
    "pio.kaleido.scope.mathjax = None\n",
    "from plotly.offline import init_notebook_mode\n",
    "init_notebook_mode(connected=False)\n",
    "import itertools\n",
    "from scipy.stats import mannwhitneyu, median_test, kruskal, wilcoxon, friedmanchisquare\n",
    "import matplotlib.pyplot as plt\n",
    "import matplotlib\n",
    "import matplotlib.patheffects as path_effects\n",
    "import random\n",
    "import pathlib\n",
    "from tqdm import tqdm\n",
    "from src.utils.plot.bioinfokit import mhat, volcano\n",
    "import gseapy as gp\n",
    "import mygene\n",
    "from sklearn.decomposition import PCA, IncrementalPCA, KernelPCA, TruncatedSVD\n",
    "from sklearn.decomposition import MiniBatchDictionaryLearning, FastICA\n",
    "from sklearn.random_projection import GaussianRandomProjection, SparseRandomProjection\n",
    "from sklearn.manifold import MDS, Isomap, TSNE, LocallyLinearEmbedding\n",
    "import upsetplot\n",
    "from matplotlib_venn import venn2, venn2_circles\n",
    "from itertools import chain\n",
    "from sklearn.metrics import mean_absolute_error\n",
    "from scripts.python.routines.plot.colorscales import get_continuous_color\n",
    "from impyute.imputation.cs import fast_knn\n",
    "import plotly\n",
    "from scripts.python.routines.plot.p_value import add_p_value_annotation\n",
    "from scripts.python.routines.sections import get_sections\n",
    "from statannotations.Annotator import Annotator\n",
    "from sklearn.model_selection import RepeatedStratifiedKFold\n",
    "from sklearn.impute import KNNImputer\n",
    "import functools\n",
    "import matplotlib.lines as mlines\n",
    "import patchworklib as pw\n",
    "\n",
    "\n",
    "def conjunction(conditions):\n",
    "    return functools.reduce(np.logical_and, conditions)\n",
    "\n",
    "\n",
    "def disjunction(conditions):\n",
    "    return functools.reduce(np.logical_or, conditions)"
   ],
   "metadata": {
    "collapsed": false
   }
  },
  {
   "cell_type": "markdown",
   "source": [
    "# Load data"
   ],
   "metadata": {
    "collapsed": false
   }
  },
  {
   "cell_type": "code",
   "outputs": [],
   "source": [
    "path = f\"D:/YandexDisk/Work/pydnameth/datasets/GPL21145/GSEUNN\"\n",
    "path_save = f\"{path}/special/060_EpiSImAge\"\n",
    "pathlib.Path(f\"{path_save}\").mkdir(parents=True, exist_ok=True)"
   ],
   "metadata": {
    "collapsed": false
   },
   "execution_count": null
  },
  {
   "cell_type": "markdown",
   "source": [
    "## Immunology"
   ],
   "metadata": {
    "collapsed": false
   }
  },
  {
   "cell_type": "code",
   "outputs": [],
   "source": [
    "df = pd.read_excel(f\"{path_save}/df.xlsx\", index_col=0)\n",
    "\n",
    "feats_imm = pd.read_excel(f\"{path}/data/immuno/feats_con.xlsx\", index_col=0).index.values\n",
    "feats_imm_fimmu = pd.read_excel(f\"{path}/data/immuno/models/SImAge/feats_con_top10.xlsx\", index_col=0).index.values\n",
    "feats_imm_slctd = pd.read_excel(f\"{path}/special/059_imm_data_selection/feats_selected.xlsx\", index_col=0).index.values\n",
    "\n",
    "feats_global = [\n",
    "    'Subject ID', 'Time', 'Status', 'Sex', 'Age', 'Region', 'SImAge', 'SImAge acceleration', '|SImAge acceleration|', 'Dialysis (months)',\n",
    "    'PMC10485620 ID', 'PMC9135940 ID', 'COVID', 'GSM', 'PMC10699032 ID', 'Residence', 'Nationality', 'Sample_Name', 'Sentrix_ID', 'Sentrix_Position'\n",
    "]\n",
    "\n",
    "for f in feats_imm_slctd:\n",
    "    df[f\"{f}_log\"] = np.log(df[f\"{f}\"])"
   ],
   "metadata": {
    "collapsed": false
   },
   "execution_count": null
  },
  {
   "cell_type": "code",
   "outputs": [],
   "source": [
    "# Stratification params\n",
    "random_state = 1337\n",
    "n_splits = 5\n",
    "\n",
    "stratify_cat_parts = {\n",
    "    'ctrl_central': df.index[(df['Status'] == 'Control') & (df['Region'] == 'Central')].values,\n",
    "    'ctrl_yakutia': df.index[(df['Status'] == 'Control') & (df['Region'] == 'Yakutia')].values,\n",
    "    'esrd': df.index[(df['Status'] == 'ESRD')].values,\n",
    "}\n",
    "\n",
    "for part, ids in stratify_cat_parts.items():\n",
    "    print(f\"{part}: {len(ids)}\")\n",
    "    trgt = df.loc[ids, 'Age'].values\n",
    "    ptp = np.ptp(trgt)\n",
    "    num_bins = 10\n",
    "    bins = np.linspace(np.min(trgt) - 0.1 * ptp, np.max(trgt) + 0.1 * ptp, num_bins + 1)\n",
    "    binned = np.digitize(trgt, bins) - 1\n",
    "    unique, counts = np.unique(binned, return_counts=True)\n",
    "    occ = dict(zip(unique, counts))\n",
    "    k_fold = RepeatedStratifiedKFold(\n",
    "        n_splits=n_splits,\n",
    "        n_repeats=1,\n",
    "        random_state=random_state\n",
    "    )\n",
    "    splits = k_fold.split(X=ids, y=binned, groups=binned)\n",
    "    \n",
    "    for split_id, (ids_trn, ids_val) in enumerate(splits):\n",
    "        df.loc[ids[ids_trn], f\"Split_{split_id}\"] = \"trn_val\"\n",
    "        df.loc[ids[ids_val], f\"Split_{split_id}\"] = \"tst\""
   ],
   "metadata": {
    "collapsed": false
   },
   "execution_count": null
  },
  {
   "cell_type": "markdown",
   "source": [
    "### Plotting"
   ],
   "metadata": {
    "collapsed": false
   }
  },
  {
   "cell_type": "code",
   "outputs": [],
   "source": [
    "# Plot histograms\n",
    "hist_bins = np.linspace(5, 115, 23)\n",
    "sns.set_theme(style='whitegrid')\n",
    "fig, ax = plt.subplots()\n",
    "histplot = sns.histplot(\n",
    "    data=df,\n",
    "    bins=hist_bins,\n",
    "    edgecolor='k',\n",
    "    linewidth=1,\n",
    "    x=\"Age\",\n",
    "    hue='Status',\n",
    "    palette={'ESRD': 'crimson', 'Control': 'dodgerblue'},\n",
    "    hue_order=['Control', 'ESRD'],\n",
    "    ax=ax\n",
    ")\n",
    "histplot.set(xlim=(0, 120))\n",
    "plt.savefig(f\"{path_save}/hist.png\", bbox_inches='tight', dpi=200)\n",
    "plt.savefig(f\"{path_save}/hist.pdf\", bbox_inches='tight')\n",
    "plt.close(fig)"
   ],
   "metadata": {
    "collapsed": false
   },
   "execution_count": null
  },
  {
   "cell_type": "markdown",
   "source": [
    "## Epigenetics"
   ],
   "metadata": {
    "collapsed": false
   }
  },
  {
   "cell_type": "code",
   "outputs": [],
   "source": [
    "feats_epi = {}\n",
    "epi_data_type = 'harm'\n",
    "manifest = get_manifest('GPL13534', path=\"D:/YandexDisk/Work/pydnameth/datasets\")"
   ],
   "metadata": {
    "collapsed": false
   },
   "execution_count": null
  },
  {
   "cell_type": "markdown",
   "source": [
    "### Train dataset"
   ],
   "metadata": {
    "collapsed": false
   }
  },
  {
   "cell_type": "markdown",
   "source": [
    "#### Correct index and save to binary"
   ],
   "metadata": {
    "collapsed": false
   }
  },
  {
   "cell_type": "code",
   "outputs": [],
   "source": [
    "df_epi = pd.read_csv(f\"{path_save}/GSEUNN/betas.csv\", index_col=0).transpose()\n",
    "df_epi = df_epi.loc[df['Sample_Name'].values, :]\n",
    "df_epi['Index'] = df.index.values\n",
    "df_epi.set_index('Index', inplace=True)\n",
    "df_epi.to_pickle(f\"{path_save}/GSEUNN/betas.pkl\")"
   ],
   "metadata": {
    "collapsed": false
   },
   "execution_count": null
  },
  {
   "cell_type": "markdown",
   "source": [
    "#### Load corrected from binary"
   ],
   "metadata": {
    "collapsed": false
   }
  },
  {
   "cell_type": "code",
   "outputs": [],
   "source": [
    "df_epi = pd.read_pickle(f\"{path_save}/GSEUNN/{epi_data_type}/betas.pkl\")\n",
    "feats_epi['GSEUNN'] = df_epi.columns.values"
   ],
   "metadata": {
    "collapsed": false
   },
   "execution_count": null
  },
  {
   "cell_type": "code",
   "outputs": [],
   "source": [
    "df = pd.merge(df, df_epi, left_index=True, right_index=True)"
   ],
   "metadata": {
    "collapsed": false
   },
   "execution_count": null
  },
  {
   "cell_type": "markdown",
   "source": [
    "### Test datasets"
   ],
   "metadata": {
    "collapsed": false
   }
  },
  {
   "cell_type": "markdown",
   "source": [
    "#### GSE87571"
   ],
   "metadata": {
    "collapsed": false
   }
  },
  {
   "cell_type": "markdown",
   "source": [
    "##### Correct index and save to binary"
   ],
   "metadata": {
    "collapsed": false
   }
  },
  {
   "cell_type": "code",
   "outputs": [],
   "source": [
    "df_gse_epi = pd.read_csv(f\"{path_save}/GSE87571/betas.csv\", index_col=0).transpose()\n",
    "df_gse_phn = pd.read_csv(f\"{path_save}/GSE87571/pheno.csv\", index_col=0)\n",
    "if not df_gse_epi.index.equals(df_gse_phn.index):\n",
    "    print(\"Indexes are not equal!\")\n",
    "else:\n",
    "    df_gse_epi.to_pickle(f\"{path_save}/GSE87571/betas.pkl\")\n",
    "    df_gse_phn.to_excel(f\"{path_save}/GSE87571/pheno.xlsx\")"
   ],
   "metadata": {
    "collapsed": false
   },
   "execution_count": null
  },
  {
   "cell_type": "markdown",
   "source": [
    "#### GSE40279"
   ],
   "metadata": {
    "collapsed": false
   }
  },
  {
   "cell_type": "markdown",
   "source": [
    "##### Correct index and save to binary"
   ],
   "metadata": {
    "collapsed": false
   }
  },
  {
   "cell_type": "code",
   "outputs": [],
   "source": [
    "df_gse_epi = pd.read_csv(f\"{path_save}/GSE40279/betas.csv\", index_col=0).transpose()\n",
    "df_gse_phn = pd.read_csv(f\"{path_save}/GSE40279/pheno.csv\", index_col=0)\n",
    "if not df_gse_epi.index.equals(df_gse_phn.index):\n",
    "    print(\"Indexes are not equal!\")\n",
    "df_gse_phn['Sample_Name'] = df_gse_phn.index.values\n",
    "df_gse_phn.set_index('gsm', inplace=True)\n",
    "df_gse_epi = df_gse_epi.loc[df_gse_phn['Sample_Name'].values, :]\n",
    "df_gse_epi['Index'] = df_gse_phn.index.values\n",
    "df_gse_epi.set_index('Index', inplace=True)\n",
    "df_gse_epi.to_pickle(f\"{path_save}/GSE40279/betas.pkl\")\n",
    "df_gse_phn.to_excel(f\"{path_save}/GSE40279/pheno.xlsx\")"
   ],
   "metadata": {
    "collapsed": false
   },
   "execution_count": null
  },
  {
   "cell_type": "markdown",
   "source": [
    "##### Load corrected from binary"
   ],
   "metadata": {
    "collapsed": false
   }
  },
  {
   "cell_type": "code",
   "outputs": [],
   "source": [
    "df_gse_epi = pd.read_pickle(f\"{path_save}/GSE40279/betas.pkl\")\n",
    "feats_epi['GSE40279'] = df_gse_epi.columns.values"
   ],
   "metadata": {
    "collapsed": false
   },
   "execution_count": null
  },
  {
   "cell_type": "markdown",
   "source": [
    "#### GSE179325"
   ],
   "metadata": {
    "collapsed": false
   }
  },
  {
   "cell_type": "markdown",
   "source": [
    "##### Correct index and save to binary"
   ],
   "metadata": {
    "collapsed": false
   }
  },
  {
   "cell_type": "code",
   "outputs": [],
   "source": [
    "df_gse_epi = pd.read_csv(f\"{path_save}/GSE179325/betas.csv\", index_col=0).transpose()\n",
    "df_gse_phn = pd.read_csv(f\"{path_save}/GSE179325/pheno.csv\", index_col=0)\n",
    "if not df_gse_epi.index.equals(df_gse_phn.index):\n",
    "    print(\"Indexes are not equal!\")\n",
    "else:\n",
    "    df_gse_epi.to_pickle(f\"{path_save}/GSE179325/betas.pkl\")\n",
    "    df_gse_phn.to_excel(f\"{path_save}/GSE179325/pheno.xlsx\")"
   ],
   "metadata": {
    "collapsed": false
   },
   "execution_count": null
  },
  {
   "cell_type": "markdown",
   "source": [
    "#### GSE217633"
   ],
   "metadata": {
    "collapsed": false
   }
  },
  {
   "cell_type": "markdown",
   "source": [
    "##### Correct index and save to binary"
   ],
   "metadata": {
    "collapsed": false
   }
  },
  {
   "cell_type": "code",
   "outputs": [],
   "source": [
    "df_gse_epi = pd.read_csv(f\"{path_save}/GSE217633/betas.csv\", index_col=0).transpose()\n",
    "df_gse_phn = pd.read_csv(f\"{path_save}/GSE217633/pheno.csv\", index_col=0)\n",
    "if not df_gse_epi.index.equals(df_gse_phn.index):\n",
    "    print(\"Indexes are not equal!\")\n",
    "else:\n",
    "    df_gse_epi.to_pickle(f\"{path_save}/GSE217633/betas.pkl\")\n",
    "    df_gse_phn.to_excel(f\"{path_save}/GSE217633/pheno.xlsx\")"
   ],
   "metadata": {
    "collapsed": false
   },
   "execution_count": null
  },
  {
   "cell_type": "markdown",
   "source": [
    "#### GSE220622"
   ],
   "metadata": {
    "collapsed": false
   }
  },
  {
   "cell_type": "markdown",
   "source": [
    "##### Correct index and save to binary"
   ],
   "metadata": {
    "collapsed": false
   }
  },
  {
   "cell_type": "code",
   "outputs": [],
   "source": [
    "df_gse_epi = pd.read_csv(f\"{path_save}/GSE220622/betas.csv\", index_col=0).transpose()\n",
    "df_gse_phn = pd.read_csv(f\"{path_save}/GSE220622/pheno.csv\", index_col=0)\n",
    "if not df_gse_epi.index.equals(df_gse_phn.index):\n",
    "    print(\"Indexes are not equal!\")\n",
    "else:\n",
    "    df_gse_epi.to_pickle(f\"{path_save}/GSE220622/betas.pkl\")\n",
    "    df_gse_phn.to_excel(f\"{path_save}/GSE220622/pheno.xlsx\")"
   ],
   "metadata": {
    "collapsed": false
   },
   "execution_count": null
  },
  {
   "cell_type": "markdown",
   "source": [
    "#### GSE219037"
   ],
   "metadata": {
    "collapsed": false
   }
  },
  {
   "cell_type": "markdown",
   "source": [
    "##### Correct index and save to binary"
   ],
   "metadata": {
    "collapsed": false
   }
  },
  {
   "cell_type": "code",
   "outputs": [],
   "source": [
    "df_gse_epi = pd.read_csv(f\"{path_save}/GSE219037/betas.csv\", index_col=0).transpose()\n",
    "df_gse_phn = pd.read_csv(f\"{path_save}/GSE219037/pheno.csv\", index_col=0)\n",
    "if not df_gse_epi.index.equals(df_gse_phn.index):\n",
    "    print(\"Indexes are not equal!\")\n",
    "else:\n",
    "    df_gse_epi.to_pickle(f\"{path_save}/GSE219037/betas.pkl\")\n",
    "    df_gse_phn.to_excel(f\"{path_save}/GSE219037/pheno.xlsx\")"
   ],
   "metadata": {
    "collapsed": false
   },
   "execution_count": null
  },
  {
   "cell_type": "markdown",
   "source": [
    "#### GSE118144"
   ],
   "metadata": {
    "collapsed": false
   }
  },
  {
   "cell_type": "markdown",
   "source": [
    "##### Correct index and save to binary"
   ],
   "metadata": {
    "collapsed": false
   }
  },
  {
   "cell_type": "code",
   "outputs": [],
   "source": [
    "df_gse_epi = pd.read_csv(f\"{path_save}/GSE118144/betas.csv\", index_col=0).transpose()\n",
    "df_gse_phn = pd.read_csv(f\"{path_save}/GSE118144/pheno.csv\", index_col=0)\n",
    "if not df_gse_epi.index.equals(df_gse_phn.index):\n",
    "    print(\"Indexes are not equal!\")\n",
    "else:\n",
    "    df_gse_epi.to_pickle(f\"{path_save}/GSE118144/betas.pkl\")\n",
    "    df_gse_phn.to_excel(f\"{path_save}/GSE118144/pheno.xlsx\")"
   ],
   "metadata": {
    "collapsed": false
   },
   "execution_count": null
  },
  {
   "cell_type": "markdown",
   "source": [
    "#### GSE201752"
   ],
   "metadata": {
    "collapsed": false
   }
  },
  {
   "cell_type": "markdown",
   "source": [
    "##### Correct index and save to binary"
   ],
   "metadata": {
    "collapsed": false
   }
  },
  {
   "cell_type": "code",
   "outputs": [],
   "source": [
    "df_gse_epi = pd.read_csv(f\"{path_save}/GSE201752/betas.csv\", index_col=0).transpose()\n",
    "df_gse_phn = pd.read_csv(f\"{path_save}/GSE201752/pheno.csv\", index_col=0)\n",
    "if not df_gse_epi.index.equals(df_gse_phn.index):\n",
    "    print(\"Indexes are not equal!\")\n",
    "else:\n",
    "    df_gse_epi.to_pickle(f\"{path_save}/GSE201752/betas.pkl\")\n",
    "    df_gse_phn.to_excel(f\"{path_save}/GSE201752/pheno.xlsx\")"
   ],
   "metadata": {
    "collapsed": false
   },
   "execution_count": null
  },
  {
   "cell_type": "markdown",
   "source": [
    "#### GSE42861"
   ],
   "metadata": {
    "collapsed": false
   }
  },
  {
   "cell_type": "markdown",
   "source": [
    "##### Correct index and save to binary"
   ],
   "metadata": {
    "collapsed": false
   }
  },
  {
   "cell_type": "code",
   "outputs": [],
   "source": [
    "df_gse_epi = pd.read_csv(f\"{path_save}/GSE42861/betas.csv\", index_col=0).transpose()\n",
    "df_gse_phn = pd.read_csv(f\"{path_save}/GSE42861/pheno.csv\", index_col=0)\n",
    "if not df_gse_epi.index.equals(df_gse_phn.index):\n",
    "    print(\"Indexes are not equal!\")\n",
    "else:\n",
    "    df_gse_epi.to_pickle(f\"{path_save}/GSE42861/betas.pkl\")\n",
    "    df_gse_phn.to_excel(f\"{path_save}/GSE42861/pheno.xlsx\")"
   ],
   "metadata": {
    "collapsed": false
   },
   "execution_count": null
  },
  {
   "cell_type": "markdown",
   "source": [
    "#### GSE73103"
   ],
   "metadata": {
    "collapsed": false
   }
  },
  {
   "cell_type": "markdown",
   "source": [
    "##### Correct index and save to binary"
   ],
   "metadata": {
    "collapsed": false
   }
  },
  {
   "cell_type": "code",
   "outputs": [],
   "source": [
    "df_gse_epi = pd.read_csv(f\"{path_save}/GSE73103/betas.csv\", index_col=0).transpose()\n",
    "df_gse_phn = pd.read_csv(f\"{path_save}/GSE73103/pheno.csv\", index_col=0)\n",
    "if not df_gse_epi.index.equals(df_gse_phn.index):\n",
    "    print(\"Indexes are not equal!\")\n",
    "else:\n",
    "    df_gse_epi.to_pickle(f\"{path_save}/GSE73103/betas.pkl\")\n",
    "    df_gse_phn.to_excel(f\"{path_save}/GSE73103/pheno.xlsx\")"
   ],
   "metadata": {
    "collapsed": false
   },
   "execution_count": null
  },
  {
   "cell_type": "markdown",
   "source": [
    "#### GSE106648"
   ],
   "metadata": {
    "collapsed": false
   }
  },
  {
   "cell_type": "markdown",
   "source": [
    "##### Correct index and save to binary"
   ],
   "metadata": {
    "collapsed": false
   }
  },
  {
   "cell_type": "code",
   "outputs": [],
   "source": [
    "df_gse_epi = pd.read_csv(f\"{path_save}/GSE106648/betas.csv\", index_col=0).transpose()\n",
    "df_gse_phn = pd.read_csv(f\"{path_save}/GSE106648/pheno.csv\", index_col=0)\n",
    "if not df_gse_epi.index.equals(df_gse_phn.index):\n",
    "    print(\"Indexes are not equal!\")\n",
    "else:\n",
    "    df_gse_epi.to_pickle(f\"{path_save}/GSE106648/betas.pkl\")\n",
    "    df_gse_phn.to_excel(f\"{path_save}/GSE106648/pheno.xlsx\")"
   ],
   "metadata": {
    "collapsed": false
   },
   "execution_count": null
  },
  {
   "cell_type": "markdown",
   "source": [
    "#### GSE67530"
   ],
   "metadata": {
    "collapsed": false
   }
  },
  {
   "cell_type": "markdown",
   "source": [
    "##### Correct index and save to binary"
   ],
   "metadata": {
    "collapsed": false
   }
  },
  {
   "cell_type": "code",
   "outputs": [],
   "source": [
    "df_gse_epi = pd.read_csv(f\"{path_save}/GSE67530/betas.csv\", index_col=0).transpose()\n",
    "df_gse_phn = pd.read_csv(f\"{path_save}/GSE67530/pheno.csv\", index_col=0)\n",
    "X = df_gse_epi.values\n",
    "imputer = KNNImputer(n_neighbors=5)\n",
    "X_imptd = imputer.fit_transform(X)\n",
    "df_gse_epi.loc[:, :] = X_imptd"
   ],
   "metadata": {
    "collapsed": false
   },
   "execution_count": null
  },
  {
   "cell_type": "code",
   "outputs": [],
   "source": [
    "if not df_gse_epi.index.equals(df_gse_phn.index):\n",
    "    print(\"Indexes are not equal!\")\n",
    "else:\n",
    "    df_gse_epi.to_pickle(f\"{path_save}/GSE67530/betas.pkl\")\n",
    "    df_gse_phn.to_excel(f\"{path_save}/GSE67530/pheno.xlsx\")"
   ],
   "metadata": {
    "collapsed": false
   },
   "execution_count": null
  },
  {
   "cell_type": "markdown",
   "source": [
    "#### GSE71955"
   ],
   "metadata": {
    "collapsed": false
   }
  },
  {
   "cell_type": "markdown",
   "source": [
    "##### Correct index and save to binary"
   ],
   "metadata": {
    "collapsed": false
   }
  },
  {
   "cell_type": "code",
   "outputs": [],
   "source": [
    "df_gse_epi = pd.read_csv(f\"{path_save}/GSE71955/betas.csv\", index_col=0).transpose()\n",
    "df_gse_phn = pd.read_csv(f\"{path_save}/GSE71955/pheno.csv\", index_col=0)\n",
    "if not df_gse_epi.index.equals(df_gse_phn.index):\n",
    "    print(\"Indexes are not equal!\")\n",
    "else:\n",
    "    df_gse_epi.to_pickle(f\"{path_save}/GSE71955/betas.pkl\")\n",
    "    df_gse_phn.to_excel(f\"{path_save}/GSE71955/pheno.xlsx\")"
   ],
   "metadata": {
    "collapsed": false
   },
   "execution_count": null
  },
  {
   "cell_type": "markdown",
   "source": [],
   "metadata": {
    "collapsed": false
   }
  },
  {
   "cell_type": "markdown",
   "source": [
    "#### GSE77696"
   ],
   "metadata": {
    "collapsed": false
   }
  },
  {
   "cell_type": "markdown",
   "source": [
    "##### Correct index and save to binary"
   ],
   "metadata": {
    "collapsed": false
   }
  },
  {
   "cell_type": "code",
   "outputs": [],
   "source": [
    "df_gse_epi = pd.read_csv(f\"{path_save}/GSE77696/betas.csv\", index_col=0).transpose()\n",
    "df_gse_phn = pd.read_csv(f\"{path_save}/GSE77696/pheno.csv\", index_col=0)\n",
    "if not df_gse_epi.index.equals(df_gse_phn.index):\n",
    "    print(\"Indexes are not equal!\")\n",
    "else:\n",
    "    df_gse_phn['Index'] = df_gse_phn['gsm']\n",
    "    df_gse_phn['Samples'] = df_gse_phn.index.values\n",
    "    df_gse_phn.set_index('Index', inplace=True)\n",
    "    df_gse_epi.set_index(df_gse_phn.index.values, inplace=True)\n",
    "    df_gse_epi.to_pickle(f\"{path_save}/GSE77696/betas.pkl\")\n",
    "    df_gse_phn.to_csv(f\"{path_save}/GSE77696/pheno_1.csv\")\n",
    "    df_gse_phn.to_excel(f\"{path_save}/GSE77696/pheno.xlsx\")"
   ],
   "metadata": {
    "collapsed": false
   },
   "execution_count": null
  },
  {
   "cell_type": "markdown",
   "source": [
    "# Features selection"
   ],
   "metadata": {
    "collapsed": false
   }
  },
  {
   "cell_type": "markdown",
   "source": [
    "## Immuno features analysis"
   ],
   "metadata": {
    "collapsed": false
   }
  },
  {
   "cell_type": "code",
   "outputs": [],
   "source": [
    "n_rows = 2\n",
    "n_cols = 5\n",
    "fig_height = 7\n",
    "fig_width = 16\n",
    "\n",
    "sns.set_theme(style='whitegrid')\n",
    "fig, axs = plt.subplots(n_rows, n_cols, figsize=(fig_width, fig_height), gridspec_kw={}, sharey=False, sharex=False)\n",
    "for feat_id, feat in enumerate(feats_imm_fimmu):\n",
    "    row_id, col_id = divmod(feat_id, n_cols)\n",
    "    sns.kdeplot(\n",
    "        data=df,\n",
    "        x=feat,\n",
    "        color='red',\n",
    "        linewidth=2,\n",
    "        cut=0,\n",
    "        fill=True,\n",
    "        ax=axs[row_id, col_id],\n",
    "    )\n",
    "    axs[row_id, col_id].ticklabel_format(style='scientific', scilimits=(-1, 1), axis='y', useOffset=True)\n",
    "fig.tight_layout()    \n",
    "fig.savefig(f\"{path_save}/fimmu_features/ori.png\", bbox_inches='tight', dpi=200)\n",
    "fig.savefig(f\"{path_save}/fimmu_features/ori.pdf\", bbox_inches='tight')\n",
    "plt.close(fig)\n",
    "\n",
    "sns.set_theme(style='whitegrid')\n",
    "fig, axs = plt.subplots(n_rows, n_cols, figsize=(fig_width, fig_height), gridspec_kw={}, sharey=False, sharex=False)\n",
    "for feat_id, feat in enumerate(feats_imm_fimmu):\n",
    "    row_id, col_id = divmod(feat_id, n_cols)\n",
    "    sns.kdeplot(\n",
    "        data=df,\n",
    "        x=f\"{feat}_log\",\n",
    "        color='blue',\n",
    "        linewidth=2,\n",
    "        cut=0,\n",
    "        fill=True,\n",
    "        ax=axs[row_id, col_id],\n",
    "    )\n",
    "    axs[row_id, col_id].ticklabel_format(style='scientific', scilimits=(-1, 1), axis='y', useOffset=True)\n",
    "    axs[row_id, col_id].set_xlabel(fr\"$\\log(\\mathrm{{{feat}}})$\")\n",
    "fig.tight_layout()    \n",
    "fig.savefig(f\"{path_save}/fimmu_features/log.png\", bbox_inches='tight', dpi=200)\n",
    "fig.savefig(f\"{path_save}/fimmu_features/log.pdf\", bbox_inches='tight')\n",
    "plt.close(fig)\n"
   ],
   "metadata": {
    "collapsed": false
   },
   "execution_count": null
  },
  {
   "cell_type": "markdown",
   "source": [
    "## Generate table of features"
   ],
   "metadata": {
    "collapsed": false
   }
  },
  {
   "cell_type": "code",
   "outputs": [],
   "source": [
    "feats_epi_cmn = list(set.intersection(*[set(x) for x in feats_epi.values()]))"
   ],
   "metadata": {
    "collapsed": false
   },
   "execution_count": null
  },
  {
   "cell_type": "code",
   "outputs": [],
   "source": [
    "df_feats_spearman = pd.DataFrame(\n",
    "    index=feats_epi_cmn,\n",
    "    columns=['Gene'] + list(itertools.chain(*[[f\"{x}_stat\", f\"{x}_pval\", f\"{x}_pval_fdr\"] for x in feats_imm_slctd]))\n",
    ")\n",
    "\n",
    "for cpg in tqdm(feats_epi_cmn, desc='CpG processing', total=len(feats_epi_cmn)):\n",
    "    df_feats_spearman.at[cpg, 'Gene'] = manifest.at[cpg, 'Gene']\n",
    "    for imm in feats_imm_slctd:\n",
    "        res = stats.spearmanr(df[f\"{imm}_log\"], df[cpg], alternative='two-sided')\n",
    "        df_feats_spearman.at[cpg, f\"{imm}_stat\"] = res.statistic\n",
    "        df_feats_spearman.at[cpg, f\"{imm}_pval\"] = res.pvalue\n",
    "for imm in feats_imm_slctd:\n",
    "    _, df_feats_spearman[f\"{imm}_pval_fdr\"], _, _ = multipletests(df_feats_spearman[f\"{imm}_pval\"], 0.05, method='fdr_bh')\n",
    "df_feats_spearman.to_excel(f\"{path_save}/df_feats_spearman.xlsx\")"
   ],
   "metadata": {
    "collapsed": false
   },
   "execution_count": null
  },
  {
   "cell_type": "markdown",
   "source": [
    "## Load table of features"
   ],
   "metadata": {
    "collapsed": false
   }
  },
  {
   "cell_type": "code",
   "outputs": [],
   "source": [
    "df_feats_spearman = pd.read_excel(f\"{path_save}/df_feats_spearman.xlsx\", index_col=0)\n",
    "feats_epi_cmn = df_feats_spearman.index.values"
   ],
   "metadata": {
    "collapsed": false
   },
   "execution_count": null
  },
  {
   "cell_type": "markdown",
   "source": [
    "# Create data for immunology regression"
   ],
   "metadata": {
    "collapsed": false
   }
  },
  {
   "cell_type": "code",
   "outputs": [],
   "source": [
    "n_top_cpgs = [100, 500, 1000]\n",
    "\n",
    "for imm in feats_imm_fimmu:\n",
    "    for n_feats in n_top_cpgs:\n",
    "        pathlib.Path(f\"{path_save}/fimmu_features/{imm}\").mkdir(parents=True, exist_ok=True)\n",
    "        df_feats_imm = df_feats_spearman.sort_values(f\"{imm}_pval_fdr\", ascending=True)[['Gene', f\"{imm}_stat\", f\"{imm}_pval\", f\"{imm}_pval_fdr\"]].head(n_feats)\n",
    "        df_feats_imm.to_excel(f\"{path_save}/fimmu_features/{imm}/feats_con_{n_feats}.xlsx\", index_label='CpG')\n",
    "        df_feats_imm.to_pickle(f\"{path_save}/fimmu_features/{imm}/feats_con_{n_feats}.pkl\")\n",
    "        feats_imm_curr = df_feats_imm.index.values\n",
    "        df_data_imm = df.loc[:, feats_global + [f\"Split_{split_id}\" for split_id in range(5)] + [imm, f'{imm}_log'] + list(feats_imm_curr)]\n",
    "        df_data_imm['Index'] = df_data_imm.index.values\n",
    "        df_data_imm.to_excel(f\"{path_save}/fimmu_features/{imm}/data_{n_feats}.xlsx\", index=False)\n",
    "        df_data_imm.to_pickle(f\"{path_save}/fimmu_features/{imm}/data_{n_feats}.pkl\")"
   ],
   "metadata": {
    "collapsed": false
   },
   "execution_count": null
  },
  {
   "cell_type": "markdown",
   "source": [
    "# SImAge 2: All contols, logarithmic"
   ],
   "metadata": {
    "collapsed": false
   }
  },
  {
   "cell_type": "code",
   "outputs": [],
   "source": [
    "pathlib.Path(f\"{path_save}/SImAge2\").mkdir(parents=True, exist_ok=True)\n",
    "df_feats_simage2 = pd.DataFrame(index=[f\"{f}_log\" for f in feats_imm_fimmu])\n",
    "df_feats_simage2.to_excel(f\"{path_save}/SImAge2/feats_con{len(feats_imm_fimmu)}.xlsx\", index_label='Features')\n",
    "df_feats_simage2.to_pickle(f\"{path_save}/SImAge2/feats_con{len(feats_imm_fimmu)}.pkl\")\n",
    "\n",
    "# Papers\n",
    "df_imm_fimmu = pd.read_excel(f\"{path}/data/immuno/models/SImAge/data.xlsx\", index_col=\"sample_id\")\n",
    "df_imm_geroscience = pd.read_excel(f\"{path}/data/immuno/models/IPAge/11357_2022_540_MOESM12_ESM.xlsx\", index_col=0, skiprows=1)\n",
    "df_epi_clinepi = pd.read_excel(f\"{path}/data/GSE234461/samples.xlsx\", index_col=0)\n",
    "\n",
    "df_imm_all = pd.read_excel(f\"{path}/data/immuno/df_samples(all_1052_121222)_proc(raw)_imp(fast_knn)_replace(quarter).xlsx\", index_col=0)\n",
    "df_ld_imm = df_imm_all['Subject ID'].value_counts().to_frame()\n",
    "df_imm_all['Is longitudinal?'] = False\n",
    "df_imm_all.loc[df_imm_all['Subject ID'].isin(df_ld_imm.index[df_ld_imm['Subject ID'] > 1].values), 'Is longitudinal?'] = True\n",
    "df_imm_all.rename(columns={'Sample_Chronology': 'Time'}, inplace=True)\n",
    "df_imm_all['Time'].replace({0: 'T0', 1: 'T1', 2: 'T2', 3: 'T3'}, inplace=True)\n",
    "df_imm_all.loc[df_imm_fimmu.index.values, 'PMC10485620 ID'] = df_imm_fimmu.loc[df_imm_fimmu.index.values, 'index']\n",
    "df_imm_all.loc[df_imm_geroscience.index.values, 'PMC9135940 ID'] = df_imm_geroscience.loc[df_imm_geroscience.index.values, 'ID_Origin']\n",
    "df_imm_all.loc[df_epi_clinepi.index.values, 'PMC10699032 ID'] = df_epi_clinepi.loc[df_epi_clinepi.index.values, 'GSM']\n",
    "\n",
    "feats_for_simage2 = [\n",
    "    'Subject ID', 'Time', 'Status', 'Sex', 'Age', 'Region', 'Dialysis (months)',\n",
    "    'SImAge', 'SImAge acceleration', '|SImAge acceleration|',\n",
    "    'PMC10485620 ID', 'PMC9135940 ID', 'PMC10699032 ID'\n",
    "] + [f\"{f}_log\" for f in feats_imm_fimmu]\n",
    "\n",
    "df_imm_simage2 = df_imm_all.loc[(df_imm_all['Status'].isin(['Control', 'ESRD'])) & (df_imm_all['Region'].isin(['Central', 'Yakutia'])), feats_for_simage2]\n",
    "\n",
    "random_state = 1337\n",
    "n_splits = 5\n",
    "\n",
    "stratify_cat_parts = {\n",
    "    'ctrl_central': df_imm_simage2.index[(df_imm_simage2['Status'] == 'Control') & (df_imm_simage2['Region'] == 'Central')].values,\n",
    "    'ctrl_yakutia': df_imm_simage2.index[(df_imm_simage2['Status'] == 'Control') & (df_imm_simage2['Region'] == 'Yakutia')].values,\n",
    "}\n",
    "\n",
    "for part, ids in stratify_cat_parts.items():\n",
    "    print(f\"{part}: {len(ids)}\")\n",
    "    trgt = df_imm_simage2.loc[ids, 'Age'].values\n",
    "    ptp = np.ptp(trgt)\n",
    "    num_bins = 10\n",
    "    bins = np.linspace(np.min(trgt) - 0.1 * ptp, np.max(trgt) + 0.1 * ptp, num_bins + 1)\n",
    "    binned = np.digitize(trgt, bins) - 1\n",
    "    unique, counts = np.unique(binned, return_counts=True)\n",
    "    occ = dict(zip(unique, counts))\n",
    "    k_fold = RepeatedStratifiedKFold(\n",
    "        n_splits=n_splits,\n",
    "        n_repeats=1,\n",
    "        random_state=random_state\n",
    "    )\n",
    "    splits = k_fold.split(X=ids, y=binned, groups=binned)\n",
    "    \n",
    "    for split_id, (ids_trn, ids_val) in enumerate(splits):\n",
    "        df_imm_simage2.loc[ids[ids_trn], f\"Split_{split_id}\"] = \"trn_val\"\n",
    "        df_imm_simage2.loc[ids[ids_val], f\"Split_{split_id}\"] = \"tst\"\n",
    "        df_imm_simage2.loc[df_imm_all['Status'] == \"ESRD\", f\"Split_{split_id}\"] = 'tst_esrd'\n",
    "\n",
    "df_imm_simage2.to_excel(f\"{path_save}/SImAge2/data.xlsx\")\n",
    "df_imm_simage2['Index'] = df_imm_simage2.index.values\n",
    "df_imm_simage2.to_pickle(f\"{path_save}/SImAge2/data.pkl\")"
   ],
   "metadata": {
    "collapsed": false
   },
   "execution_count": null
  },
  {
   "cell_type": "markdown",
   "source": [
    "# SImAge logarithmic"
   ],
   "metadata": {
    "collapsed": false
   }
  },
  {
   "cell_type": "code",
   "outputs": [],
   "source": [
    "pathlib.Path(f\"{path_save}/SImAge_log\").mkdir(parents=True, exist_ok=True)\n",
    "df_feats_simage_log = pd.DataFrame(index=[f\"{f}_log\" for f in feats_imm_fimmu])\n",
    "df_feats_simage_log.to_excel(f\"{path_save}/SImAge_log/feats_con{len(feats_imm_fimmu)}.xlsx\", index_label='Features')\n",
    "df_feats_simage_log.to_pickle(f\"{path_save}/SImAge_log/feats_con{len(feats_imm_fimmu)}.pkl\")\n",
    "\n",
    "# Papers\n",
    "df_imm_fimmu = pd.read_excel(f\"{path}/data/immuno/models/SImAge/data.xlsx\", index_col=\"sample_id\")\n",
    "df_imm_geroscience = pd.read_excel(f\"{path}/data/immuno/models/IPAge/11357_2022_540_MOESM12_ESM.xlsx\", index_col=0, skiprows=1)\n",
    "df_epi_clinepi = pd.read_excel(f\"{path}/data/GSE234461/samples.xlsx\", index_col=0)\n",
    "\n",
    "df_imm_all = pd.read_excel(f\"{path}/data/immuno/df_samples(all_1052_121222)_proc(raw)_imp(fast_knn)_replace(quarter).xlsx\", index_col=0)\n",
    "df_ld_imm = df_imm_all['Subject ID'].value_counts().to_frame()\n",
    "df_imm_all['Is longitudinal?'] = False\n",
    "df_imm_all.loc[df_imm_all['Subject ID'].isin(df_ld_imm.index[df_ld_imm['Subject ID'] > 1].values), 'Is longitudinal?'] = True\n",
    "df_imm_all.rename(columns={'Sample_Chronology': 'Time'}, inplace=True)\n",
    "df_imm_all['Time'].replace({0: 'T0', 1: 'T1', 2: 'T2', 3: 'T3'}, inplace=True)\n",
    "df_imm_all.loc[df_imm_fimmu.index.values, 'PMC10485620 ID'] = df_imm_fimmu.loc[df_imm_fimmu.index.values, 'index']\n",
    "df_imm_all.loc[df_imm_geroscience.index.values, 'PMC9135940 ID'] = df_imm_geroscience.loc[df_imm_geroscience.index.values, 'ID_Origin']\n",
    "df_imm_all.loc[df_epi_clinepi.index.values, 'PMC10699032 ID'] = df_epi_clinepi.loc[df_epi_clinepi.index.values, 'GSM']\n",
    "\n",
    "feats_for_simage_log = [\n",
    "    'Subject ID', 'Time', 'Status', 'Sex', 'Age', 'Region', 'Dialysis (months)',\n",
    "    'SImAge', 'SImAge acceleration', '|SImAge acceleration|',\n",
    "    'PMC10485620 ID', 'PMC9135940 ID', 'PMC10699032 ID'\n",
    "] + [f\"{f}_log\" for f in feats_imm_fimmu]\n",
    "\n",
    "df_imm_simage_log = df_imm_all.loc[df_imm_all['PMC10485620 ID'].notna(), feats_for_simage_log]\n",
    "df_imm_simage_log.loc[df_imm_simage_log['PMC10485620 ID'].str.contains('trn_val'), 'Split'] = 'trn_val'\n",
    "df_imm_simage_log.loc[df_imm_simage_log['PMC10485620 ID'].str.contains('tst_ctrl'), 'Split'] = 'tst'\n",
    "df_imm_simage_log.loc[df_imm_simage_log['PMC10485620 ID'].str.contains('tst_esrd'), 'Split'] = 'tst_esrd'\n",
    "\n",
    "df_imm_simage_log.to_excel(f\"{path_save}/SImAge_log/data.xlsx\")\n",
    "df_imm_simage_log['Index'] = df_imm_simage_log.index.values\n",
    "df_imm_simage_log.to_pickle(f\"{path_save}/SImAge_log/data.pkl\")"
   ],
   "metadata": {
    "collapsed": false
   },
   "execution_count": null
  }
 ],
 "metadata": {
  "kernelspec": {
   "name": "python3",
   "language": "python",
   "display_name": "Python 3 (ipykernel)"
  },
  "language_info": {
   "codemirror_mode": {
    "name": "ipython",
    "version": 2
   },
   "file_extension": ".py",
   "mimetype": "text/x-python",
   "name": "python",
   "nbconvert_exporter": "python",
   "pygments_lexer": "ipython2",
   "version": "2.7.6"
  }
 },
 "nbformat": 4,
 "nbformat_minor": 0
}
