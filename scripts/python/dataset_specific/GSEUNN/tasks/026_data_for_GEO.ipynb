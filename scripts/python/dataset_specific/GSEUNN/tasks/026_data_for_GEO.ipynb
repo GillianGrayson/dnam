{
 "cells": [
  {
   "cell_type": "code",
   "execution_count": null,
   "outputs": [],
   "source": [
    "import pandas as pd\n",
    "import numpy as np\n",
    "import scipy\n",
    "from sklearn.linear_model import ElasticNet, ElasticNetCV\n",
    "from sklearn.model_selection import RepeatedKFold, GridSearchCV\n",
    "from sklearn.metrics import mean_squared_error, mean_absolute_error, r2_score\n",
    "from scripts.python.routines.betas import betas_drop_na\n",
    "from plotly.subplots import make_subplots\n",
    "from scipy import stats\n",
    "import pickle\n",
    "import shutil\n",
    "import random\n",
    "import plotly.express as px\n",
    "import copy\n",
    "import statsmodels.formula.api as smf\n",
    "from sklearn.metrics import mean_squared_error, mean_absolute_error\n",
    "from scripts.python.pheno.datasets.filter import filter_pheno\n",
    "from scripts.python.pheno.datasets.features import get_column_name, get_status_dict, get_sex_dict\n",
    "from scripts.python.routines.plot.scatter import add_scatter_trace\n",
    "from scipy.stats import mannwhitneyu\n",
    "import plotly.graph_objects as go\n",
    "import pathlib\n",
    "from scripts.python.routines.manifest import get_manifest\n",
    "from scripts.python.routines.plot.save import save_figure\n",
    "from scripts.python.routines.plot.layout import add_layout, get_axis\n",
    "from scripts.python.routines.plot.p_value import add_p_value_annotation\n",
    "from statsmodels.stats.multitest import multipletests\n",
    "from sklearn.metrics import mean_absolute_error\n",
    "from scripts.python.routines.sections import get_sections\n",
    "import matplotlib.pyplot as plt\n",
    "from matplotlib_venn import venn2, venn2_circles\n",
    "import matplotlib"
   ],
   "metadata": {
    "collapsed": false
   }
  },
  {
   "cell_type": "code",
   "execution_count": null,
   "outputs": [],
   "source": [
    "dataset = \"GSEUNN\"\n",
    "path = f\"D:/YandexDisk/Work/pydnameth/datasets\"\n",
    "datasets_info = pd.read_excel(f\"{path}/datasets.xlsx\", index_col='dataset')\n",
    "platform = datasets_info.loc[dataset, 'platform']\n",
    "manifest = get_manifest(platform, path=path)\n",
    "\n",
    "path_save = f\"{path}/{platform}/{dataset}/special/026_data_for_GEO\"\n",
    "pathlib.Path(f\"{path_save}\").mkdir(parents=True, exist_ok=True)"
   ],
   "metadata": {
    "collapsed": false
   }
  },
  {
   "cell_type": "code",
   "execution_count": null,
   "outputs": [],
   "source": [
    "df_ipage = pd.read_csv(f\"{path_save}/samples/ipAGE.csv\", index_col='Sample_ID')\n",
    "df_yakutia = pd.read_excel(f\"{path_save}/samples/Yakutia_245.xlsx\", index_col='index')\n",
    "\n",
    "df = pd.read_excel(f\"{path}/{platform}/{dataset}/pheno.xlsx\", index_col=\"index\")\n",
    "df['Sample in Yakutia work?'] = 'No'\n",
    "df.loc[df_yakutia.index.values, 'Sample in Yakutia work?'] = 'Yes'\n",
    "df['Sample_ID'] = df[\"Sentrix_ID\"].astype(str) + '_' + df[\"Sentrix_Position\"].astype(str)\n",
    "df['index'] = df.index.values\n",
    "df.set_index('Sample_ID', inplace=True)\n",
    "df['Sample in ipAGE work?'] = 'No'\n",
    "df.loc[df_ipage.index.values, 'Sample in ipAGE work?'] = 'Yes'\n",
    "\n",
    "pathlib.Path(f\"{path_save}/samples/controls_intersection\").mkdir(parents=True, exist_ok=True)\n",
    "ctrl_ipage = df.index[(df['Sample in ipAGE work?'] == 'Yes') & (df['Status'] == 'Control')].values\n",
    "ctrl_yakutia = df.index[(df['Sample in Yakutia work?'] == 'Yes') & (df['Status'] == 'Control') & (df['Region'] == 'Central')].values\n",
    "fig, ax = plt.subplots()\n",
    "venn = venn2(\n",
    "    subsets=(set(ctrl_ipage), set(ctrl_yakutia)),\n",
    "    set_labels = ('ipAGE', 'Yakutia'),\n",
    "    set_colors=('r', 'g'),\n",
    "    alpha = 0.5\n",
    ")\n",
    "venn2_circles(subsets=(set(ctrl_ipage), set(ctrl_yakutia)))\n",
    "for text in venn.set_labels:\n",
    "    text.set_fontsize(16)\n",
    "for text in venn.subset_labels:\n",
    "    text.set_fontsize(25)\n",
    "plt.savefig(f\"{path_save}/samples/controls_intersection/venn.png\", bbox_inches='tight', dpi=400)\n",
    "plt.savefig(f\"{path_save}/samples/controls_intersection/venn.pdf\", bbox_inches='tight')\n",
    "plt.clf()\n",
    "\n",
    "sections = get_sections([set(ctrl_ipage), set(ctrl_yakutia)])\n",
    "for sec in sections:\n",
    "    df_sec = pd.DataFrame(index=list(sections[sec]))\n",
    "    df_sec.to_excel(f\"{path_save}/samples/controls_intersection/{sec}.xlsx\", index_label='Sample_ID')\n",
    "\n",
    "df = df.loc[(df['Sample in ipAGE work?'] == 'Yes') | (df['Sample in Yakutia work?'] == 'Yes'), :]\n",
    "df.index.name = 'Sample name'\n",
    "df['title'] =  'genomic DNA from Whole Blood for ' + df.index + ' sample'\n",
    "df['source name'] = 'Whole Blood'\n",
    "df['organism'] = 'Homo sapiens'\n",
    "df['sample type'] = 'genomic'\n",
    "df['idat file Grn'] = df.index + '_Grn.idat'\n",
    "df['idat file Red'] = df.index + '_Red.idat'\n",
    "df['characteristics: Sample in ipAGE work?'] = df['Sample in ipAGE work?']\n",
    "df['characteristics: Sample in Yakutia work?'] = df['Sample in Yakutia work?']\n",
    "df['characteristics: Age'] = df['Age']\n",
    "df['characteristics: Sex'] = df['Sex']\n",
    "df['characteristics: Status'] = df['Status']\n",
    "df['characteristics: Region'] = df['Region']\n",
    "df['molecule'] = 'genomic DNA'\n",
    "df['label'] = 'Cy5 and Cy3'\n",
    "df['description'] = df.index + ' is ' + df['Status'] + ' sample from ' + df['Region']\n",
    "df['platform'] = platform\n",
    "df['Sample_Well'] = ''\n",
    "df['Sample_Plate'] = ''\n",
    "df['Sample_Group'] = ''\n",
    "df['Pool_ID'] = ''\n",
    "\n",
    "df = df.loc[:,\n",
    "     [\n",
    "         'title',\n",
    "         'source name',\n",
    "         'organism',\n",
    "         'sample type',\n",
    "         'idat file Grn',\n",
    "         'idat file Red',\n",
    "         'characteristics: Sample in ipAGE work?',\n",
    "         'characteristics: Sample in Yakutia work?',\n",
    "         'characteristics: Age',\n",
    "         'characteristics: Sex',\n",
    "         'characteristics: Status',\n",
    "         'characteristics: Region',\n",
    "         'molecule',\n",
    "         'label',\n",
    "         'description',\n",
    "         'platform',\n",
    "         'index',\n",
    "         'index_origin',\n",
    "         'Sentrix_ID',\n",
    "         'Sentrix_Position',\n",
    "         'Sample_Well',\n",
    "         'Sample_Plate',\n",
    "         'Sample_Group',\n",
    "         'Pool_ID'\n",
    "     ]\n",
    "     ]\n",
    "\n",
    "df.to_excel(f\"{path_save}/samples/df.xlsx\", index_label='Sample name')"
   ],
   "metadata": {
    "collapsed": false
   }
  },
  {
   "cell_type": "code",
   "execution_count": null,
   "outputs": [],
   "source": [
    "# Select target ids\n",
    "df = df.loc[df['characteristics: Sample in Yakutia work?'] == 'Yes', :]"
   ],
   "metadata": {
    "collapsed": false
   }
  },
  {
   "cell_type": "code",
   "execution_count": null,
   "outputs": [],
   "source": [
    "betas = pd.read_csv(f\"{path_save}/data/beta_table.txt\", delimiter=\"\\t\", index_col='ID_REF')\n",
    "pvals = pd.read_csv(f\"{path_save}/data/pval_table.txt\", delimiter=\"\\t\", index_col='ID_REF')\n",
    "unmeth = pd.read_csv(f\"{path_save}/data/unmeth_table.txt\", delimiter=\"\\t\", index_col='ID_REF')\n",
    "meth = pd.read_csv(f\"{path_save}/data/meth_table.txt\", delimiter=\"\\t\", index_col='ID_REF')"
   ],
   "metadata": {
    "collapsed": false
   }
  },
  {
   "cell_type": "code",
   "execution_count": null,
   "outputs": [],
   "source": [
    "betas = betas.astype('float32')\n",
    "pvals = pvals.astype('float32')\n",
    "unmeth = unmeth.astype('int32')\n",
    "meth = meth.astype('int32')"
   ],
   "metadata": {
    "collapsed": false
   }
  },
  {
   "cell_type": "code",
   "execution_count": null,
   "outputs": [],
   "source": [
    "pheno_ids = df.index.tolist()\n",
    "betas_ids = list(betas.columns.values)\n",
    "pvals_ids = list(pvals.columns.values)\n",
    "unmeth_ids = list(unmeth.columns.values)\n",
    "meth_ids = list(meth.columns.values)\n",
    "if  pheno_ids == betas_ids and pheno_ids == pvals_ids and pheno_ids == unmeth_ids and pheno_ids == meth_ids:\n",
    "    print(f\"Order is fine\")\n",
    "else:\n",
    "    raise ValueError(f\"Warning! Order is not the same!\")"
   ],
   "metadata": {
    "collapsed": false
   }
  },
  {
   "cell_type": "code",
   "execution_count": null,
   "outputs": [],
   "source": [
    "pvals_ids_new = [f'{x} Detection Pval' for x in pvals_ids]\n",
    "pvals_ids_dict = dict(zip(pvals_ids, pvals_ids_new))\n",
    "pvals.rename(columns=pvals_ids_dict, inplace=True)\n",
    "\n",
    "mtx_proc = pd.concat([betas, pvals], axis=1)\n",
    "mtx_proc_ids = []\n",
    "for s_id in range(len(betas_ids)):\n",
    "    mtx_proc_ids.append(betas_ids[s_id])\n",
    "    mtx_proc_ids.append(pvals_ids_new[s_id])\n",
    "mtx_proc = mtx_proc[mtx_proc_ids]\n",
    "mtx_proc.index.name = 'ID_REF'"
   ],
   "metadata": {
    "collapsed": false
   }
  },
  {
   "cell_type": "code",
   "execution_count": null,
   "outputs": [],
   "source": [
    "unmeth_ids_new = [f'{x} Unmethylated Signal' for x in unmeth_ids]\n",
    "unmeth_ids_dict = dict(zip(unmeth_ids, unmeth_ids_new))\n",
    "unmeth.rename(columns=unmeth_ids_dict, inplace=True)\n",
    "\n",
    "meth_ids_new = [f'{x} Methylated Signal' for x in meth_ids]\n",
    "meth_ids_dict = dict(zip(meth_ids, meth_ids_new))\n",
    "meth.rename(columns=meth_ids_dict, inplace=True)\n",
    "\n",
    "mtx_signal = pd.concat([unmeth, meth], axis=1)\n",
    "mtx_signal_ids = []\n",
    "for s_id in range(len(unmeth_ids)):\n",
    "    mtx_signal_ids.append(unmeth_ids_new[s_id])\n",
    "    mtx_signal_ids.append(meth_ids_new[s_id])\n",
    "mtx_signal = mtx_signal[mtx_signal_ids]\n",
    "mtx_signal.index.name = 'ID_REF'"
   ],
   "metadata": {
    "collapsed": false
   }
  },
  {
   "cell_type": "code",
   "execution_count": null,
   "outputs": [],
   "source": [
    "df.to_excel(f\"{path_save}/data/samples.xlsx\", index=True)\n",
    "mtx_proc.to_csv(f\"{path_save}/data/mtx_proc.csv\", index=True)\n",
    "mtx_signal.to_csv(f\"{path_save}/data/mtx_signal.csv\", index=True)"
   ],
   "metadata": {
    "collapsed": false
   }
  },
  {
   "cell_type": "code",
   "execution_count": null,
   "outputs": [],
   "source": [
    "for fn in list(df.loc[:, 'idat file Grn'].values) + list(df.loc[:, 'idat file Red'].values):\n",
    "    shutil.copy2(f\"{path}/{platform}/{dataset}/raw/idat/{fn}\", f\"{path_save}/idat\")"
   ],
   "metadata": {
    "collapsed": false
   }
  },
  {
   "cell_type": "markdown",
   "source": [
    "# Fixing existing tables"
   ],
   "metadata": {
    "collapsed": false
   }
  },
  {
   "cell_type": "code",
   "execution_count": null,
   "outputs": [],
   "source": [
    "processed = pd.read_csv(\"D:/YandexDisk/Work/pydnameth/datasets/GPL21145/GSEUNN/special/026_data_for_GEO/Matrix_processed.csv\", index_col=0)\n",
    "processed.index.name = 'ID_REF'"
   ],
   "metadata": {
    "collapsed": false
   }
  },
  {
   "cell_type": "code",
   "execution_count": null,
   "outputs": [],
   "source": [
    "cols_to_del = [\n",
    "    '205724780068_R04C01',\n",
    "    '205724780167_R01C01',\n",
    "    '205724780167_R02C01',\n",
    "    '205724780167_R03C01',\n",
    "    '205724780167_R04C01',\n",
    "    '205724780068_R04C01 Detection Pval',\n",
    "    '205724780167_R01C01 Detection Pval',\n",
    "    '205724780167_R02C01 Detection Pval',\n",
    "    '205724780167_R03C01 Detection Pval',\n",
    "    '205724780167_R04C01 Detection Pval',\n",
    "]\n",
    "processed.drop(columns=cols_to_del, inplace=True)"
   ],
   "metadata": {
    "collapsed": false
   }
  },
  {
   "cell_type": "code",
   "execution_count": null,
   "outputs": [],
   "source": [
    "processed.to_csv(\"D:/YandexDisk/Work/pydnameth/datasets/GPL21145/GSEUNN/special/026_data_for_GEO/Matrix_processed_245.csv\", index=True, index_label='ID_REF')"
   ],
   "metadata": {
    "collapsed": false
   }
  }
 ],
 "metadata": {
  "kernelspec": {
   "display_name": "Python 3",
   "language": "python",
   "name": "python3"
  },
  "language_info": {
   "codemirror_mode": {
    "name": "ipython",
    "version": 2
   },
   "file_extension": ".py",
   "mimetype": "text/x-python",
   "name": "python",
   "nbconvert_exporter": "python",
   "pygments_lexer": "ipython2",
   "version": "2.7.6"
  }
 },
 "nbformat": 4,
 "nbformat_minor": 0
}
