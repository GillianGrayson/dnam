{
 "cells": [
  {
   "cell_type": "code",
   "execution_count": null,
   "id": "9a3fe634d53eb9bd",
   "metadata": {
    "collapsed": true
   },
   "source": [
    "import pandas as pd\n",
    "from scripts.python.preprocessing.serialization.routines.download import download_betas_from_gsms"
   ],
   "outputs": []
  },
  {
   "cell_type": "code",
   "execution_count": null,
   "source": [
    "dataset = \"GSE67530\"\n",
    "path_data = f\"D:/YandexDisk/Work/pydnameth/datasets/GPL13534/{dataset}\"\n",
    "df_pheno = pd.read_excel(f\"{path_data}/pheno.xlsx\", index_col=0)"
   ],
   "metadata": {
    "collapsed": false
   },
   "id": "initial_id",
   "outputs": []
  },
  {
   "cell_type": "code",
   "execution_count": null,
   "source": [
    "df_betas = download_betas_from_gsms(df_pheno.index.values, f\"{path_data}/raw\")"
   ],
   "metadata": {
    "collapsed": false
   },
   "id": "8dcf2ff4992eb66e",
   "outputs": []
  },
  {
   "cell_type": "code",
   "execution_count": null,
   "source": [
    "df_betas = df_betas.T"
   ],
   "metadata": {
    "collapsed": false
   },
   "id": "2a197b9cb7468f20",
   "outputs": []
  },
  {
   "cell_type": "code",
   "execution_count": null,
   "source": [
    "df_betas.to_pickle(f\"{path_data}/betas.pkl\")"
   ],
   "metadata": {
    "collapsed": false
   },
   "id": "ad5010f8ce226a4",
   "outputs": []
  }
 ],
 "metadata": {
  "kernelspec": {
   "display_name": "Python 3",
   "language": "python",
   "name": "python3"
  },
  "language_info": {
   "codemirror_mode": {
    "name": "ipython",
    "version": 2
   },
   "file_extension": ".py",
   "mimetype": "text/x-python",
   "name": "python",
   "nbconvert_exporter": "python",
   "pygments_lexer": "ipython2",
   "version": "2.7.6"
  }
 },
 "nbformat": 4,
 "nbformat_minor": 5
}
