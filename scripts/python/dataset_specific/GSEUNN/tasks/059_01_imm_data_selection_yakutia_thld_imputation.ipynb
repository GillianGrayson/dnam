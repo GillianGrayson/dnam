{
 "cells": [
  {
   "cell_type": "markdown",
   "source": [
    "# Debugging autoreload"
   ],
   "metadata": {
    "collapsed": false
   }
  },
  {
   "cell_type": "code",
   "outputs": [],
   "source": [
    "%load_ext autoreload\n",
    "%autoreload 2"
   ],
   "metadata": {
    "collapsed": false
   }
  },
  {
   "cell_type": "markdown",
   "source": [
    "# Load packages"
   ],
   "metadata": {
    "collapsed": false
   }
  },
  {
   "cell_type": "code",
   "execution_count": null,
   "outputs": [],
   "source": [
    "import pandas as pd\n",
    "import numpy as np\n",
    "from scipy import stats\n",
    "import seaborn as sns\n",
    "import plotly.express as px\n",
    "import statsmodels.formula.api as smf\n",
    "import plotly.graph_objects as go\n",
    "from scripts.python.routines.manifest import get_manifest\n",
    "from scripts.python.routines.plot.save import save_figure\n",
    "from scripts.python.routines.plot.layout import add_layout\n",
    "from statsmodels.stats.multitest import multipletests\n",
    "import plotly.io as pio\n",
    "pio.kaleido.scope.mathjax = None\n",
    "from plotly.offline import init_notebook_mode\n",
    "init_notebook_mode(connected=False)\n",
    "from scipy.stats import mannwhitneyu, median_test, kruskal, wilcoxon, friedmanchisquare\n",
    "import matplotlib.pyplot as plt\n",
    "import matplotlib\n",
    "import matplotlib.patheffects as path_effects\n",
    "import random\n",
    "import pathlib\n",
    "from tqdm import tqdm\n",
    "from src.utils.plot.bioinfokit import mhat, volcano\n",
    "import gseapy as gp\n",
    "import mygene\n",
    "from sklearn.decomposition import PCA, IncrementalPCA, KernelPCA, TruncatedSVD\n",
    "from sklearn.decomposition import MiniBatchDictionaryLearning, FastICA\n",
    "from sklearn.random_projection import GaussianRandomProjection, SparseRandomProjection\n",
    "from sklearn.manifold import MDS, Isomap, TSNE, LocallyLinearEmbedding\n",
    "import upsetplot\n",
    "from matplotlib_venn import venn2, venn2_circles\n",
    "from itertools import chain\n",
    "from sklearn.metrics import mean_absolute_error\n",
    "from scripts.python.routines.plot.colorscales import get_continuous_color\n",
    "from impyute.imputation.cs import fast_knn\n",
    "import plotly\n",
    "from scripts.python.routines.plot.p_value import add_p_value_annotation\n",
    "from scripts.python.routines.sections import get_sections\n",
    "from statannotations.Annotator import Annotator\n",
    "import functools\n",
    "import matplotlib.lines as mlines\n",
    "import patchworklib as pw\n",
    "\n",
    "\n",
    "def conjunction(conditions):\n",
    "    return functools.reduce(np.logical_and, conditions)\n",
    "\n",
    "\n",
    "def disjunction(conditions):\n",
    "    return functools.reduce(np.logical_or, conditions)"
   ],
   "metadata": {
    "collapsed": false
   }
  },
  {
   "cell_type": "markdown",
   "source": [
    "# Load data"
   ],
   "metadata": {
    "collapsed": false
   }
  },
  {
   "cell_type": "code",
   "execution_count": null,
   "outputs": [],
   "source": [
    "path = f\"D:/YandexDisk/Work/pydnameth/datasets/GPL21145/GSEUNN\"\n",
    "df_imm = pd.read_excel(f\"{path}/data/immuno/df_samples(all_1052_121222)_proc(raw)_imp(fast_knn)_replace(quarter).xlsx\", index_col=0)\n",
    "feats_imm = pd.read_excel(f\"{path}/data/immuno/feats_con.xlsx\", index_col=0).index.values\n",
    "df_ld_imm = df_imm['Subject ID'].value_counts().to_frame()\n",
    "df_imm['Is longitudinal?'] = False\n",
    "df_imm.loc[df_imm['Subject ID'].isin(df_ld_imm.index[df_ld_imm['Subject ID'] > 1].values), 'Is longitudinal?'] = True\n",
    "df_imm = df_imm.loc[(df_imm['Status'] == 'Control'), :]\n",
    "df_imm.rename(columns={'Sample_Chronology': 'Time'}, inplace=True)\n",
    "df_imm['Time'].replace({0: 'T0', 1: 'T1', 2: 'T2', 3: 'T3'}, inplace=True)\n",
    "df_imm_ppr = pd.read_excel(f\"{path}/data/immuno/models/SImAge/data.xlsx\", index_col=\"sample_id\")\n",
    "ids_imm_ppr = df_imm_ppr.index[df_imm_ppr['Status'] == 'Control'].values\n",
    "feats_imm_ppr = pd.read_excel(f\"{path}/data/immuno/models/SImAge/feats_con_top10.xlsx\", index_col=0).index.values\n",
    "\n",
    "epi_suffix = \"_harm\"\n",
    "df_epi = pd.read_excel(f\"{path}/pheno.xlsx\", index_col=\"index\")\n",
    "df_epi.index.name = \"index\"\n",
    "df_epi.drop([\"I64_old\", \"I1_duplicate\"], inplace=True)\n",
    "df_epi.rename(columns={'Subject_ID': 'Subject ID'}, inplace=True)\n",
    "df_ld_epi = df_epi['Subject ID'].value_counts().to_frame()\n",
    "df_epi['Is longitudinal?'] = False\n",
    "df_epi.loc[df_epi['Subject ID'].isin(df_ld_epi.index[df_ld_epi['Subject ID'] > 1].values), 'Is longitudinal?'] = True\n",
    "df_epi = df_epi.loc[(df_epi['Status'] == 'Control'), :]\n",
    "df_epi.rename(columns={'Sample_Chronology': 'Time'}, inplace=True)\n",
    "df_epi['Time'].replace({0: 'T0', 1: 'T1', 2: 'T2', 3: 'T3'}, inplace=True)\n",
    "ids_epi_ppr = pd.read_excel(f\"{path}/data/GSE234461/samples.xlsx\", index_col=0).index.values\n",
    "\n",
    "path_save = f\"{path}/special/059_imm_data_selection\"\n",
    "pathlib.Path(f\"{path_save}\").mkdir(parents=True, exist_ok=True)"
   ],
   "metadata": {
    "collapsed": false
   }
  },
  {
   "cell_type": "markdown",
   "source": [
    "## Get immunology data with nans "
   ],
   "metadata": {
    "collapsed": false
   }
  },
  {
   "cell_type": "code",
   "outputs": [],
   "source": [
    "files = [\n",
    "    \"Aging L, Q, H, I\",\n",
    "    \"Aging-Covid_05.01.2022\",\n",
    "    \"Aging-Covid-05.05.22\",\n",
    "    \"Covid_results_02_2021\",\n",
    "    \"Covid-25.11.20\",\n",
    "    \"MULTIPLEX_20_11_2020_ AGING\",\n",
    "    \"Yakutiya + TR\",\n",
    "    \"Мультиплекс_Agind&Covid\",\n",
    "]\n",
    "df_imm_genes = pd.read_excel(f\"{path}/data/immuno/immuno_markers_genes.xlsx\")\n",
    "dict_imm_genes = dict(zip(df_imm_genes['immuno_marker'], df_imm_genes['gene']))\n",
    "\n",
    "dfs_files = []\n",
    "nans_by_features = {}\n",
    "for file in files:\n",
    "    df_file = pd.read_excel(f\"{path}/data/immuno/files/processed/{file}.xlsx\", index_col=\"Sample\")\n",
    "    df_file.rename(columns=dict_imm_genes, inplace=True)\n",
    "    df_file = df_file.loc[:, feats_imm]\n",
    "\n",
    "    # duplicates processing\n",
    "    if file == \"MULTIPLEX_20_11_2020_ AGING\":\n",
    "        df_file_doubled_unique = df_file.loc[~df_file.index.duplicated(keep=False), :]\n",
    "        df_file_doubled_1 = df_file.loc[df_file.index.duplicated(keep='first'), :]\n",
    "        df_file_doubled_2 = df_file.loc[df_file.index.duplicated(keep='last'), :]\n",
    "        df_file_duplicates_final = pd.concat([df_file_doubled_2, df_file_doubled_unique], axis=0)\n",
    "        df_file = df_file_duplicates_final\n",
    "    df_file_duplicates = df_file.loc[df_file.index.duplicated(keep=False), :]\n",
    "    if df_file_duplicates.shape[0] > 0:\n",
    "        print(df_file_duplicates.index)\n",
    "    \n",
    "    for feat in df_file:\n",
    "        nan_vals = set(df_file.loc[df_file[feat].astype(str).str.contains(r'^([<>].*)$', regex=True), feat].values)\n",
    "        if len(nan_vals) > 0:\n",
    "            for nv in nan_vals:\n",
    "                if feat in nans_by_features:\n",
    "                    nans_by_features[feat].add(nv)\n",
    "                else:\n",
    "                    nans_by_features[feat] = {nv}\n",
    "    \n",
    "    dfs_files.append(df_file)\n",
    "\n",
    "print(nans_by_features)\n",
    "\n",
    "df_imm_w_nans = pd.concat(dfs_files, verify_integrity=False)\n",
    "df_imm_w_nans.index = df_imm_w_nans.index.map(str)\n",
    "df_imm_w_nans = df_imm_w_nans.loc[df_imm.index.values, :]\n",
    "df_imm_w_nans.replace(r'^([\\<].*)$', 'NaN', inplace=True, regex=True)\n",
    "for feat in feats_imm:\n",
    "    ids_imputed_above = df_imm_w_nans.index[df_imm_w_nans[feat].astype(str).str.contains('>')]\n",
    "    df_imm_w_nans.loc[ids_imputed_above, feat] = df_imm.loc[ids_imputed_above, feat]\n",
    "df_imm_w_nans = df_imm_w_nans.apply(pd.to_numeric, errors='coerce')\n",
    "df_imm_w_nans.to_excel(f\"{path_save}/df_imm_w_nans.xlsx\", index_label=\"Index\")\n",
    "\n",
    "# Checking values\n",
    "df_diff = df_imm.loc[df_imm.index.values, feats_imm] - df_imm_w_nans.loc[df_imm.index.values, feats_imm]\n",
    "df_diff = df_diff.fillna(0.0).values\n",
    "max_diff = df_diff.flat[np.abs(df_diff).argmax()]  \n",
    "print(f\"max_diff: {max_diff}\")"
   ],
   "metadata": {
    "collapsed": false
   },
   "execution_count": null
  },
  {
   "cell_type": "markdown",
   "source": [
    "# Yakutia data threshold processing"
   ],
   "metadata": {
    "collapsed": false
   }
  },
  {
   "cell_type": "markdown",
   "source": [
    "## Replace NaN (threshold) values in Yakutia close to Central region samples"
   ],
   "metadata": {
    "collapsed": false
   }
  },
  {
   "cell_type": "code",
   "outputs": [],
   "source": [
    "pathlib.Path(f\"{path_save}/yakutia_imputation/\").mkdir(parents=True, exist_ok=True)\n",
    "\n",
    "def find_nearest(array, value):\n",
    "    array = np.asarray(array)\n",
    "    idx = (np.abs(array - value)).argmin()\n",
    "    return array[idx]\n",
    "\n",
    "df_imm_imptd = df_imm_w_nans.loc[:, feats_imm].copy()\n",
    "ids_imm_non_yakutia = df_imm.index[df_imm['Region'] != 'Yakutia'].values\n",
    "ids_imm_yakutia = df_imm.index[df_imm['Region'] == 'Yakutia'].values\n",
    "df_imm_imptd.loc[ids_imm_non_yakutia, feats_imm] = df_imm.loc[ids_imm_non_yakutia, feats_imm]\n",
    "df_imm_imptd.loc[:, feats_imm] = df_imm_imptd.loc[:, feats_imm].astype('float')\n",
    "imptd_values = fast_knn(df_imm_imptd.loc[:, feats_imm].values)\n",
    "df_imm_imptd.loc[:, feats_imm] = imptd_values\n",
    "\n",
    "# Checking values\n",
    "df_diff = df_imm.loc[ids_imm_non_yakutia, feats_imm] - df_imm_imptd.loc[ids_imm_non_yakutia, feats_imm]\n",
    "max_diff = df_diff.values.flat[np.abs(df_diff.values).argmax()]  \n",
    "print(f\"max_diff: {max_diff}\")\n",
    "\n",
    "# Replace imputed values in Yakutia to the closest threshold values in central region\n",
    "for feat in feats_imm:\n",
    "    srs_feat_base = df_imm_w_nans.loc[ids_imm_non_yakutia, feat].isna()\n",
    "    ids_feat_base = srs_feat_base.index[srs_feat_base == True].values\n",
    "    if len(ids_feat_base) > 0:\n",
    "        feat_base_vals = df_imm.loc[ids_feat_base, feat].unique()\n",
    "        srs_feat_trgt = df_imm_w_nans.loc[ids_imm_yakutia, feat].isna()\n",
    "        ids_feat_trgt = srs_feat_trgt.index[srs_feat_trgt == True].values\n",
    "        for id_trgt in ids_feat_trgt:\n",
    "            df_imm_imptd.at[id_trgt, feat] = find_nearest(feat_base_vals, df_imm_imptd.at[id_trgt, feat])\n",
    "\n",
    "df_diff = df_imm.loc[df_imm.index.values, feats_imm] - df_imm_imptd.loc[df_imm.index.values, feats_imm]\n",
    "max_diff = df_diff.values.flat[np.abs(df_diff.values).argmax()]  \n",
    "print(f\"max_diff: {max_diff}\")\n",
    "\n",
    "df_imm.loc[ids_imm_yakutia, feats_imm] = df_imm_imptd.loc[ids_imm_yakutia, feats_imm]"
   ],
   "metadata": {
    "collapsed": false
   },
   "execution_count": null
  },
  {
   "cell_type": "markdown",
   "source": [
    "# Replace original immunology data with imputed data for Yakuts thresholds"
   ],
   "metadata": {
    "collapsed": false
   }
  },
  {
   "cell_type": "code",
   "outputs": [],
   "source": [
    "df_imm_ori = pd.read_excel(f\"D:/YandexDisk/Work/pydnameth/datasets/GPL21145/GSEUNN/data/immuno/df_samples(all_1052_121222)_proc(raw)_imp(fast_knn)_replace(quarter).xlsx\", index_col=0)\n",
    "df_imm_ori.loc[df_imm.index.values, feats_imm] = df_imm.loc[df_imm.index.values, feats_imm]\n",
    "df_diff = df_imm_ori.loc[df_imm.index.values, feats_imm] - df_imm.loc[df_imm.index.values, feats_imm]\n",
    "max_diff = df_diff.values.flat[np.abs(df_diff.values).argmax()]\n",
    "print(f\"Compare imputed data with original data: {max_diff}\")\n",
    "for f in feats_imm:\n",
    "    df_imm_ori[f\"{f}_log\"] = np.log(df_imm_ori[f\"{f}\"])"
   ],
   "metadata": {
    "collapsed": false
   },
   "execution_count": null
  },
  {
   "cell_type": "markdown",
   "source": [
    "## Collect new SImAge results"
   ],
   "metadata": {
    "collapsed": false
   }
  },
  {
   "cell_type": "code",
   "outputs": [],
   "source": [
    "df_simage = pd.read_excel(f\"{path_save}/yakutia_imputation/SImAge_result.xlsx\", index_col=0)\n",
    "df_imm_ori['SImAge old'] = df_imm_ori['SImAge']\n",
    "df_imm_ori['SImAge acceleration old'] = df_imm_ori['SImAge acceleration']\n",
    "df_imm_ori['|SImAge acceleration| old'] = df_imm_ori['|SImAge acceleration|']\n",
    "df_imm_ori.loc[df_imm_ori.index.values, 'SImAge'] = df_simage.loc[df_imm_ori.index.values, 'Prediction']\n",
    "df_imm_ori.loc[df_imm_ori.index.values, 'SImAge acceleration'] = df_simage.loc[df_imm_ori.index.values, 'Prediction error']\n",
    "df_imm_ori.loc[df_imm_ori.index.values, '|SImAge acceleration|'] = df_simage.loc[df_imm_ori.index.values, 'Prediction error abs']\n",
    "df_imm_ori['|SImAge acceleration| diff'] = df_imm_ori['|SImAge acceleration| old'] - df_imm_ori['|SImAge acceleration|']\n",
    "df_imm_ori['SImAge paper'] = False\n",
    "df_imm_ori.loc[ids_imm_ppr, 'SImAge paper'] = True\n",
    "df_imm_ori.to_excel(f\"{path_save}/yakutia_imputation/df_imm_ori.xlsx\", index_label=\"index\")"
   ],
   "metadata": {
    "collapsed": false
   },
   "execution_count": null
  }
 ],
 "metadata": {
  "kernelspec": {
   "name": "python3",
   "language": "python",
   "display_name": "Python 3 (ipykernel)"
  },
  "language_info": {
   "codemirror_mode": {
    "name": "ipython",
    "version": 2
   },
   "file_extension": ".py",
   "mimetype": "text/x-python",
   "name": "python",
   "nbconvert_exporter": "python",
   "pygments_lexer": "ipython2",
   "version": "2.7.6"
  }
 },
 "nbformat": 4,
 "nbformat_minor": 0
}
