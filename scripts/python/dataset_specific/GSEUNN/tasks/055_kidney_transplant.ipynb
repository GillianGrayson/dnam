{
 "cells": [
  {
   "cell_type": "code",
   "execution_count": null,
   "outputs": [],
   "source": [
    "%load_ext autoreload\n",
    "%autoreload 2"
   ],
   "metadata": {
    "collapsed": false
   }
  },
  {
   "cell_type": "code",
   "execution_count": null,
   "outputs": [],
   "source": [
    "import pandas as pd\n",
    "import numpy as np\n",
    "from scipy import stats\n",
    "import seaborn as sns\n",
    "import plotly.express as px\n",
    "import statsmodels.formula.api as smf\n",
    "import plotly.graph_objects as go\n",
    "from scripts.python.routines.manifest import get_manifest\n",
    "from scripts.python.routines.plot.save import save_figure\n",
    "from scripts.python.routines.plot.layout import add_layout\n",
    "from statsmodels.stats.multitest import multipletests\n",
    "import plotly.io as pio\n",
    "pio.kaleido.scope.mathjax = None\n",
    "from plotly.offline import init_notebook_mode\n",
    "init_notebook_mode(connected=False)\n",
    "from scipy.stats import mannwhitneyu, median_test, kruskal, wilcoxon, friedmanchisquare\n",
    "import matplotlib.pyplot as plt\n",
    "import matplotlib\n",
    "import matplotlib.patheffects as path_effects\n",
    "import random\n",
    "import pathlib\n",
    "from tqdm import tqdm\n",
    "from src.utils.plot.bioinfokit import mhat, volcano\n",
    "import gseapy as gp\n",
    "import mygene\n",
    "from sklearn.decomposition import PCA, IncrementalPCA, KernelPCA, TruncatedSVD\n",
    "from sklearn.decomposition import MiniBatchDictionaryLearning, FastICA\n",
    "from sklearn.random_projection import GaussianRandomProjection, SparseRandomProjection\n",
    "from sklearn.manifold import MDS, Isomap, TSNE, LocallyLinearEmbedding\n",
    "import upsetplot\n",
    "from matplotlib_venn import venn2, venn2_circles\n",
    "from itertools import chain\n",
    "from sklearn.metrics import mean_absolute_error\n",
    "from scripts.python.routines.plot.colorscales import get_continuous_color\n",
    "import plotly\n",
    "from scripts.python.routines.plot.p_value import add_p_value_annotation\n",
    "from scripts.python.routines.sections import get_sections\n",
    "from statannotations.Annotator import Annotator\n",
    "import functools\n",
    "import matplotlib.lines as mlines\n",
    "import patchworklib as pw\n",
    "\n",
    "\n",
    "def conjunction(conditions):\n",
    "    return functools.reduce(np.logical_and, conditions)\n",
    "\n",
    "\n",
    "def disjunction(conditions):\n",
    "    return functools.reduce(np.logical_or, conditions)"
   ],
   "metadata": {
    "collapsed": false
   }
  },
  {
   "cell_type": "markdown",
   "source": [
    "# Init data"
   ],
   "metadata": {
    "collapsed": false
   }
  },
  {
   "cell_type": "code",
   "execution_count": null,
   "outputs": [],
   "source": [
    "path = f\"D:/YandexDisk/Work/pydnameth/datasets/GPL21145/GSEUNN\"\n",
    "\n",
    "age_types = {\n",
    "    \"DNAmAgeHannum_harm\": \"Hannum\",\n",
    "    \"DNAmAge_harm\": \"Horvath\",\n",
    "    \"DNAmPhenoAge_harm\": \"PhenoAge\",\n",
    "    \"DNAmGrimAge_harm\": \"GrimAge\",\n",
    "    \"mPACE\": \"DunedinPACE\"\n",
    "}\n",
    "for x in [\"PCHorvath1\", \"PCHorvath2\", \"PCHannum\", \"PCPhenoAge\", \"PCGrimAge\"]:\n",
    "    age_types[x] = x\n",
    "ages = list(age_types.values())\n",
    "\n",
    "df_epi = pd.read_excel(f\"{path}/pheno.xlsx\", index_col=0)\n",
    "df_epi.rename(columns={'TR_status': 'Transplantation'}, inplace=True)\n",
    "df_epi['Transplantation'].replace({'before': 'Before', '1y': 'After 1 Year'}, inplace=True)\n",
    "colors = {'Before': 'crimson', 'After 1 Year': 'dodgerblue'}\n",
    "df_epi = df_epi.loc[df_epi['Transplantation'].isin(list(colors.keys())), list(age_types.keys()) + ['Age', 'Transplantation', 'Subject_ID']]\n",
    "df_epi.rename(columns=age_types, inplace=True)\n",
    "ages_acc = ['DunedinPACE']\n",
    "for x in ages:\n",
    "    if x != 'DunedinPACE':\n",
    "        df_epi[f\"{x}Acc\"] = df_epi[x] - df_epi['Age']\n",
    "        ages_acc.append(f\"{x}Acc\")\n",
    "    \n",
    "df_imm = pd.read_excel(f\"{path}/data/immuno/df_samples(all_1052_121222)_proc(raw)_imp(fast_knn)_replace(quarter).xlsx\", index_col=0)\n",
    "df_imm = df_imm.loc[(df_imm['Donor/Recipient'].notnull()) & (df_imm['Transplantation Time'].isin(['Before', 'After', 'After 1 Year'])), :]\n",
    "\n",
    "path_save = f\"{path}/special/055_kidney_transplant\"\n",
    "for p in [f\"{path_save}/epi\", f\"{path_save}/imm\"]:\n",
    "    pathlib.Path(p).mkdir(parents=True, exist_ok=True)"
   ],
   "metadata": {
    "collapsed": false
   }
  },
  {
   "cell_type": "markdown",
   "source": [
    "# Epi data"
   ],
   "metadata": {
    "collapsed": false
   }
  },
  {
   "cell_type": "code",
   "execution_count": null,
   "outputs": [],
   "source": [
    "fig = plt.figure(figsize=(3, 0.5))\n",
    "sns.set_theme(style='whitegrid', font_scale=1)\n",
    "countplot = sns.countplot(\n",
    "    data=df_epi,\n",
    "    y='Transplantation',\n",
    "    edgecolor='black',\n",
    "    palette=colors,\n",
    "    orient='v',\n",
    "    order=list(colors.keys())\n",
    ")\n",
    "countplot.bar_label(countplot.containers[0])\n",
    "countplot.set_xlabel(\"Count\")\n",
    "countplot.set_ylabel(\"\")\n",
    "countplot.set_title(f\"\")\n",
    "plt.savefig(f\"{path_save}/epi/countplot.png\", bbox_inches='tight', dpi=400)\n",
    "plt.savefig(f\"{path_save}/epi/countplot.pdf\", bbox_inches='tight')\n",
    "plt.close(fig)"
   ],
   "metadata": {
    "collapsed": false
   }
  },
  {
   "cell_type": "code",
   "execution_count": null,
   "outputs": [],
   "source": [
    "df_stat = pd.DataFrame(index=ages_acc)\n",
    "for feat in ages_acc:\n",
    "    df_pivot = df_epi.pivot(index='Subject_ID', columns='Transplantation', values=feat)\n",
    "    res = wilcoxon(\n",
    "        x=df_pivot.loc[:, 'Before'].values,\n",
    "        y=df_pivot.loc[:, 'After 1 Year'].values,\n",
    "        alternative='two-sided'\n",
    "    )\n",
    "    df_stat.at[feat, \"pval\"] = res.pvalue\n",
    "_, df_stat.loc[ages_acc, \"pval_fdr_bh\"], _, _ = multipletests(df_stat.loc[ages_acc, \"pval\"], 0.05, method='fdr_bh')\n",
    "df_stat.sort_values([f\"pval_fdr_bh\"], ascending=[True], inplace=True)\n",
    "df_stat.to_excel(f\"{path_save}/epi/stat.xlsx\", index_label='Features')\n",
    "\n",
    "axs = {}\n",
    "pw_rows = []\n",
    "n_cols = 5\n",
    "n_rows = int(np.ceil(len(ages_acc) / n_cols))\n",
    "for r_id in range(n_rows):\n",
    "    pw_cols = []\n",
    "    for c_id in range(n_cols):\n",
    "        rc_id = r_id * n_cols + c_id\n",
    "        if rc_id < len(ages_acc):\n",
    "            feat = ages_acc[rc_id]\n",
    "            axs[feat] = pw.Brick(figsize=(2, 2))\n",
    "            sns.set_theme(style='whitegrid')\n",
    "            pointplot = sns.pointplot(\n",
    "                data=df_epi,\n",
    "                x='Transplantation',\n",
    "                y=feat,\n",
    "                hue='Subject_ID',\n",
    "                legend=False,\n",
    "                ax=axs[feat]\n",
    "            )\n",
    "            axs[feat].set_xlabel(\"\")\n",
    "            #axs[feat].legend([],[], frameon=False)\n",
    "            axs[feat].legend(loc='center left', bbox_to_anchor=(1.01, 0.5), ncol=1)\n",
    "            axs[feat].set_title(f\"p-value: {df_stat.at[feat, 'pval_fdr_bh']:.2e}\")\n",
    "            pw_cols.append(axs[feat])\n",
    "        else:\n",
    "            empty_fig = pw.Brick(figsize=(2, 2))\n",
    "            empty_fig.axis('off')\n",
    "            pw_cols.append(empty_fig)\n",
    "    pw_rows.append(pw.stack(pw_cols, operator=\"|\"))\n",
    "pw_fig = pw.stack(pw_rows, operator=\"/\")\n",
    "pw_fig.savefig(f\"{path_save}/epi/feats.pdf\")\n",
    "pw_fig.savefig(f\"{path_save}/epi/feats.png\")\n",
    "pw.clear()"
   ],
   "metadata": {
    "collapsed": false
   }
  },
  {
   "cell_type": "markdown",
   "source": [
    "# Imm data"
   ],
   "metadata": {
    "collapsed": false
   }
  },
  {
   "cell_type": "code",
   "execution_count": null,
   "outputs": [],
   "source": [
    "dfs_imm = {\n",
    "    'Donors': df_imm.loc[df_imm['Donor/Recipient'] == 'Donor', :],\n",
    "    'Recipients': df_imm.loc[df_imm['Donor/Recipient'] == 'Recipient', :],\n",
    "}\n",
    "\n",
    "for patients, df_patients in dfs_imm.items():\n",
    "    df_0_1_2 = df_patients.loc[df_patients['Transplantation Time'].isin(['Before', 'After', 'After 1 Year'])].pivot(index='Subject ID', columns='Transplantation Time', values='SImAge acceleration')\n",
    "    df_0_1_2 = df_0_1_2[~df_0_1_2.isnull().any(axis=1)]\n",
    "    df_0_1 = df_patients.loc[df_patients['Transplantation Time'].isin(['Before', 'After', ])].pivot(index='Subject ID', columns='Transplantation Time', values='SImAge acceleration')\n",
    "    df_0_1 = df_0_1[~df_0_1.isnull().any(axis=1)]\n",
    "    df_0_2 = df_patients.loc[df_patients['Transplantation Time'].isin(['Before', 'After 1 Year'])].pivot(index='Subject ID', columns='Transplantation Time', values='SImAge acceleration')\n",
    "    df_0_2 = df_0_2[~df_0_2.isnull().any(axis=1)]\n",
    "    \n",
    "    times = {\n",
    "        '0-1-2': ['Before', 'After', 'After 1 Year'],\n",
    "        '0-1': ['Before', 'After'],\n",
    "        '0-2': ['Before', 'After 1 Year']\n",
    "    }\n",
    "    dfs_times = {\n",
    "        '0-1-2': df_0_1_2,\n",
    "        '0-1': df_0_1,\n",
    "        '0-2': df_0_2\n",
    "    }\n",
    "    \n",
    "    for group in times:\n",
    "        if group == '0-1':\n",
    "            res = wilcoxon(\n",
    "                x=dfs_times[group].loc[:, 'Before'].values,\n",
    "                y=dfs_times[group].loc[:, 'After'].values,\n",
    "                alternative='two-sided'\n",
    "            )\n",
    "        elif group == '0-2':\n",
    "            res = wilcoxon(\n",
    "                x=dfs_times[group].loc[:, 'Before'].values,\n",
    "                y=dfs_times[group].loc[:, 'After 1 Year'].values,\n",
    "                alternative='two-sided'\n",
    "            )\n",
    "        else:\n",
    "            res = friedmanchisquare(\n",
    "                dfs_times[group].loc[:, 'Before'].values,\n",
    "                dfs_times[group].loc[:, 'After'].values,\n",
    "                dfs_times[group].loc[:, 'After 1 Year'].values,\n",
    "            )\n",
    "        df_melt = dfs_times[group].melt(\n",
    "            var_name='Transplantation Time',\n",
    "            value_name='SImAge acceleration',\n",
    "            ignore_index=False\n",
    "        )\n",
    "        df_melt['Subject ID'] = df_melt.index\n",
    "        \n",
    "        fig = plt.figure(figsize=(6, 4))\n",
    "        sns.set_theme(style='whitegrid')\n",
    "        pointplot = sns.pointplot(\n",
    "            data=df_melt,\n",
    "            order=times[group],\n",
    "            x='Transplantation Time',\n",
    "            y='SImAge acceleration',\n",
    "            hue='Subject ID',\n",
    "            legend=False,\n",
    "        )\n",
    "        pointplot.set_xlabel(\"\")\n",
    "        pointplot.legend(loc='center left', bbox_to_anchor=(1.01, 0.5), ncol=1)\n",
    "        pointplot.set_title(f\"p-value: {res.pvalue:.2e}\")\n",
    "        plt.savefig(f\"{path_save}/imm/{patients}_{group}_SImAgeAcc.png\", bbox_inches='tight', dpi=300)\n",
    "        plt.savefig(f\"{path_save}/imm/{patients}_{group}_SImAgeAcc.pdf\", bbox_inches='tight')\n",
    "        plt.close(fig)"
   ],
   "metadata": {
    "collapsed": false
   }
  },
  {
   "cell_type": "markdown",
   "source": [
    "# Update pheno.xlsx"
   ],
   "metadata": {
    "collapsed": false
   }
  },
  {
   "cell_type": "code",
   "execution_count": null,
   "outputs": [],
   "source": [
    "path = f\"D:/YandexDisk/Work/pydnameth/datasets/GPL21145/GSEUNN\"\n",
    "df_epi = pd.read_excel(f\"{path}/pheno.xlsx\", index_col=0)\n",
    "df_metrics = pd.read_excel(f\"{path}/data/many_metrics.xlsx\", index_col=0)"
   ],
   "metadata": {
    "collapsed": false
   }
  },
  {
   "cell_type": "code",
   "execution_count": null,
   "outputs": [],
   "source": [
    "ids_dial = df_metrics.index[df_metrics['Dialysis (months)'].notnull()].values\n",
    "df_epi.loc[ids_dial, 'Dialysis (months)'] = df_metrics.loc[ids_dial, 'Dialysis (months)']\n",
    "df_epi.to_excel(f\"{path}/pheno111.xlsx\", index_label='index')"
   ],
   "metadata": {
    "collapsed": false
   }
  },
  {
   "cell_type": "markdown",
   "source": [
    "# Controls and ESRDs with dialysis: DNAm"
   ],
   "metadata": {
    "collapsed": false
   }
  },
  {
   "cell_type": "code",
   "execution_count": null,
   "outputs": [],
   "source": [
    "path = f\"D:/YandexDisk/Work/pydnameth/datasets/GPL21145/GSEUNN\"\n",
    "df_epi = pd.read_excel(f\"{path}/pheno.xlsx\", index_col=0)\n",
    "df_epi.drop([\"I64_old\", \"I1_duplicate\"], inplace=True)\n",
    "df_long = df_epi['Subject_ID'].value_counts().to_frame()\n",
    "df_long = df_long[df_long['Subject_ID'] > 1]\n",
    "ids_long = df_long.index.values"
   ],
   "metadata": {
    "collapsed": false
   }
  },
  {
   "cell_type": "code",
   "execution_count": null,
   "outputs": [],
   "source": [
    "ids_long_dial = list(set.intersection(set(ids_long), df_epi.index[df_epi['Dialysis (months)'].notnull()].values))\n",
    "ids_long_ctrl = list(set.intersection(set(ids_long), df_epi.index[df_epi['Status'] == \"Control\"].values))\n",
    "\n",
    "experiments = {\n",
    "    'esrd_dial': df_epi.loc[df_epi['Subject_ID'].isin(ids_long_dial), :].copy(),\n",
    "    'controls': df_epi.loc[df_epi['Subject_ID'].isin(ids_long_ctrl), :].copy()\n",
    "}"
   ],
   "metadata": {
    "collapsed": false
   }
  },
  {
   "cell_type": "code",
   "execution_count": null,
   "outputs": [],
   "source": [
    "colors = {'T0': 'crimson', 'T1': 'dodgerblue', 'T2': 'lawngreen', 'T3': 'orange', 'T4': 'purple'}\n",
    "age_types = {\n",
    "    \"DNAmAgeHannum_harm\": \"Hannum\",\n",
    "    \"DNAmAge_harm\": \"Horvath\",\n",
    "    \"DNAmPhenoAge_harm\": \"PhenoAge\",\n",
    "    \"DNAmGrimAge_harm\": \"GrimAge\",\n",
    "    \"mPACE\": \"DunedinPACE\"\n",
    "}\n",
    "for x in [\"PCHorvath1\", \"PCHorvath2\", \"PCHannum\", \"PCPhenoAge\", \"PCGrimAge\"]:\n",
    "    age_types[x] = x\n",
    "ages = list(age_types.values())\n",
    "path_save = f\"{path}/special/055_kidney_transplant\"\n",
    "for p in [f\"{path_save}/esrd_dial\", f\"{path_save}/controls\"]:\n",
    "    pathlib.Path(p).mkdir(parents=True, exist_ok=True)"
   ],
   "metadata": {
    "collapsed": false
   }
  },
  {
   "cell_type": "code",
   "execution_count": null,
   "outputs": [],
   "source": [
    "for expt, df_expt in experiments.items():\n",
    "\n",
    "    df_expt.rename(columns={'Sample_Chronology': 'Time'}, inplace=True)\n",
    "    df_expt['Time'].replace({0: 'T0', 1: 'T1', 2: 'T2', 3: 'T3'}, inplace=True)\n",
    "    df_expt = df_expt[df_expt['Time'].isin(['T0', 'T1'])]\n",
    "    df_expt = df_expt.loc[:, list(age_types.keys()) + ['Age', 'Time', 'Subject_ID']]\n",
    "    df_expt.rename(columns=age_types, inplace=True)\n",
    "    ages_acc = ['DunedinPACE']\n",
    "    \n",
    "    for x in ages:\n",
    "        if x != 'DunedinPACE':\n",
    "            df_expt[f\"{x}Acc\"] = df_expt[x] - df_expt['Age']\n",
    "            ages_acc.append(f\"{x}Acc\")\n",
    "            \n",
    "    df_stat = pd.DataFrame(index=ages_acc)\n",
    "    for feat in ages_acc:\n",
    "        df_pivot = df_expt.pivot(index='Subject_ID', columns='Time', values=feat)\n",
    "        res = wilcoxon(\n",
    "            x=df_pivot.loc[:, 'T0'].values,\n",
    "            y=df_pivot.loc[:, 'T1'].values,\n",
    "            alternative='two-sided'\n",
    "        )\n",
    "        df_stat.at[feat, \"pval\"] = res.pvalue\n",
    "    _, df_stat.loc[ages_acc, \"pval_fdr_bh\"], _, _ = multipletests(df_stat.loc[ages_acc, \"pval\"], 0.05, method='fdr_bh')\n",
    "    df_stat.sort_values([f\"pval_fdr_bh\"], ascending=[True], inplace=True)\n",
    "    df_stat.to_excel(f\"{path_save}/{expt}/stat.xlsx\", index_label='Features')\n",
    "    \n",
    "    axs = {}\n",
    "    pw_rows = []\n",
    "    n_cols = 2\n",
    "    n_rows = int(np.ceil(len(ages_acc) / n_cols))\n",
    "    for r_id in range(n_rows):\n",
    "        pw_cols = []\n",
    "        for c_id in range(n_cols):\n",
    "            rc_id = r_id * n_cols + c_id\n",
    "            if rc_id < len(ages_acc):\n",
    "                feat = ages_acc[rc_id]\n",
    "                axs[feat] = pw.Brick(figsize=(2, 2))\n",
    "                sns.set_theme(style='whitegrid')\n",
    "                pointplot = sns.pointplot(\n",
    "                    data=df_expt,\n",
    "                    x='Time',\n",
    "                    y=feat,\n",
    "                    hue='Subject_ID',\n",
    "                    legend=False,\n",
    "                    ax=axs[feat]\n",
    "                )\n",
    "                axs[feat].set_xlabel(\"\")\n",
    "                #axs[feat].legend([],[], frameon=False)\n",
    "                axs[feat].legend(loc='center left', bbox_to_anchor=(1.01, 0.5), ncol=4)\n",
    "                axs[feat].set_title(f\"p-value: {df_stat.at[feat, 'pval_fdr_bh']:.2e}\")\n",
    "                pw_cols.append(axs[feat])\n",
    "            else:\n",
    "                empty_fig = pw.Brick(figsize=(2, 2))\n",
    "                empty_fig.axis('off')\n",
    "                pw_cols.append(empty_fig)\n",
    "        pw_rows.append(pw.stack(pw_cols, operator=\"|\"))\n",
    "    pw_fig = pw.stack(pw_rows, operator=\"/\")\n",
    "    pw_fig.savefig(f\"{path_save}/{expt}/feats.pdf\")\n",
    "    pw_fig.savefig(f\"{path_save}/{expt}/feats.png\")\n",
    "    pw.clear()      "
   ],
   "metadata": {
    "collapsed": false
   }
  },
  {
   "cell_type": "markdown",
   "source": [
    "# Update immunodata"
   ],
   "metadata": {
    "collapsed": false
   }
  },
  {
   "cell_type": "code",
   "execution_count": null,
   "outputs": [],
   "source": [
    "path = f\"D:/YandexDisk/Work/pydnameth/datasets/GPL21145/GSEUNN\"\n",
    "df_imm = pd.read_excel(f\"{path}/data/immuno/df_samples(all_1052_121222)_proc(raw)_imp(fast_knn)_replace(quarter).xlsx\", index_col=0)\n",
    "df_epi = pd.read_excel(f\"{path}/pheno.xlsx\", index_col=0)\n",
    "df_epi.drop([\"I64_old\", \"I1_duplicate\"], inplace=True)\n",
    "ids_cmn = df_imm.index.intersection(df_epi.index).values"
   ],
   "metadata": {
    "collapsed": false
   }
  },
  {
   "cell_type": "code",
   "execution_count": null,
   "outputs": [],
   "source": [
    "df_imm.loc[ids_cmn, 'Dialysis (months)'] = df_epi.loc[ids_cmn, 'Dialysis (months)']\n",
    "df_imm.loc[ids_cmn, 'Subject ID'] = df_epi.loc[ids_cmn, 'Subject_ID']\n",
    "df_imm['Sample_Chronology'] = -1\n",
    "df_imm.loc[ids_cmn, 'Sample_Chronology'] = df_epi.loc[ids_cmn, 'Sample_Chronology']"
   ],
   "metadata": {
    "collapsed": false
   }
  },
  {
   "cell_type": "code",
   "execution_count": null,
   "outputs": [],
   "source": [
    "df_long = df_imm['Subject ID'].value_counts().to_frame()"
   ],
   "metadata": {
    "collapsed": false
   }
  },
  {
   "cell_type": "code",
   "execution_count": null,
   "outputs": [],
   "source": [
    "df_imm['Is longitudinal?'] = False\n",
    "df_imm.loc[df_imm['Subject ID'].isin(df_long.index[df_long['Subject ID'] > 1].values), 'Is longitudinal?'] = True"
   ],
   "metadata": {
    "collapsed": false
   }
  },
  {
   "cell_type": "code",
   "execution_count": null,
   "outputs": [],
   "source": [
    "df_imm.to_excel(f\"{path}/data/immuno/11111111.xlsx\", index_label='index')"
   ],
   "metadata": {
    "collapsed": false
   }
  },
  {
   "cell_type": "markdown",
   "source": [
    "# Controls and ESRDs with dialysis: Immuno"
   ],
   "metadata": {
    "collapsed": false
   }
  },
  {
   "cell_type": "code",
   "execution_count": null,
   "outputs": [],
   "source": [
    "df_imm = pd.read_excel(f\"{path}/data/immuno/df_samples(all_1052_121222)_proc(raw)_imp(fast_knn)_replace(quarter).xlsx\", index_col=0)\n",
    "colors = {'T0': 'crimson', 'T1': 'dodgerblue', 'T2': 'lawngreen', 'T3': 'orange', 'T4': 'purple'}\n",
    "\n",
    "df_long = df_imm['Subject ID'].value_counts().to_frame()\n",
    "df_long = df_long[df_long['Subject ID'] > 1]\n",
    "ids_long = df_long.index.values\n",
    "ids_long_dial = list(set.intersection(set(ids_long), df_imm.index[df_imm['Dialysis (months)'].notnull()].values))\n",
    "ids_long_ctrl = list(set.intersection(set(ids_long), df_imm.index[df_imm['Status'] == \"Control\"].values))"
   ],
   "metadata": {
    "collapsed": false
   }
  },
  {
   "cell_type": "code",
   "execution_count": null,
   "outputs": [],
   "source": [
    "experiments = {\n",
    "    'esrd_dial': df_imm.loc[df_imm['Subject ID'].isin(ids_long_dial), :].copy(),\n",
    "    'controls': df_imm.loc[df_imm['Subject ID'].isin(ids_long_ctrl), :].copy()\n",
    "}"
   ],
   "metadata": {
    "collapsed": false
   }
  },
  {
   "cell_type": "code",
   "execution_count": null,
   "outputs": [],
   "source": [
    "for expt, df_expt in experiments.items():\n",
    "\n",
    "    df_expt.rename(columns={'Sample_Chronology': 'Time'}, inplace=True)\n",
    "    df_expt['Time'].replace({0: 'T0', 1: 'T1', 2: 'T2', 3: 'T3'}, inplace=True)\n",
    "    df_expt = df_expt[df_expt['Time'].isin(['T0', 'T1'])]\n",
    "    print(df_expt.shape)\n",
    "    df_pivot = df_expt.pivot(index='Subject ID', columns='Time', values='SImAge acceleration')\n",
    "\n",
    "\n",
    "    res = wilcoxon(\n",
    "        x=df_pivot.loc[:, 'T0'].values,\n",
    "        y=df_pivot.loc[:, 'T1'].values,\n",
    "        alternative='two-sided'\n",
    "    )\n",
    "    \n",
    "    fig = plt.figure(figsize=(6, 4))\n",
    "    sns.set_theme(style='whitegrid')\n",
    "    pointplot = sns.pointplot(\n",
    "        data=df_expt,\n",
    "        order=['T0', 'T1'],\n",
    "        x='Time',\n",
    "        y='SImAge acceleration',\n",
    "        hue='Subject ID',\n",
    "        legend=False,\n",
    "    )\n",
    "    pointplot.set_xlabel(\"\")\n",
    "    pointplot.legend(loc='center left', bbox_to_anchor=(1.01, 0.5), ncol=2)\n",
    "    pointplot.set_title(f\"p-value: {res.pvalue:.2e}\")\n",
    "    pathlib.Path(f\"{path_save}/imm/{expt}\").mkdir(parents=True, exist_ok=True)\n",
    "    plt.savefig(f\"{path_save}/imm/{expt}/SImAgeAcc.png\", bbox_inches='tight', dpi=300)\n",
    "    plt.savefig(f\"{path_save}/imm/{expt}/SImAgeAcc.pdf\", bbox_inches='tight')\n",
    "    plt.close(fig)"
   ],
   "metadata": {
    "collapsed": false
   }
  }
 ],
 "metadata": {
  "kernelspec": {
   "name": "python3",
   "language": "python",
   "display_name": "Python 3 (ipykernel)"
  },
  "language_info": {
   "codemirror_mode": {
    "name": "ipython",
    "version": 2
   },
   "file_extension": ".py",
   "mimetype": "text/x-python",
   "name": "python",
   "nbconvert_exporter": "python",
   "pygments_lexer": "ipython2",
   "version": "2.7.6"
  }
 },
 "nbformat": 4,
 "nbformat_minor": 0
}
